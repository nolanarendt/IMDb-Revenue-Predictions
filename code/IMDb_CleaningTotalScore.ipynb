{
 "cells": [
  {
   "cell_type": "markdown",
   "metadata": {},
   "source": [
    "# IMDB Movie Cleaning Total Score\n",
    "![ImdbIcon](../images/imdbheader.jpg)"
   ]
  },
  {
   "cell_type": "markdown",
   "metadata": {},
   "source": [
    "### Notebook Overview\n",
    "\n",
    "In this notebook I will be reading in four seperate datasets and merging them together based off of specific id columns. I remove columns with too many null values to work with and impute a very small amount of values (mean for 18 rows). I fill some nan values with unknown such as the plot and director where necessary so that I don't remove too many roww of valuable data. The location is very important, and movies outside the USA have too many null values so I chose to only work with USA movies. I am only focusing on specific roles such as actors, actresses, and director, so I removed those that are not as important for this specific project. I also took out all individuals that have passed away so that I do not have a recommended role for someone that has passed away. I also took only movies in the past 50 years so that I do not have recommendations for people that may have passed away similar to date of death column. I also split the genre columns because some movies have multiple genres, and by splitting, I can account for a persons impact in the specific genre instead of removing."
   ]
  },
  {
   "cell_type": "markdown",
   "metadata": {},
   "source": [
    "### Imports"
   ]
  },
  {
   "cell_type": "code",
   "execution_count": 1,
   "metadata": {},
   "outputs": [
    {
     "name": "stderr",
     "output_type": "stream",
     "text": [
      "C:\\Users\\nolan_fur2pfn\\.conda\\envs\\dsi\\lib\\site-packages\\numpy\\_distributor_init.py:32: UserWarning: loaded more than 1 DLL from .libs:\n",
      "C:\\Users\\nolan_fur2pfn\\.conda\\envs\\dsi\\lib\\site-packages\\numpy\\.libs\\libopenblas.NOIJJG62EMASZI6NYURL6JBKM4EVBGM7.gfortran-win_amd64.dll\n",
      "C:\\Users\\nolan_fur2pfn\\.conda\\envs\\dsi\\lib\\site-packages\\numpy\\.libs\\libopenblas.PYQHXLVVQ7VESDPUVUADXEVJOBGHJPAY.gfortran-win_amd64.dll\n",
      "  stacklevel=1)\n"
     ]
    }
   ],
   "source": [
    "import numpy as np\n",
    "import pandas as pd\n",
    "import matplotlib.pyplot as plt\n",
    "import seaborn as sns\n",
    "\n",
    "from nltk.sentiment.vader import SentimentIntensityAnalyzer"
   ]
  },
  {
   "cell_type": "markdown",
   "metadata": {},
   "source": [
    "### Import Data"
   ]
  },
  {
   "cell_type": "code",
   "execution_count": 2,
   "metadata": {},
   "outputs": [
    {
     "name": "stderr",
     "output_type": "stream",
     "text": [
      "C:\\Users\\nolan_fur2pfn\\.conda\\envs\\dsi\\lib\\site-packages\\IPython\\core\\interactiveshell.py:3147: DtypeWarning: Columns (3) have mixed types.Specify dtype option on import or set low_memory=False.\n",
      "  interactivity=interactivity, compiler=compiler, result=result)\n",
      "C:\\Users\\nolan_fur2pfn\\.conda\\envs\\dsi\\lib\\site-packages\\IPython\\core\\interactiveshell.py:3147: DtypeWarning: Columns (5,6,7,8,9,10,11,12,13,14,15,16,17,18,19,20,21,22,23,24,25,26,27,28,29,30,31,32,33,34,35,36,37,38,39,40,41,42,43,44,45,46,47,48,49,50,51,52,53,54,55,56,57,58,59,60,61,62,63,64,65,66,67,68,69,70,71,72,73,74,75,76,77,78,79,80,81,82,83,84,85,86,87,88,89,90,91,92,93,94,95,96,97,98,99,100,101,103,104,105,106,107,108,109,110,111,112,113,114,115,116,117,118,119,120,121,122,123) have mixed types.Specify dtype option on import or set low_memory=False.\n",
      "  interactivity=interactivity, compiler=compiler, result=result)\n"
     ]
    }
   ],
   "source": [
    "movies = pd.read_csv('../data/IMDb_movies.csv')\n",
    "names = pd.read_csv('../data/IMDb_names.csv')\n",
    "ratings = pd.read_csv('../data/IMDb_ratings.csv')\n",
    "titles = pd.read_csv('../data/IMDb_title_principals.csv')\n",
    "budgets_df = pd.read_csv('../data/tmdb_movies_data.csv')"
   ]
  },
  {
   "cell_type": "markdown",
   "metadata": {},
   "source": [
    "### Merge Data"
   ]
  },
  {
   "cell_type": "code",
   "execution_count": 3,
   "metadata": {},
   "outputs": [],
   "source": [
    "# Merging movies with ratings\n",
    "movies = movies.merge(ratings, left_on = 'imdb_title_id', right_on = 'imdb_title_id')\n",
    "# Merging movives with tiles\n",
    "movies = movies.merge(titles, left_on = 'imdb_title_id', right_on = 'imdb_title_id')\n",
    "# Merging movies with names (actors/actresses/directors)\n",
    "movies = movies.merge(names, left_on = 'imdb_name_id', right_on = 'imdb_name_id')"
   ]
  },
  {
   "cell_type": "markdown",
   "metadata": {},
   "source": [
    "### Dropping Columns"
   ]
  },
  {
   "cell_type": "code",
   "execution_count": 4,
   "metadata": {},
   "outputs": [],
   "source": [
    "# Dropping columns that serve no values\n",
    "movies.drop(columns = ['imdb_title_id', 'title', 'language', 'production_company', 'budget', 'metascore', 'reviews_from_critics', \n",
    "                       'usa_gross_income', 'worlwide_gross_income', 'allgenders_0age_avg_vote', 'allgenders_0age_votes', \n",
    "                       'allgenders_18age_avg_vote','allgenders_18age_votes', 'males_0age_avg_vote', 'males_0age_votes',\n",
    "                       'males_18age_avg_vote', 'males_18age_votes', 'females_0age_avg_vote', 'females_0age_votes', \n",
    "                       'females_18age_avg_vote', 'females_18age_votes', 'females_30age_avg_vote', 'females_30age_votes', \n",
    "                       'females_45age_avg_vote', 'females_45age_votes', 'job', 'characters', 'imdb_name_id', 'birth_name',\n",
    "                       'reviews_from_users', 'writer', 'allgenders_30age_avg_vote', 'allgenders_30age_votes', \n",
    "                       'allgenders_45age_avg_vote', 'allgenders_45age_votes', 'males_allages_avg_vote', 'males_allages_votes', \n",
    "                       'males_30age_avg_vote',  'males_30age_votes', 'males_45age_avg_vote', 'males_45age_votes', \n",
    "                       'females_allages_avg_vote', 'females_allages_votes', 'top1000_voters_rating', 'top1000_voters_votes', \n",
    "                       'date_published', 'ordering', 'director', 'non_us_voters_rating', 'non_us_voters_votes'], inplace=True)"
   ]
  },
  {
   "cell_type": "markdown",
   "metadata": {},
   "source": [
    "### Cleaning"
   ]
  },
  {
   "cell_type": "code",
   "execution_count": 5,
   "metadata": {},
   "outputs": [],
   "source": [
    "# Removing columns that were not movies\n",
    "movies = movies[movies['year'] != 'TV Movie 2019']\n",
    "# Movies outside the United States had a lot of missing data.\n",
    "movies = movies[movies['country'] == 'USA']\n",
    "# Removing both Reality-TV \n",
    "movies = movies[(movies['genre'] != 'Reality-TV') & (movies['genre'] != 'News')]"
   ]
  },
  {
   "cell_type": "code",
   "execution_count": 6,
   "metadata": {},
   "outputs": [],
   "source": [
    "# A small amount of movies had no description, so I could fill those with Unknown to keep valuable data.\n",
    "movies['description'] = movies['description'].fillna(\"Unknown\")"
   ]
  },
  {
   "cell_type": "code",
   "execution_count": 7,
   "metadata": {},
   "outputs": [],
   "source": [
    "# Less than twenty rows were missing voters rating, so I felt comfortable imputing the mean.\n",
    "movies['us_voters_rating'].fillna((movies['us_voters_rating'].mean()), inplace=True)\n",
    "# Less than twenty rows were missing voters votes, so I felt comfortable imputing the mean.\n",
    "movies['us_voters_votes'].fillna((movies['us_voters_votes'].mean()), inplace=True)"
   ]
  },
  {
   "cell_type": "code",
   "execution_count": 8,
   "metadata": {},
   "outputs": [],
   "source": [
    "# Only looking to work with actors, actresses, and directors.\n",
    "jobs_list = ['actor', 'actress', 'director']\n",
    "\n",
    "movies = movies[movies['category'].isin(jobs_list)]"
   ]
  },
  {
   "cell_type": "code",
   "execution_count": 9,
   "metadata": {},
   "outputs": [],
   "source": [
    "movies.reset_index(drop=True, inplace=True)"
   ]
  },
  {
   "cell_type": "code",
   "execution_count": 10,
   "metadata": {},
   "outputs": [],
   "source": [
    "# Removing date_of_death and date_of_birth, no longer necessary\n",
    "movies.drop(columns = ['date_of_death', 'date_of_birth'], inplace=True)"
   ]
  },
  {
   "cell_type": "code",
   "execution_count": 11,
   "metadata": {},
   "outputs": [],
   "source": [
    "# Converting column year to integer\n",
    "movies['year'] = movies['year'].astype('int64')"
   ]
  },
  {
   "cell_type": "code",
   "execution_count": 12,
   "metadata": {},
   "outputs": [],
   "source": [
    "# Renaming original title, category, and description.\n",
    "movies.rename(columns = {'original_title':'movie_title',\n",
    "                          'category':'role',\n",
    "                         'description':'plot'}, inplace=True)"
   ]
  },
  {
   "cell_type": "markdown",
   "metadata": {},
   "source": [
    "### Dummify Genre"
   ]
  },
  {
   "cell_type": "code",
   "execution_count": 13,
   "metadata": {},
   "outputs": [],
   "source": [
    "# Using str.get_dummes(\",\", I can have multiple values in dummy columns)\n",
    "# For genre, if a movie is Horror AND Action, a 1 is placed in both of those columns\n",
    "genre_dummies = movies['genre'].str.get_dummies(\", \")\n",
    "# Merging the dummified columns back to the movie dataframe\n",
    "movies = pd.merge(movies, genre_dummies, left_index =True, right_index=True)\n",
    "# Dropping genre and country. Only USA movies and genre is now dummified.\n",
    "movies.drop(columns = ['genre', 'country'], inplace=True)"
   ]
  },
  {
   "cell_type": "code",
   "execution_count": 14,
   "metadata": {},
   "outputs": [],
   "source": [
    "# Dummify roles (actors, actresses, directors)\n",
    "movies = pd.get_dummies(movies, columns = ['role'])"
   ]
  },
  {
   "cell_type": "code",
   "execution_count": 15,
   "metadata": {},
   "outputs": [],
   "source": [
    "# Grouping by movie_title and dividing by the amount of times it is its own row (because of actors, actresses, and directors)\n",
    "movies_one = movies.groupby(['movie_title']).sum() / movies.groupby(['movie_title']).count()\n",
    "movies_one = movies_one.reset_index()"
   ]
  },
  {
   "cell_type": "code",
   "execution_count": 16,
   "metadata": {},
   "outputs": [],
   "source": [
    "# Getting the average score for each name in the dataframe, then changing the column to 'average_role_score'\n",
    "movies_one = movies.groupby(['name']).sum() / movies.groupby(['name']).count()\n",
    "movies_one = movies_one.reset_index()\n",
    "movies_one = movies_one.round(3)\n",
    "movies_one = movies_one[['name', 'weighted_average_vote']]\n",
    "\n",
    "movies_one.rename(columns = {'weighted_average_vote':'average_role_score'}, inplace=True)"
   ]
  },
  {
   "cell_type": "markdown",
   "metadata": {},
   "source": [
    "### Scores of Actors, Actresses, and Directors"
   ]
  },
  {
   "cell_type": "code",
   "execution_count": 17,
   "metadata": {},
   "outputs": [],
   "source": [
    "# Grouping roles by name and dividing their scores by the number of times they appear in dataset\n",
    "actors_role = movies.groupby(['name']).sum() / movies.groupby(['name']).count()\n",
    "actors_role = actors_role.reset_index()"
   ]
  },
  {
   "cell_type": "code",
   "execution_count": 18,
   "metadata": {},
   "outputs": [],
   "source": [
    "actors_role = actors_role[['name', 'movie_title', 'role_actor', 'role_actress', 'role_director', 'weighted_average_vote']]\n",
    "actress_role = actors_role\n",
    "directors_role = actors_role\n",
    "\n",
    "# Setting dataframes based on the dummified columns\n",
    "actors_role = actors_role[actors_role['role_actor'] >= 1]\n",
    "actress_role = actress_role[actress_role['role_actress'] >= 1]\n",
    "directors_role = directors_role[directors_role['role_director'] >= 1]"
   ]
  },
  {
   "cell_type": "code",
   "execution_count": 19,
   "metadata": {},
   "outputs": [],
   "source": [
    "# Create new dataframe of each individual actor and their average score\n",
    "actors_role = actors_role[['name', 'weighted_average_vote']]\n",
    "actors_role.rename(columns = {'weighted_average_vote':'actor_score'}, inplace=True)\n",
    "\n",
    "# Create new dataframe of each individual actress and their average score\n",
    "actress_role = actress_role[['name', 'weighted_average_vote']]\n",
    "actress_role.rename(columns = {'weighted_average_vote':'actress_score'}, inplace=True)\n",
    "\n",
    "# Create new dataframe of each individual director and their average score\n",
    "directors_role = directors_role[['name', 'weighted_average_vote']]\n",
    "directors_role.rename(columns = {'weighted_average_vote':'director_score'}, inplace=True)"
   ]
  },
  {
   "cell_type": "code",
   "execution_count": 20,
   "metadata": {},
   "outputs": [
    {
     "data": {
      "text/html": [
       "<div>\n",
       "<style scoped>\n",
       "    .dataframe tbody tr th:only-of-type {\n",
       "        vertical-align: middle;\n",
       "    }\n",
       "\n",
       "    .dataframe tbody tr th {\n",
       "        vertical-align: top;\n",
       "    }\n",
       "\n",
       "    .dataframe thead th {\n",
       "        text-align: right;\n",
       "    }\n",
       "</style>\n",
       "<table border=\"1\" class=\"dataframe\">\n",
       "  <thead>\n",
       "    <tr style=\"text-align: right;\">\n",
       "      <th></th>\n",
       "      <th>name</th>\n",
       "      <th>actor_score</th>\n",
       "    </tr>\n",
       "  </thead>\n",
       "  <tbody>\n",
       "    <tr>\n",
       "      <th>0</th>\n",
       "      <td>'Big' LeRoy Mobley</td>\n",
       "      <td>6.40</td>\n",
       "    </tr>\n",
       "    <tr>\n",
       "      <th>1</th>\n",
       "      <td>'Ducky' Louie</td>\n",
       "      <td>6.40</td>\n",
       "    </tr>\n",
       "    <tr>\n",
       "      <th>3</th>\n",
       "      <td>'Lee' George Quinones</td>\n",
       "      <td>7.10</td>\n",
       "    </tr>\n",
       "    <tr>\n",
       "      <th>4</th>\n",
       "      <td>'Little Billy' Rhodes</td>\n",
       "      <td>3.90</td>\n",
       "    </tr>\n",
       "    <tr>\n",
       "      <th>5</th>\n",
       "      <td>'Philthy' Phil Phillips</td>\n",
       "      <td>3.70</td>\n",
       "    </tr>\n",
       "    <tr>\n",
       "      <th>...</th>\n",
       "      <td>...</td>\n",
       "      <td>...</td>\n",
       "    </tr>\n",
       "    <tr>\n",
       "      <th>54428</th>\n",
       "      <td>Zuher Khan</td>\n",
       "      <td>4.40</td>\n",
       "    </tr>\n",
       "    <tr>\n",
       "      <th>54434</th>\n",
       "      <td>Álex Nova</td>\n",
       "      <td>6.80</td>\n",
       "    </tr>\n",
       "    <tr>\n",
       "      <th>54440</th>\n",
       "      <td>Íce Mrozek</td>\n",
       "      <td>4.05</td>\n",
       "    </tr>\n",
       "    <tr>\n",
       "      <th>54442</th>\n",
       "      <td>Óscar Jaenada</td>\n",
       "      <td>6.30</td>\n",
       "    </tr>\n",
       "    <tr>\n",
       "      <th>54444</th>\n",
       "      <td>Þórir Waagfjörð</td>\n",
       "      <td>5.30</td>\n",
       "    </tr>\n",
       "  </tbody>\n",
       "</table>\n",
       "<p>25022 rows × 2 columns</p>\n",
       "</div>"
      ],
      "text/plain": [
       "                          name  actor_score\n",
       "0           'Big' LeRoy Mobley         6.40\n",
       "1                'Ducky' Louie         6.40\n",
       "3        'Lee' George Quinones         7.10\n",
       "4        'Little Billy' Rhodes         3.90\n",
       "5      'Philthy' Phil Phillips         3.70\n",
       "...                        ...          ...\n",
       "54428               Zuher Khan         4.40\n",
       "54434                Álex Nova         6.80\n",
       "54440               Íce Mrozek         4.05\n",
       "54442            Óscar Jaenada         6.30\n",
       "54444          Þórir Waagfjörð         5.30\n",
       "\n",
       "[25022 rows x 2 columns]"
      ]
     },
     "execution_count": 20,
     "metadata": {},
     "output_type": "execute_result"
    }
   ],
   "source": [
    "# Visualizing each actor and their average score\n",
    "actors_role"
   ]
  },
  {
   "cell_type": "code",
   "execution_count": 21,
   "metadata": {},
   "outputs": [
    {
     "data": {
      "text/html": [
       "<div>\n",
       "<style scoped>\n",
       "    .dataframe tbody tr th:only-of-type {\n",
       "        vertical-align: middle;\n",
       "    }\n",
       "\n",
       "    .dataframe tbody tr th {\n",
       "        vertical-align: top;\n",
       "    }\n",
       "\n",
       "    .dataframe thead th {\n",
       "        text-align: right;\n",
       "    }\n",
       "</style>\n",
       "<table border=\"1\" class=\"dataframe\">\n",
       "  <thead>\n",
       "    <tr style=\"text-align: right;\">\n",
       "      <th></th>\n",
       "      <th>name</th>\n",
       "      <th>actress_score</th>\n",
       "    </tr>\n",
       "  </thead>\n",
       "  <tbody>\n",
       "    <tr>\n",
       "      <th>9</th>\n",
       "      <td>A Leslie Kies</td>\n",
       "      <td>5.100</td>\n",
       "    </tr>\n",
       "    <tr>\n",
       "      <th>28</th>\n",
       "      <td>A.J. Cook</td>\n",
       "      <td>5.325</td>\n",
       "    </tr>\n",
       "    <tr>\n",
       "      <th>34</th>\n",
       "      <td>A.J. Langer</td>\n",
       "      <td>5.250</td>\n",
       "    </tr>\n",
       "    <tr>\n",
       "      <th>47</th>\n",
       "      <td>AJ Michalka</td>\n",
       "      <td>5.860</td>\n",
       "    </tr>\n",
       "    <tr>\n",
       "      <th>49</th>\n",
       "      <td>Aaliyah</td>\n",
       "      <td>6.100</td>\n",
       "    </tr>\n",
       "    <tr>\n",
       "      <th>...</th>\n",
       "      <td>...</td>\n",
       "      <td>...</td>\n",
       "    </tr>\n",
       "    <tr>\n",
       "      <th>54430</th>\n",
       "      <td>Zully Montero</td>\n",
       "      <td>6.400</td>\n",
       "    </tr>\n",
       "    <tr>\n",
       "      <th>54431</th>\n",
       "      <td>Zuzanna Surowy</td>\n",
       "      <td>5.700</td>\n",
       "    </tr>\n",
       "    <tr>\n",
       "      <th>54435</th>\n",
       "      <td>Ángela Molina</td>\n",
       "      <td>6.100</td>\n",
       "    </tr>\n",
       "    <tr>\n",
       "      <th>54437</th>\n",
       "      <td>Élodie Bouchez</td>\n",
       "      <td>5.450</td>\n",
       "    </tr>\n",
       "    <tr>\n",
       "      <th>54438</th>\n",
       "      <td>Émilie Leclerc</td>\n",
       "      <td>7.300</td>\n",
       "    </tr>\n",
       "  </tbody>\n",
       "</table>\n",
       "<p>17476 rows × 2 columns</p>\n",
       "</div>"
      ],
      "text/plain": [
       "                 name  actress_score\n",
       "9       A Leslie Kies          5.100\n",
       "28          A.J. Cook          5.325\n",
       "34        A.J. Langer          5.250\n",
       "47        AJ Michalka          5.860\n",
       "49            Aaliyah          6.100\n",
       "...               ...            ...\n",
       "54430   Zully Montero          6.400\n",
       "54431  Zuzanna Surowy          5.700\n",
       "54435   Ángela Molina          6.100\n",
       "54437  Élodie Bouchez          5.450\n",
       "54438  Émilie Leclerc          7.300\n",
       "\n",
       "[17476 rows x 2 columns]"
      ]
     },
     "execution_count": 21,
     "metadata": {},
     "output_type": "execute_result"
    }
   ],
   "source": [
    "# Visualizing each actress and their average score\n",
    "actress_role"
   ]
  },
  {
   "cell_type": "code",
   "execution_count": 22,
   "metadata": {},
   "outputs": [
    {
     "data": {
      "text/html": [
       "<div>\n",
       "<style scoped>\n",
       "    .dataframe tbody tr th:only-of-type {\n",
       "        vertical-align: middle;\n",
       "    }\n",
       "\n",
       "    .dataframe tbody tr th {\n",
       "        vertical-align: top;\n",
       "    }\n",
       "\n",
       "    .dataframe thead th {\n",
       "        text-align: right;\n",
       "    }\n",
       "</style>\n",
       "<table border=\"1\" class=\"dataframe\">\n",
       "  <thead>\n",
       "    <tr style=\"text-align: right;\">\n",
       "      <th></th>\n",
       "      <th>name</th>\n",
       "      <th>director_score</th>\n",
       "    </tr>\n",
       "  </thead>\n",
       "  <tbody>\n",
       "    <tr>\n",
       "      <th>2</th>\n",
       "      <td>'Evil' Ted Smith</td>\n",
       "      <td>4.000000</td>\n",
       "    </tr>\n",
       "    <tr>\n",
       "      <th>11</th>\n",
       "      <td>A. Blaine Miller</td>\n",
       "      <td>5.300000</td>\n",
       "    </tr>\n",
       "    <tr>\n",
       "      <th>12</th>\n",
       "      <td>A. Dean Bell</td>\n",
       "      <td>4.650000</td>\n",
       "    </tr>\n",
       "    <tr>\n",
       "      <th>15</th>\n",
       "      <td>A. Raven Cruz</td>\n",
       "      <td>2.100000</td>\n",
       "    </tr>\n",
       "    <tr>\n",
       "      <th>21</th>\n",
       "      <td>A.D. Calvo</td>\n",
       "      <td>5.016667</td>\n",
       "    </tr>\n",
       "    <tr>\n",
       "      <th>...</th>\n",
       "      <td>...</td>\n",
       "      <td>...</td>\n",
       "    </tr>\n",
       "    <tr>\n",
       "      <th>54433</th>\n",
       "      <td>Àlex Pastor</td>\n",
       "      <td>6.000000</td>\n",
       "    </tr>\n",
       "    <tr>\n",
       "      <th>54436</th>\n",
       "      <td>Édouard Molinaro</td>\n",
       "      <td>5.900000</td>\n",
       "    </tr>\n",
       "    <tr>\n",
       "      <th>54439</th>\n",
       "      <td>Éric Rochat</td>\n",
       "      <td>5.600000</td>\n",
       "    </tr>\n",
       "    <tr>\n",
       "      <th>54441</th>\n",
       "      <td>Ómar Örn Hauksson</td>\n",
       "      <td>5.000000</td>\n",
       "    </tr>\n",
       "    <tr>\n",
       "      <th>54443</th>\n",
       "      <td>Özgür Dogruöz</td>\n",
       "      <td>6.500000</td>\n",
       "    </tr>\n",
       "  </tbody>\n",
       "</table>\n",
       "<p>10675 rows × 2 columns</p>\n",
       "</div>"
      ],
      "text/plain": [
       "                    name  director_score\n",
       "2       'Evil' Ted Smith        4.000000\n",
       "11      A. Blaine Miller        5.300000\n",
       "12          A. Dean Bell        4.650000\n",
       "15         A. Raven Cruz        2.100000\n",
       "21            A.D. Calvo        5.016667\n",
       "...                  ...             ...\n",
       "54433        Àlex Pastor        6.000000\n",
       "54436   Édouard Molinaro        5.900000\n",
       "54439        Éric Rochat        5.600000\n",
       "54441  Ómar Örn Hauksson        5.000000\n",
       "54443      Özgür Dogruöz        6.500000\n",
       "\n",
       "[10675 rows x 2 columns]"
      ]
     },
     "execution_count": 22,
     "metadata": {},
     "output_type": "execute_result"
    }
   ],
   "source": [
    "# Visualizing each director and their average score\n",
    "directors_role"
   ]
  },
  {
   "cell_type": "markdown",
   "metadata": {},
   "source": [
    "### Merge Role Scores to DataFrame"
   ]
  },
  {
   "cell_type": "code",
   "execution_count": 23,
   "metadata": {},
   "outputs": [],
   "source": [
    "# Merging movies with the average role scores.\n",
    "final_movies = pd.merge(movies, movies_one, left_on = 'name', right_on = 'name')\n",
    "final_movies = final_movies.groupby(['movie_title']).sum() / final_movies.groupby(['movie_title']).count()\n",
    "final_movies = final_movies.reset_index()\n",
    "final_movies.rename(columns = {'average_role_score':'casting_score'}, inplace=True)"
   ]
  },
  {
   "cell_type": "code",
   "execution_count": 24,
   "metadata": {},
   "outputs": [],
   "source": [
    "# Merging average actors scores for each movie by movie\n",
    "final_movies_actors = pd.merge(movies, actors_role, left_on = 'name', right_on = 'name')\n",
    "final_movies_actors = final_movies_actors.groupby(['movie_title']).sum() / final_movies_actors.groupby(['movie_title']).count()\n",
    "final_movies_actors = final_movies_actors.reset_index()"
   ]
  },
  {
   "cell_type": "code",
   "execution_count": 25,
   "metadata": {},
   "outputs": [],
   "source": [
    "# Merging average actresses scores for each movie by movie\n",
    "final_movies_actresses = pd.merge(movies, actress_role, left_on = 'name', right_on = 'name')\n",
    "final_movies_actresses = final_movies_actresses.groupby(['movie_title']).sum() / final_movies_actresses.groupby(['movie_title']).count()\n",
    "final_movies_actresses = final_movies_actresses.reset_index()"
   ]
  },
  {
   "cell_type": "code",
   "execution_count": 26,
   "metadata": {},
   "outputs": [],
   "source": [
    "# Merging average directors scores for each movie by movie\n",
    "final_movie_directors = pd.merge(movies, directors_role, left_on = 'name', right_on = 'name')\n",
    "final_movie_directors = final_movie_directors.groupby(['movie_title']).sum() / final_movie_directors.groupby(['movie_title']).count()\n",
    "final_movie_directors = final_movie_directors.reset_index()"
   ]
  },
  {
   "cell_type": "code",
   "execution_count": 27,
   "metadata": {},
   "outputs": [],
   "source": [
    "# Setting final_df to movies for easier reference and testing\n",
    "final_df = movies"
   ]
  },
  {
   "cell_type": "code",
   "execution_count": 28,
   "metadata": {},
   "outputs": [],
   "source": [
    "# Rename columns\n",
    "final_df.rename(columns = {'plot_y':'plot',\n",
    "                           'duration_y':'duration',\n",
    "                           'actors_y':'cast',\n",
    "                           'avg_vote': 'imdb_score'}, inplace=True)\n",
    "\n",
    "# Dropping duplicates\n",
    "final_df = final_df.drop_duplicates()"
   ]
  },
  {
   "cell_type": "code",
   "execution_count": 29,
   "metadata": {},
   "outputs": [],
   "source": [
    "# Ensuring each directors, actors, and actresses dataframe only contains their score and I can merge on movie_title\n",
    "final_movie_directors = final_movie_directors[['movie_title', 'director_score']]\n",
    "final_movies_actors = final_movies_actors[['movie_title', 'actor_score']]\n",
    "final_movies_actresses = final_movies_actresses[['movie_title', 'actress_score']]"
   ]
  },
  {
   "cell_type": "code",
   "execution_count": 30,
   "metadata": {},
   "outputs": [],
   "source": [
    "# I had to change the how to outer because some movies had no actors, or actresses\n",
    "# By doing how, I was able to keep null value movies\n",
    "final_df = pd.merge(final_df, final_movie_directors, how = 'outer', on = 'movie_title')\n",
    "final_df = pd.merge(final_df, final_movies_actors, how = 'outer', on = 'movie_title')\n",
    "final_df = pd.merge(final_df, final_movies_actresses, how = 'outer', on = 'movie_title')"
   ]
  },
  {
   "cell_type": "code",
   "execution_count": 31,
   "metadata": {
    "scrolled": true
   },
   "outputs": [],
   "source": [
    "# Found duplicate values. Dropping to ensure data is valid\n",
    "final_df = final_df.drop_duplicates(subset = ['movie_title'])"
   ]
  },
  {
   "cell_type": "code",
   "execution_count": 32,
   "metadata": {},
   "outputs": [],
   "source": [
    "# Only keeping movies from the past 50 years \n",
    "final_df = final_df[final_df['year'] >= 1970]"
   ]
  },
  {
   "cell_type": "code",
   "execution_count": 33,
   "metadata": {
    "scrolled": true
   },
   "outputs": [],
   "source": [
    "# Removing movies that had less than 1000 votes\n",
    "final_df = final_df[final_df['us_voters_votes'] > 1000]"
   ]
  },
  {
   "cell_type": "code",
   "execution_count": 34,
   "metadata": {},
   "outputs": [],
   "source": [
    "# Some movies had no scores for actors or actresses, so I will fill those with the corresponding scores.\n",
    "final_df['actress_score'] = final_df['actress_score'].fillna(final_df['actor_score'])\n",
    "final_df['actor_score'] = final_df['actor_score'].fillna(final_df['actress_score'])"
   ]
  },
  {
   "cell_type": "code",
   "execution_count": 35,
   "metadata": {},
   "outputs": [],
   "source": [
    "# Dropping movies where director score, actors, actor_score, and actress_score were null\n",
    "final_df.dropna(subset = ['director_score', 'actors', 'actor_score', 'actress_score'], inplace=True)"
   ]
  },
  {
   "cell_type": "markdown",
   "metadata": {},
   "source": [
    "### Sentiment Analysis of Plot and Tagline"
   ]
  },
  {
   "cell_type": "code",
   "execution_count": 36,
   "metadata": {},
   "outputs": [],
   "source": [
    "# Sentiment analysis of plot\n",
    "plot_desc = final_df['plot'].tolist()\n",
    "\n",
    "analyzer = SentimentIntensityAnalyzer()\n",
    "\n",
    "# Function created to return compound score of plot of each movie and add column for each movie\n",
    "def get_polarity_plot(plot_desc):\n",
    "    polarity = []\n",
    "    for post in plot_desc:\n",
    "        vs = analyzer.polarity_scores(post)\n",
    "        polarity.append(vs['compound'])\n",
    "    return polarity\n",
    "\n",
    "polarity = get_polarity_plot(plot_desc)\n",
    "\n",
    "final_df['plot_sentiment'] = polarity"
   ]
  },
  {
   "cell_type": "markdown",
   "metadata": {},
   "source": [
    "### Ordering of Columns in DataFrame"
   ]
  },
  {
   "cell_type": "code",
   "execution_count": 37,
   "metadata": {},
   "outputs": [],
   "source": [
    "# Organizing columns of final dataframe before exporting to ensure proper layout and easy readability\n",
    "final_df = final_df[['movie_title', 'year', 'actors', 'plot', 'duration', 'Action', 'Adventure', 'Animation', 'Biography', \n",
    "                     'Comedy', 'Crime', 'Documentary', 'Drama', 'Family', 'Fantasy', 'History', 'Horror', 'Music', \n",
    "                     'Mystery', 'Romance', 'Sci-Fi', 'Sport', 'Thriller', 'War', 'Western', 'votes', 'weighted_average_vote', \n",
    "                     'total_votes', 'mean_vote', 'median_vote', 'votes_1', 'votes_2', 'votes_3', 'votes_4', 'votes_5', \n",
    "                     'votes_6', 'votes_7', 'votes_8', 'votes_9', 'votes_10', 'us_voters_rating', 'us_voters_votes',\n",
    "                     'plot_sentiment', 'director_score', 'actor_score', 'actress_score', 'imdb_score']]"
   ]
  },
  {
   "cell_type": "code",
   "execution_count": 38,
   "metadata": {},
   "outputs": [],
   "source": [
    "# Ensuring all null values were dropped before exporting\n",
    "final_df = final_df.dropna()\n",
    "# Resetting index before export\n",
    "final_df = final_df.reset_index()\n",
    "# Dropping index column and inplace=True to stick\n",
    "final_df.drop(columns = ['index'], inplace=True)"
   ]
  },
  {
   "cell_type": "code",
   "execution_count": 39,
   "metadata": {
    "scrolled": true
   },
   "outputs": [
    {
     "data": {
      "text/html": [
       "<div>\n",
       "<style scoped>\n",
       "    .dataframe tbody tr th:only-of-type {\n",
       "        vertical-align: middle;\n",
       "    }\n",
       "\n",
       "    .dataframe tbody tr th {\n",
       "        vertical-align: top;\n",
       "    }\n",
       "\n",
       "    .dataframe thead th {\n",
       "        text-align: right;\n",
       "    }\n",
       "</style>\n",
       "<table border=\"1\" class=\"dataframe\">\n",
       "  <thead>\n",
       "    <tr style=\"text-align: right;\">\n",
       "      <th></th>\n",
       "      <th>movie_title</th>\n",
       "      <th>year</th>\n",
       "      <th>actors</th>\n",
       "      <th>plot</th>\n",
       "      <th>duration</th>\n",
       "      <th>Action</th>\n",
       "      <th>Adventure</th>\n",
       "      <th>Animation</th>\n",
       "      <th>Biography</th>\n",
       "      <th>Comedy</th>\n",
       "      <th>...</th>\n",
       "      <th>votes_8</th>\n",
       "      <th>votes_9</th>\n",
       "      <th>votes_10</th>\n",
       "      <th>us_voters_rating</th>\n",
       "      <th>us_voters_votes</th>\n",
       "      <th>plot_sentiment</th>\n",
       "      <th>director_score</th>\n",
       "      <th>actor_score</th>\n",
       "      <th>actress_score</th>\n",
       "      <th>imdb_score</th>\n",
       "    </tr>\n",
       "  </thead>\n",
       "  <tbody>\n",
       "    <tr>\n",
       "      <th>0</th>\n",
       "      <td>The Whales of August</td>\n",
       "      <td>1987</td>\n",
       "      <td>Bette Davis, Lillian Gish, Vincent Price, Ann ...</td>\n",
       "      <td>Two aged sisters reflect on life and the past ...</td>\n",
       "      <td>90</td>\n",
       "      <td>0</td>\n",
       "      <td>0</td>\n",
       "      <td>0</td>\n",
       "      <td>0</td>\n",
       "      <td>0</td>\n",
       "      <td>...</td>\n",
       "      <td>894</td>\n",
       "      <td>422</td>\n",
       "      <td>894</td>\n",
       "      <td>7.3</td>\n",
       "      <td>1476.0</td>\n",
       "      <td>0.0000</td>\n",
       "      <td>7.300000</td>\n",
       "      <td>6.621154</td>\n",
       "      <td>6.674631</td>\n",
       "      <td>7.3</td>\n",
       "    </tr>\n",
       "    <tr>\n",
       "      <th>1</th>\n",
       "      <td>Family Plot</td>\n",
       "      <td>1976</td>\n",
       "      <td>Karen Black, Bruce Dern, Barbara Harris, Willi...</td>\n",
       "      <td>A phony psychic/con artist and her taxi driver...</td>\n",
       "      <td>120</td>\n",
       "      <td>0</td>\n",
       "      <td>0</td>\n",
       "      <td>0</td>\n",
       "      <td>0</td>\n",
       "      <td>1</td>\n",
       "      <td>...</td>\n",
       "      <td>3515</td>\n",
       "      <td>1055</td>\n",
       "      <td>1041</td>\n",
       "      <td>6.8</td>\n",
       "      <td>4670.0</td>\n",
       "      <td>-0.2960</td>\n",
       "      <td>7.492593</td>\n",
       "      <td>5.859890</td>\n",
       "      <td>5.723913</td>\n",
       "      <td>6.8</td>\n",
       "    </tr>\n",
       "    <tr>\n",
       "      <th>2</th>\n",
       "      <td>Love Story</td>\n",
       "      <td>1970</td>\n",
       "      <td>Ali MacGraw, Ryan O'Neal, John Marley, Ray Mil...</td>\n",
       "      <td>A boy and a girl from different backgrounds fa...</td>\n",
       "      <td>100</td>\n",
       "      <td>0</td>\n",
       "      <td>0</td>\n",
       "      <td>0</td>\n",
       "      <td>0</td>\n",
       "      <td>0</td>\n",
       "      <td>...</td>\n",
       "      <td>5497</td>\n",
       "      <td>2506</td>\n",
       "      <td>4013</td>\n",
       "      <td>6.6</td>\n",
       "      <td>6692.0</td>\n",
       "      <td>-0.4019</td>\n",
       "      <td>6.137037</td>\n",
       "      <td>6.249722</td>\n",
       "      <td>6.166667</td>\n",
       "      <td>6.9</td>\n",
       "    </tr>\n",
       "    <tr>\n",
       "      <th>3</th>\n",
       "      <td>Frogs</td>\n",
       "      <td>1972</td>\n",
       "      <td>Ray Milland, Sam Elliott, Joan Van Ark, Adam R...</td>\n",
       "      <td>A group of helpless victims celebrate a birthd...</td>\n",
       "      <td>91</td>\n",
       "      <td>0</td>\n",
       "      <td>0</td>\n",
       "      <td>0</td>\n",
       "      <td>0</td>\n",
       "      <td>0</td>\n",
       "      <td>...</td>\n",
       "      <td>216</td>\n",
       "      <td>94</td>\n",
       "      <td>357</td>\n",
       "      <td>4.5</td>\n",
       "      <td>2288.0</td>\n",
       "      <td>-0.7096</td>\n",
       "      <td>5.050000</td>\n",
       "      <td>6.111858</td>\n",
       "      <td>4.400000</td>\n",
       "      <td>4.4</td>\n",
       "    </tr>\n",
       "    <tr>\n",
       "      <th>4</th>\n",
       "      <td>Escape to Witch Mountain</td>\n",
       "      <td>1975</td>\n",
       "      <td>Eddie Albert, Ray Milland, Donald Pleasence, K...</td>\n",
       "      <td>Two mysterious orphan children have extraordin...</td>\n",
       "      <td>97</td>\n",
       "      <td>0</td>\n",
       "      <td>1</td>\n",
       "      <td>0</td>\n",
       "      <td>0</td>\n",
       "      <td>0</td>\n",
       "      <td>...</td>\n",
       "      <td>1095</td>\n",
       "      <td>425</td>\n",
       "      <td>816</td>\n",
       "      <td>6.5</td>\n",
       "      <td>4033.0</td>\n",
       "      <td>0.0000</td>\n",
       "      <td>5.720000</td>\n",
       "      <td>6.291811</td>\n",
       "      <td>5.525000</td>\n",
       "      <td>6.4</td>\n",
       "    </tr>\n",
       "    <tr>\n",
       "      <th>...</th>\n",
       "      <td>...</td>\n",
       "      <td>...</td>\n",
       "      <td>...</td>\n",
       "      <td>...</td>\n",
       "      <td>...</td>\n",
       "      <td>...</td>\n",
       "      <td>...</td>\n",
       "      <td>...</td>\n",
       "      <td>...</td>\n",
       "      <td>...</td>\n",
       "      <td>...</td>\n",
       "      <td>...</td>\n",
       "      <td>...</td>\n",
       "      <td>...</td>\n",
       "      <td>...</td>\n",
       "      <td>...</td>\n",
       "      <td>...</td>\n",
       "      <td>...</td>\n",
       "      <td>...</td>\n",
       "      <td>...</td>\n",
       "      <td>...</td>\n",
       "    </tr>\n",
       "    <tr>\n",
       "      <th>4151</th>\n",
       "      <td>The Vast of Night</td>\n",
       "      <td>2019</td>\n",
       "      <td>Sierra McCormick, Jake Horowitz, Gail Cronauer...</td>\n",
       "      <td>In the twilight of the 1950s, on one fateful n...</td>\n",
       "      <td>91</td>\n",
       "      <td>0</td>\n",
       "      <td>0</td>\n",
       "      <td>0</td>\n",
       "      <td>0</td>\n",
       "      <td>0</td>\n",
       "      <td>...</td>\n",
       "      <td>4011</td>\n",
       "      <td>1501</td>\n",
       "      <td>914</td>\n",
       "      <td>6.8</td>\n",
       "      <td>3612.0</td>\n",
       "      <td>-0.2023</td>\n",
       "      <td>4.900000</td>\n",
       "      <td>6.375000</td>\n",
       "      <td>6.500000</td>\n",
       "      <td>6.7</td>\n",
       "    </tr>\n",
       "    <tr>\n",
       "      <th>4152</th>\n",
       "      <td>The Rider</td>\n",
       "      <td>2017</td>\n",
       "      <td>Brady Jandreau, Mooney, Tim Jandreau, Lilly Ja...</td>\n",
       "      <td>After suffering a near fatal head injury, a yo...</td>\n",
       "      <td>104</td>\n",
       "      <td>0</td>\n",
       "      <td>0</td>\n",
       "      <td>0</td>\n",
       "      <td>0</td>\n",
       "      <td>0</td>\n",
       "      <td>...</td>\n",
       "      <td>3834</td>\n",
       "      <td>1969</td>\n",
       "      <td>1021</td>\n",
       "      <td>7.6</td>\n",
       "      <td>2418.0</td>\n",
       "      <td>-0.8555</td>\n",
       "      <td>7.150000</td>\n",
       "      <td>7.400000</td>\n",
       "      <td>7.400000</td>\n",
       "      <td>7.4</td>\n",
       "    </tr>\n",
       "    <tr>\n",
       "      <th>4153</th>\n",
       "      <td>Fourth Man Out</td>\n",
       "      <td>2015</td>\n",
       "      <td>Parker Young, Evan Todd, Chord Overstreet, Jon...</td>\n",
       "      <td>A car mechanic in a small, working class town ...</td>\n",
       "      <td>86</td>\n",
       "      <td>0</td>\n",
       "      <td>0</td>\n",
       "      <td>0</td>\n",
       "      <td>0</td>\n",
       "      <td>1</td>\n",
       "      <td>...</td>\n",
       "      <td>1702</td>\n",
       "      <td>708</td>\n",
       "      <td>843</td>\n",
       "      <td>6.9</td>\n",
       "      <td>1280.0</td>\n",
       "      <td>0.8074</td>\n",
       "      <td>6.700000</td>\n",
       "      <td>6.225000</td>\n",
       "      <td>6.225000</td>\n",
       "      <td>6.7</td>\n",
       "    </tr>\n",
       "    <tr>\n",
       "      <th>4154</th>\n",
       "      <td>The Fits</td>\n",
       "      <td>2015</td>\n",
       "      <td>Royalty Hightower, Alexis Neblett, Da'Sean Min...</td>\n",
       "      <td>While training at the gym 11-year-old tomboy T...</td>\n",
       "      <td>72</td>\n",
       "      <td>0</td>\n",
       "      <td>0</td>\n",
       "      <td>0</td>\n",
       "      <td>0</td>\n",
       "      <td>0</td>\n",
       "      <td>...</td>\n",
       "      <td>830</td>\n",
       "      <td>378</td>\n",
       "      <td>241</td>\n",
       "      <td>6.8</td>\n",
       "      <td>1118.0</td>\n",
       "      <td>-0.8957</td>\n",
       "      <td>6.700000</td>\n",
       "      <td>6.700000</td>\n",
       "      <td>6.700000</td>\n",
       "      <td>6.7</td>\n",
       "    </tr>\n",
       "    <tr>\n",
       "      <th>4155</th>\n",
       "      <td>Dead Story</td>\n",
       "      <td>2017</td>\n",
       "      <td>Kelsey Deanne, Chase Austin Mosely, Melissa Al...</td>\n",
       "      <td>A young couple move into their dream house, on...</td>\n",
       "      <td>81</td>\n",
       "      <td>0</td>\n",
       "      <td>0</td>\n",
       "      <td>0</td>\n",
       "      <td>0</td>\n",
       "      <td>0</td>\n",
       "      <td>...</td>\n",
       "      <td>577</td>\n",
       "      <td>486</td>\n",
       "      <td>926</td>\n",
       "      <td>7.7</td>\n",
       "      <td>2443.0</td>\n",
       "      <td>0.4098</td>\n",
       "      <td>4.800000</td>\n",
       "      <td>4.800000</td>\n",
       "      <td>4.800000</td>\n",
       "      <td>4.8</td>\n",
       "    </tr>\n",
       "  </tbody>\n",
       "</table>\n",
       "<p>4156 rows × 47 columns</p>\n",
       "</div>"
      ],
      "text/plain": [
       "                   movie_title  year  \\\n",
       "0         The Whales of August  1987   \n",
       "1                  Family Plot  1976   \n",
       "2                   Love Story  1970   \n",
       "3                        Frogs  1972   \n",
       "4     Escape to Witch Mountain  1975   \n",
       "...                        ...   ...   \n",
       "4151         The Vast of Night  2019   \n",
       "4152                 The Rider  2017   \n",
       "4153            Fourth Man Out  2015   \n",
       "4154                  The Fits  2015   \n",
       "4155                Dead Story  2017   \n",
       "\n",
       "                                                 actors  \\\n",
       "0     Bette Davis, Lillian Gish, Vincent Price, Ann ...   \n",
       "1     Karen Black, Bruce Dern, Barbara Harris, Willi...   \n",
       "2     Ali MacGraw, Ryan O'Neal, John Marley, Ray Mil...   \n",
       "3     Ray Milland, Sam Elliott, Joan Van Ark, Adam R...   \n",
       "4     Eddie Albert, Ray Milland, Donald Pleasence, K...   \n",
       "...                                                 ...   \n",
       "4151  Sierra McCormick, Jake Horowitz, Gail Cronauer...   \n",
       "4152  Brady Jandreau, Mooney, Tim Jandreau, Lilly Ja...   \n",
       "4153  Parker Young, Evan Todd, Chord Overstreet, Jon...   \n",
       "4154  Royalty Hightower, Alexis Neblett, Da'Sean Min...   \n",
       "4155  Kelsey Deanne, Chase Austin Mosely, Melissa Al...   \n",
       "\n",
       "                                                   plot  duration  Action  \\\n",
       "0     Two aged sisters reflect on life and the past ...        90       0   \n",
       "1     A phony psychic/con artist and her taxi driver...       120       0   \n",
       "2     A boy and a girl from different backgrounds fa...       100       0   \n",
       "3     A group of helpless victims celebrate a birthd...        91       0   \n",
       "4     Two mysterious orphan children have extraordin...        97       0   \n",
       "...                                                 ...       ...     ...   \n",
       "4151  In the twilight of the 1950s, on one fateful n...        91       0   \n",
       "4152  After suffering a near fatal head injury, a yo...       104       0   \n",
       "4153  A car mechanic in a small, working class town ...        86       0   \n",
       "4154  While training at the gym 11-year-old tomboy T...        72       0   \n",
       "4155  A young couple move into their dream house, on...        81       0   \n",
       "\n",
       "      Adventure  Animation  Biography  Comedy  ...  votes_8  votes_9  \\\n",
       "0             0          0          0       0  ...      894      422   \n",
       "1             0          0          0       1  ...     3515     1055   \n",
       "2             0          0          0       0  ...     5497     2506   \n",
       "3             0          0          0       0  ...      216       94   \n",
       "4             1          0          0       0  ...     1095      425   \n",
       "...         ...        ...        ...     ...  ...      ...      ...   \n",
       "4151          0          0          0       0  ...     4011     1501   \n",
       "4152          0          0          0       0  ...     3834     1969   \n",
       "4153          0          0          0       1  ...     1702      708   \n",
       "4154          0          0          0       0  ...      830      378   \n",
       "4155          0          0          0       0  ...      577      486   \n",
       "\n",
       "      votes_10  us_voters_rating  us_voters_votes  plot_sentiment  \\\n",
       "0          894               7.3           1476.0          0.0000   \n",
       "1         1041               6.8           4670.0         -0.2960   \n",
       "2         4013               6.6           6692.0         -0.4019   \n",
       "3          357               4.5           2288.0         -0.7096   \n",
       "4          816               6.5           4033.0          0.0000   \n",
       "...        ...               ...              ...             ...   \n",
       "4151       914               6.8           3612.0         -0.2023   \n",
       "4152      1021               7.6           2418.0         -0.8555   \n",
       "4153       843               6.9           1280.0          0.8074   \n",
       "4154       241               6.8           1118.0         -0.8957   \n",
       "4155       926               7.7           2443.0          0.4098   \n",
       "\n",
       "      director_score  actor_score  actress_score  imdb_score  \n",
       "0           7.300000     6.621154       6.674631         7.3  \n",
       "1           7.492593     5.859890       5.723913         6.8  \n",
       "2           6.137037     6.249722       6.166667         6.9  \n",
       "3           5.050000     6.111858       4.400000         4.4  \n",
       "4           5.720000     6.291811       5.525000         6.4  \n",
       "...              ...          ...            ...         ...  \n",
       "4151        4.900000     6.375000       6.500000         6.7  \n",
       "4152        7.150000     7.400000       7.400000         7.4  \n",
       "4153        6.700000     6.225000       6.225000         6.7  \n",
       "4154        6.700000     6.700000       6.700000         6.7  \n",
       "4155        4.800000     4.800000       4.800000         4.8  \n",
       "\n",
       "[4156 rows x 47 columns]"
      ]
     },
     "execution_count": 39,
     "metadata": {},
     "output_type": "execute_result"
    }
   ],
   "source": [
    "# Visualizing final total score dataframe before exporting to use in modeling process\n",
    "final_df"
   ]
  },
  {
   "cell_type": "markdown",
   "metadata": {},
   "source": [
    "### Export Final DataFrame"
   ]
  },
  {
   "cell_type": "code",
   "execution_count": 40,
   "metadata": {},
   "outputs": [],
   "source": [
    "# Exporting total score dataframe to data folder\n",
    "final_df.to_csv('../data/totalscore_df.csv', index=False)"
   ]
  }
 ],
 "metadata": {
  "kernelspec": {
   "display_name": "Python 3",
   "language": "python",
   "name": "python3"
  },
  "language_info": {
   "codemirror_mode": {
    "name": "ipython",
    "version": 3
   },
   "file_extension": ".py",
   "mimetype": "text/x-python",
   "name": "python",
   "nbconvert_exporter": "python",
   "pygments_lexer": "ipython3",
   "version": "3.7.9"
  }
 },
 "nbformat": 4,
 "nbformat_minor": 4
}
