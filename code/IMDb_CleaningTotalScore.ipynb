{
 "cells": [
  {
   "cell_type": "markdown",
   "metadata": {},
   "source": [
    "# IMDB Movie Cleaning Total Score\n",
    "![ImdbIcon](../images/imdbheader.jpg)"
   ]
  },
  {
   "cell_type": "markdown",
   "metadata": {},
   "source": [
    "### Notebook Overview\n",
    "\n",
    "For my capstone project, I want to see if I can accurately predict a movies score based on the actors, actresses, and directors. I also want to be able to predict how well a movie would do in the future based off of the roles that a user chooses. For example, one might be able to see how well Leonardo Dicaprio and Anne Hathaway would do in a comedy movie, or any movie of their choosing. It should be known that some actors and actresses may be one hit wonders, and there are actors/actresses not in this list that will have successful careers, but with the data I have chosen to work with, we will not account for those factors.\n",
    "\n",
    "In this notebook I will be reading in four seperate datasets and merging them together based off of specific id columns. I remove columns with too many null values to work with and impute a very small amount of values (mean for 18 rows). I fill some nan values with unknown such as the plot and director where necessary so that I don't remove too many roww of valuable data. The location is very important, and movies outside the USA have too many null values so I chose to only work with USA movies. I am only focusing on specific roles such as actors, actresses, director, producer, and writer, so I removed those that are not as important for this specific project. I also took out all individuals that have passed away so that I do not have a recommended role for someone that has passed away. I also took only movies in the past 20 years so that I do not have recommendations for people that may have passed away similar to date of death column. I also split the genre columns because some movies have multiple genres, and by splitting, I can account for a persons impact in the specific genre instead of removing."
   ]
  },
  {
   "cell_type": "markdown",
   "metadata": {},
   "source": [
    "### Imports"
   ]
  },
  {
   "cell_type": "code",
   "execution_count": 57,
   "metadata": {},
   "outputs": [],
   "source": [
    "import numpy as np\n",
    "import pandas as pd\n",
    "import matplotlib.pyplot as plt\n",
    "import seaborn as sns\n",
    "\n",
    "from nltk.sentiment.vader import SentimentIntensityAnalyzer"
   ]
  },
  {
   "cell_type": "markdown",
   "metadata": {},
   "source": [
    "### Import Data"
   ]
  },
  {
   "cell_type": "code",
   "execution_count": 58,
   "metadata": {},
   "outputs": [
    {
     "name": "stderr",
     "output_type": "stream",
     "text": [
      "C:\\Users\\nolan_fur2pfn\\.conda\\envs\\tf\\lib\\site-packages\\IPython\\core\\interactiveshell.py:3147: DtypeWarning: Columns (3) have mixed types.Specify dtype option on import or set low_memory=False.\n",
      "  interactivity=interactivity, compiler=compiler, result=result)\n",
      "C:\\Users\\nolan_fur2pfn\\.conda\\envs\\tf\\lib\\site-packages\\IPython\\core\\interactiveshell.py:3147: DtypeWarning: Columns (5,6,7,8,9,10,11,12,13,14,15,16,17,18,19,20,21,22,23,24,25,26,27,28,29,30,31,32,33,34,35,36,37,38,39,40,41,42,43,44,45,46,47,48,49,50,51,52,53,54,55,56,57,58,59,60,61,62,63,64,65,66,67,68,69,70,71,72,73,74,75,76,77,78,79,80,81,82,83,84,85,86,87,88,89,90,91,92,93,94,95,96,97,98,99,100,101,103,104,105,106,107,108,109,110,111,112,113,114,115,116,117,118,119,120,121,122,123) have mixed types.Specify dtype option on import or set low_memory=False.\n",
      "  interactivity=interactivity, compiler=compiler, result=result)\n"
     ]
    }
   ],
   "source": [
    "movies = pd.read_csv('../data/IMDb_movies.csv')\n",
    "names = pd.read_csv('../data/IMDb_names.csv')\n",
    "ratings = pd.read_csv('../data/IMDb_ratings.csv')\n",
    "titles = pd.read_csv('../data/IMDb_title_principals.csv')\n",
    "budgets_df = pd.read_csv('../data/tmdb_movies_data.csv')"
   ]
  },
  {
   "cell_type": "markdown",
   "metadata": {},
   "source": [
    "### Merge Data"
   ]
  },
  {
   "cell_type": "code",
   "execution_count": 59,
   "metadata": {},
   "outputs": [],
   "source": [
    "# Merging movies with ratings\n",
    "movies = movies.merge(ratings, left_on = 'imdb_title_id', right_on = 'imdb_title_id')\n",
    "# Merging movives with tiles\n",
    "movies = movies.merge(titles, left_on = 'imdb_title_id', right_on = 'imdb_title_id')\n",
    "# Merging movies with names (actors/actresses/directors)\n",
    "movies = movies.merge(names, left_on = 'imdb_name_id', right_on = 'imdb_name_id')"
   ]
  },
  {
   "cell_type": "markdown",
   "metadata": {},
   "source": [
    "### Dropping Columns"
   ]
  },
  {
   "cell_type": "code",
   "execution_count": 60,
   "metadata": {},
   "outputs": [],
   "source": [
    "# Dropping columns that serve no values\n",
    "movies.drop(columns = ['imdb_title_id', 'title', 'language', 'production_company', 'budget', 'metascore', 'reviews_from_critics', \n",
    "                       'usa_gross_income', 'worlwide_gross_income', 'allgenders_0age_avg_vote', 'allgenders_0age_votes', \n",
    "                       'allgenders_18age_avg_vote','allgenders_18age_votes', 'males_0age_avg_vote', 'males_0age_votes',\n",
    "                       'males_18age_avg_vote', 'males_18age_votes', 'females_0age_avg_vote', 'females_0age_votes', \n",
    "                       'females_18age_avg_vote', 'females_18age_votes', 'females_30age_avg_vote', 'females_30age_votes', \n",
    "                       'females_45age_avg_vote', 'females_45age_votes', 'job', 'characters', 'imdb_name_id', 'birth_name',\n",
    "                       'reviews_from_users', 'writer', 'allgenders_30age_avg_vote', 'allgenders_30age_votes', \n",
    "                       'allgenders_45age_avg_vote', 'allgenders_45age_votes', 'males_allages_avg_vote', 'males_allages_votes', \n",
    "                       'males_30age_avg_vote',  'males_30age_votes', 'males_45age_avg_vote', 'males_45age_votes', \n",
    "                       'females_allages_avg_vote', 'females_allages_votes', 'top1000_voters_rating', 'top1000_voters_votes', \n",
    "                       'date_published', 'ordering', 'director', 'non_us_voters_rating', 'non_us_voters_votes'], inplace=True)"
   ]
  },
  {
   "cell_type": "markdown",
   "metadata": {},
   "source": [
    "### Cleaning"
   ]
  },
  {
   "cell_type": "code",
   "execution_count": 61,
   "metadata": {},
   "outputs": [],
   "source": [
    "# Removing columns that were not movies\n",
    "movies = movies[movies['year'] != 'TV Movie 2019']\n",
    "# Movies outside the United States had a lot of missing data.\n",
    "movies = movies[movies['country'] == 'USA']\n",
    "# Removing both Reality-TV \n",
    "movies = movies[(movies['genre'] != 'Reality-TV') & (movies['genre'] != 'News')]"
   ]
  },
  {
   "cell_type": "code",
   "execution_count": 62,
   "metadata": {},
   "outputs": [],
   "source": [
    "# A small amount of movies had no description, so I could fill those with Unknown to keep valuable data.\n",
    "movies['description'] = movies['description'].fillna(\"Unknown\")"
   ]
  },
  {
   "cell_type": "code",
   "execution_count": 63,
   "metadata": {},
   "outputs": [],
   "source": [
    "# Less than twenty rows were missing voters rating, so I felt comfortable imputing the mean.\n",
    "movies['us_voters_rating'].fillna((movies['us_voters_rating'].mean()), inplace=True)\n",
    "# Less than twenty rows were missing voters votes, so I felt comfortable imputing the mean.\n",
    "movies['us_voters_votes'].fillna((movies['us_voters_votes'].mean()), inplace=True)"
   ]
  },
  {
   "cell_type": "code",
   "execution_count": 64,
   "metadata": {},
   "outputs": [],
   "source": [
    "# Only looking to work with actors, actresses, and directors.\n",
    "jobs_list = ['actor', 'actress', 'director']\n",
    "\n",
    "movies = movies[movies['category'].isin(jobs_list)]"
   ]
  },
  {
   "cell_type": "code",
   "execution_count": 65,
   "metadata": {},
   "outputs": [],
   "source": [
    "movies.reset_index(drop=True, inplace=True)"
   ]
  },
  {
   "cell_type": "code",
   "execution_count": 66,
   "metadata": {},
   "outputs": [],
   "source": [
    "# Removing date_of_death and date_of_birth, no longer necessary\n",
    "movies.drop(columns = ['date_of_death', 'date_of_birth'], inplace=True)"
   ]
  },
  {
   "cell_type": "code",
   "execution_count": 67,
   "metadata": {},
   "outputs": [],
   "source": [
    "# Converting column year to integer\n",
    "movies['year'] = movies['year'].astype('int64')"
   ]
  },
  {
   "cell_type": "code",
   "execution_count": 68,
   "metadata": {},
   "outputs": [],
   "source": [
    "# Renaming original title, category, and description.\n",
    "movies.rename(columns = {'original_title':'movie_title',\n",
    "                          'category':'role',\n",
    "                         'description':'plot'}, inplace=True)"
   ]
  },
  {
   "cell_type": "markdown",
   "metadata": {},
   "source": [
    "### Dummify Genre"
   ]
  },
  {
   "cell_type": "code",
   "execution_count": 69,
   "metadata": {},
   "outputs": [],
   "source": [
    "# Using str.get_dummes(\",\", I can have multiple values in dummy columns)\n",
    "# For genre, if a movie is Horror AND Action, a 1 is placed in both of those columns\n",
    "genre_dummies = movies['genre'].str.get_dummies(\", \")\n",
    "# Merging the dummified columns back to the movie dataframe\n",
    "movies = pd.merge(movies, genre_dummies, left_index =True, right_index=True)\n",
    "# Dropping genre and country. Only USA movies and genre is now dummified.\n",
    "movies.drop(columns = ['genre', 'country'], inplace=True)"
   ]
  },
  {
   "cell_type": "code",
   "execution_count": 70,
   "metadata": {},
   "outputs": [],
   "source": [
    "# Dummify roles (actors, actresses, directors)\n",
    "movies = pd.get_dummies(movies, columns = ['role'])"
   ]
  },
  {
   "cell_type": "code",
   "execution_count": 71,
   "metadata": {},
   "outputs": [],
   "source": [
    "# Grouping by movie_title and dividing by the amount of times it is its own row (because of actors, actresses, and directors)\n",
    "movies_one = movies.groupby(['movie_title']).sum() / movies.groupby(['movie_title']).count()\n",
    "movies_one = movies_one.reset_index()"
   ]
  },
  {
   "cell_type": "code",
   "execution_count": 72,
   "metadata": {},
   "outputs": [],
   "source": [
    "# Getting the average score for each name in the dataframe, then changing the column to 'average_role_score'\n",
    "movies_one = movies.groupby(['name']).sum() / movies.groupby(['name']).count()\n",
    "movies_one = movies_one.reset_index()\n",
    "movies_one = movies_one.round(3)\n",
    "movies_one = movies_one[['name', 'weighted_average_vote']]\n",
    "\n",
    "movies_one.rename(columns = {'weighted_average_vote':'average_role_score'}, inplace=True)"
   ]
  },
  {
   "cell_type": "markdown",
   "metadata": {},
   "source": [
    "### Scores of Actors, Actresses, and Directors"
   ]
  },
  {
   "cell_type": "code",
   "execution_count": 73,
   "metadata": {},
   "outputs": [],
   "source": [
    "actors_role = movies.groupby(['name']).sum() / movies.groupby(['name']).count()\n",
    "actors_role = actors_role.reset_index()"
   ]
  },
  {
   "cell_type": "code",
   "execution_count": 74,
   "metadata": {},
   "outputs": [],
   "source": [
    "actors_role = actors_role[['name', 'movie_title', 'role_actor', 'role_actress', 'role_director', 'weighted_average_vote']]\n",
    "actress_role = actors_role\n",
    "directors_role = actors_role\n",
    "\n",
    "# Setting dataframes based on the dummified columns\n",
    "actors_role = actors_role[actors_role['role_actor'] >= 1]\n",
    "actress_role = actress_role[actress_role['role_actress'] >= 1]\n",
    "directors_role = directors_role[directors_role['role_director'] >= 1]"
   ]
  },
  {
   "cell_type": "code",
   "execution_count": 75,
   "metadata": {},
   "outputs": [],
   "source": [
    "# Create new dataframe of each individual actor and their average score\n",
    "actors_role = actors_role[['name', 'weighted_average_vote']]\n",
    "actors_role.rename(columns = {'weighted_average_vote':'actor_score'}, inplace=True)\n",
    "\n",
    "# Create new dataframe of each individual actress and their average score\n",
    "actress_role = actress_role[['name', 'weighted_average_vote']]\n",
    "actress_role.rename(columns = {'weighted_average_vote':'actress_score'}, inplace=True)\n",
    "\n",
    "# Create new dataframe of each individual director and their average score\n",
    "directors_role = directors_role[['name', 'weighted_average_vote']]\n",
    "directors_role.rename(columns = {'weighted_average_vote':'director_score'}, inplace=True)"
   ]
  },
  {
   "cell_type": "code",
   "execution_count": 76,
   "metadata": {},
   "outputs": [
    {
     "data": {
      "text/html": [
       "<div>\n",
       "<style scoped>\n",
       "    .dataframe tbody tr th:only-of-type {\n",
       "        vertical-align: middle;\n",
       "    }\n",
       "\n",
       "    .dataframe tbody tr th {\n",
       "        vertical-align: top;\n",
       "    }\n",
       "\n",
       "    .dataframe thead th {\n",
       "        text-align: right;\n",
       "    }\n",
       "</style>\n",
       "<table border=\"1\" class=\"dataframe\">\n",
       "  <thead>\n",
       "    <tr style=\"text-align: right;\">\n",
       "      <th></th>\n",
       "      <th>name</th>\n",
       "      <th>actor_score</th>\n",
       "    </tr>\n",
       "  </thead>\n",
       "  <tbody>\n",
       "    <tr>\n",
       "      <th>0</th>\n",
       "      <td>'Big' LeRoy Mobley</td>\n",
       "      <td>6.40</td>\n",
       "    </tr>\n",
       "    <tr>\n",
       "      <th>1</th>\n",
       "      <td>'Ducky' Louie</td>\n",
       "      <td>6.40</td>\n",
       "    </tr>\n",
       "    <tr>\n",
       "      <th>3</th>\n",
       "      <td>'Lee' George Quinones</td>\n",
       "      <td>7.10</td>\n",
       "    </tr>\n",
       "    <tr>\n",
       "      <th>4</th>\n",
       "      <td>'Little Billy' Rhodes</td>\n",
       "      <td>3.90</td>\n",
       "    </tr>\n",
       "    <tr>\n",
       "      <th>5</th>\n",
       "      <td>'Philthy' Phil Phillips</td>\n",
       "      <td>3.70</td>\n",
       "    </tr>\n",
       "    <tr>\n",
       "      <th>...</th>\n",
       "      <td>...</td>\n",
       "      <td>...</td>\n",
       "    </tr>\n",
       "    <tr>\n",
       "      <th>54428</th>\n",
       "      <td>Zuher Khan</td>\n",
       "      <td>4.40</td>\n",
       "    </tr>\n",
       "    <tr>\n",
       "      <th>54434</th>\n",
       "      <td>Álex Nova</td>\n",
       "      <td>6.80</td>\n",
       "    </tr>\n",
       "    <tr>\n",
       "      <th>54440</th>\n",
       "      <td>Íce Mrozek</td>\n",
       "      <td>4.05</td>\n",
       "    </tr>\n",
       "    <tr>\n",
       "      <th>54442</th>\n",
       "      <td>Óscar Jaenada</td>\n",
       "      <td>6.30</td>\n",
       "    </tr>\n",
       "    <tr>\n",
       "      <th>54444</th>\n",
       "      <td>Þórir Waagfjörð</td>\n",
       "      <td>5.30</td>\n",
       "    </tr>\n",
       "  </tbody>\n",
       "</table>\n",
       "<p>25022 rows × 2 columns</p>\n",
       "</div>"
      ],
      "text/plain": [
       "                          name  actor_score\n",
       "0           'Big' LeRoy Mobley         6.40\n",
       "1                'Ducky' Louie         6.40\n",
       "3        'Lee' George Quinones         7.10\n",
       "4        'Little Billy' Rhodes         3.90\n",
       "5      'Philthy' Phil Phillips         3.70\n",
       "...                        ...          ...\n",
       "54428               Zuher Khan         4.40\n",
       "54434                Álex Nova         6.80\n",
       "54440               Íce Mrozek         4.05\n",
       "54442            Óscar Jaenada         6.30\n",
       "54444          Þórir Waagfjörð         5.30\n",
       "\n",
       "[25022 rows x 2 columns]"
      ]
     },
     "execution_count": 76,
     "metadata": {},
     "output_type": "execute_result"
    }
   ],
   "source": [
    "# Visualizing each actor and their average score\n",
    "actors_role"
   ]
  },
  {
   "cell_type": "code",
   "execution_count": 77,
   "metadata": {},
   "outputs": [
    {
     "data": {
      "text/html": [
       "<div>\n",
       "<style scoped>\n",
       "    .dataframe tbody tr th:only-of-type {\n",
       "        vertical-align: middle;\n",
       "    }\n",
       "\n",
       "    .dataframe tbody tr th {\n",
       "        vertical-align: top;\n",
       "    }\n",
       "\n",
       "    .dataframe thead th {\n",
       "        text-align: right;\n",
       "    }\n",
       "</style>\n",
       "<table border=\"1\" class=\"dataframe\">\n",
       "  <thead>\n",
       "    <tr style=\"text-align: right;\">\n",
       "      <th></th>\n",
       "      <th>name</th>\n",
       "      <th>actress_score</th>\n",
       "    </tr>\n",
       "  </thead>\n",
       "  <tbody>\n",
       "    <tr>\n",
       "      <th>9</th>\n",
       "      <td>A Leslie Kies</td>\n",
       "      <td>5.100</td>\n",
       "    </tr>\n",
       "    <tr>\n",
       "      <th>28</th>\n",
       "      <td>A.J. Cook</td>\n",
       "      <td>5.325</td>\n",
       "    </tr>\n",
       "    <tr>\n",
       "      <th>34</th>\n",
       "      <td>A.J. Langer</td>\n",
       "      <td>5.250</td>\n",
       "    </tr>\n",
       "    <tr>\n",
       "      <th>47</th>\n",
       "      <td>AJ Michalka</td>\n",
       "      <td>5.860</td>\n",
       "    </tr>\n",
       "    <tr>\n",
       "      <th>49</th>\n",
       "      <td>Aaliyah</td>\n",
       "      <td>6.100</td>\n",
       "    </tr>\n",
       "    <tr>\n",
       "      <th>...</th>\n",
       "      <td>...</td>\n",
       "      <td>...</td>\n",
       "    </tr>\n",
       "    <tr>\n",
       "      <th>54430</th>\n",
       "      <td>Zully Montero</td>\n",
       "      <td>6.400</td>\n",
       "    </tr>\n",
       "    <tr>\n",
       "      <th>54431</th>\n",
       "      <td>Zuzanna Surowy</td>\n",
       "      <td>5.700</td>\n",
       "    </tr>\n",
       "    <tr>\n",
       "      <th>54435</th>\n",
       "      <td>Ángela Molina</td>\n",
       "      <td>6.100</td>\n",
       "    </tr>\n",
       "    <tr>\n",
       "      <th>54437</th>\n",
       "      <td>Élodie Bouchez</td>\n",
       "      <td>5.450</td>\n",
       "    </tr>\n",
       "    <tr>\n",
       "      <th>54438</th>\n",
       "      <td>Émilie Leclerc</td>\n",
       "      <td>7.300</td>\n",
       "    </tr>\n",
       "  </tbody>\n",
       "</table>\n",
       "<p>17476 rows × 2 columns</p>\n",
       "</div>"
      ],
      "text/plain": [
       "                 name  actress_score\n",
       "9       A Leslie Kies          5.100\n",
       "28          A.J. Cook          5.325\n",
       "34        A.J. Langer          5.250\n",
       "47        AJ Michalka          5.860\n",
       "49            Aaliyah          6.100\n",
       "...               ...            ...\n",
       "54430   Zully Montero          6.400\n",
       "54431  Zuzanna Surowy          5.700\n",
       "54435   Ángela Molina          6.100\n",
       "54437  Élodie Bouchez          5.450\n",
       "54438  Émilie Leclerc          7.300\n",
       "\n",
       "[17476 rows x 2 columns]"
      ]
     },
     "execution_count": 77,
     "metadata": {},
     "output_type": "execute_result"
    }
   ],
   "source": [
    "# Visualizing each actress and their average score\n",
    "actress_role"
   ]
  },
  {
   "cell_type": "code",
   "execution_count": 78,
   "metadata": {},
   "outputs": [
    {
     "data": {
      "text/html": [
       "<div>\n",
       "<style scoped>\n",
       "    .dataframe tbody tr th:only-of-type {\n",
       "        vertical-align: middle;\n",
       "    }\n",
       "\n",
       "    .dataframe tbody tr th {\n",
       "        vertical-align: top;\n",
       "    }\n",
       "\n",
       "    .dataframe thead th {\n",
       "        text-align: right;\n",
       "    }\n",
       "</style>\n",
       "<table border=\"1\" class=\"dataframe\">\n",
       "  <thead>\n",
       "    <tr style=\"text-align: right;\">\n",
       "      <th></th>\n",
       "      <th>name</th>\n",
       "      <th>director_score</th>\n",
       "    </tr>\n",
       "  </thead>\n",
       "  <tbody>\n",
       "    <tr>\n",
       "      <th>2</th>\n",
       "      <td>'Evil' Ted Smith</td>\n",
       "      <td>4.000000</td>\n",
       "    </tr>\n",
       "    <tr>\n",
       "      <th>11</th>\n",
       "      <td>A. Blaine Miller</td>\n",
       "      <td>5.300000</td>\n",
       "    </tr>\n",
       "    <tr>\n",
       "      <th>12</th>\n",
       "      <td>A. Dean Bell</td>\n",
       "      <td>4.650000</td>\n",
       "    </tr>\n",
       "    <tr>\n",
       "      <th>15</th>\n",
       "      <td>A. Raven Cruz</td>\n",
       "      <td>2.100000</td>\n",
       "    </tr>\n",
       "    <tr>\n",
       "      <th>21</th>\n",
       "      <td>A.D. Calvo</td>\n",
       "      <td>5.016667</td>\n",
       "    </tr>\n",
       "    <tr>\n",
       "      <th>...</th>\n",
       "      <td>...</td>\n",
       "      <td>...</td>\n",
       "    </tr>\n",
       "    <tr>\n",
       "      <th>54433</th>\n",
       "      <td>Àlex Pastor</td>\n",
       "      <td>6.000000</td>\n",
       "    </tr>\n",
       "    <tr>\n",
       "      <th>54436</th>\n",
       "      <td>Édouard Molinaro</td>\n",
       "      <td>5.900000</td>\n",
       "    </tr>\n",
       "    <tr>\n",
       "      <th>54439</th>\n",
       "      <td>Éric Rochat</td>\n",
       "      <td>5.600000</td>\n",
       "    </tr>\n",
       "    <tr>\n",
       "      <th>54441</th>\n",
       "      <td>Ómar Örn Hauksson</td>\n",
       "      <td>5.000000</td>\n",
       "    </tr>\n",
       "    <tr>\n",
       "      <th>54443</th>\n",
       "      <td>Özgür Dogruöz</td>\n",
       "      <td>6.500000</td>\n",
       "    </tr>\n",
       "  </tbody>\n",
       "</table>\n",
       "<p>10675 rows × 2 columns</p>\n",
       "</div>"
      ],
      "text/plain": [
       "                    name  director_score\n",
       "2       'Evil' Ted Smith        4.000000\n",
       "11      A. Blaine Miller        5.300000\n",
       "12          A. Dean Bell        4.650000\n",
       "15         A. Raven Cruz        2.100000\n",
       "21            A.D. Calvo        5.016667\n",
       "...                  ...             ...\n",
       "54433        Àlex Pastor        6.000000\n",
       "54436   Édouard Molinaro        5.900000\n",
       "54439        Éric Rochat        5.600000\n",
       "54441  Ómar Örn Hauksson        5.000000\n",
       "54443      Özgür Dogruöz        6.500000\n",
       "\n",
       "[10675 rows x 2 columns]"
      ]
     },
     "execution_count": 78,
     "metadata": {},
     "output_type": "execute_result"
    }
   ],
   "source": [
    "# Visualizing each director and their average score\n",
    "directors_role"
   ]
  },
  {
   "cell_type": "markdown",
   "metadata": {},
   "source": [
    "### Merge Role Scores to DataFrame"
   ]
  },
  {
   "cell_type": "code",
   "execution_count": 79,
   "metadata": {},
   "outputs": [],
   "source": [
    "# Merging movies with the average role scores.\n",
    "final_movies = pd.merge(movies, movies_one, left_on = 'name', right_on = 'name')\n",
    "final_movies = final_movies.groupby(['movie_title']).sum() / final_movies.groupby(['movie_title']).count()\n",
    "final_movies = final_movies.reset_index()\n",
    "final_movies.rename(columns = {'average_role_score':'casting_score'}, inplace=True)"
   ]
  },
  {
   "cell_type": "code",
   "execution_count": 80,
   "metadata": {},
   "outputs": [],
   "source": [
    "# Merging average actors scores for each movie by movie\n",
    "final_movies_actors = pd.merge(movies, actors_role, left_on = 'name', right_on = 'name')\n",
    "final_movies_actors = final_movies_actors.groupby(['movie_title']).sum() / final_movies_actors.groupby(['movie_title']).count()\n",
    "final_movies_actors = final_movies_actors.reset_index()"
   ]
  },
  {
   "cell_type": "code",
   "execution_count": 81,
   "metadata": {},
   "outputs": [],
   "source": [
    "# Merging average actresses scores for each movie by movie\n",
    "final_movies_actresses = pd.merge(movies, actress_role, left_on = 'name', right_on = 'name')\n",
    "final_movies_actresses = final_movies_actresses.groupby(['movie_title']).sum() / final_movies_actresses.groupby(['movie_title']).count()\n",
    "final_movies_actresses = final_movies_actresses.reset_index()"
   ]
  },
  {
   "cell_type": "code",
   "execution_count": 82,
   "metadata": {},
   "outputs": [],
   "source": [
    "# Merging average directors scores for each movie by movie\n",
    "final_movie_directors = pd.merge(movies, directors_role, left_on = 'name', right_on = 'name')\n",
    "final_movie_directors = final_movie_directors.groupby(['movie_title']).sum() / final_movie_directors.groupby(['movie_title']).count()\n",
    "final_movie_directors = final_movie_directors.reset_index()"
   ]
  },
  {
   "cell_type": "code",
   "execution_count": 83,
   "metadata": {},
   "outputs": [],
   "source": [
    "final_df = movies"
   ]
  },
  {
   "cell_type": "code",
   "execution_count": 84,
   "metadata": {},
   "outputs": [],
   "source": [
    "# Rename columns\n",
    "final_df.rename(columns = {'plot_y':'plot',\n",
    "                             'duration_y':'duration',\n",
    "                             'actors_y':'cast'}, inplace=True)\n",
    "\n",
    "# Create total_score column which is an average of weighted_average_vote, us_voters_rating, mean_vote, and median_vote\n",
    "final_df['total_score'] = (final_df['weighted_average_vote'] + final_df['us_voters_rating'] + final_df['mean_vote'] + final_df['median_vote']) / 4\n",
    "\n",
    "# Dropping duplicates\n",
    "final_df = final_df.drop_duplicates()"
   ]
  },
  {
   "cell_type": "code",
   "execution_count": 85,
   "metadata": {},
   "outputs": [],
   "source": [
    "# Ensuring each directors, actors, and actresses dataframe only contains their score and I can merge on movie_title\n",
    "final_movie_directors = final_movie_directors[['movie_title', 'director_score']]\n",
    "final_movies_actors = final_movies_actors[['movie_title', 'actor_score']]\n",
    "final_movies_actresses = final_movies_actresses[['movie_title', 'actress_score']]\n",
    "\n",
    "final_df = pd.merge(final_df, final_movie_directors, left_on = 'movie_title', right_on = 'movie_title')\n",
    "final_df = pd.merge(final_df, final_movies_actors, left_on = 'movie_title', right_on = 'movie_title')\n",
    "final_df = pd.merge(final_df, final_movies_actresses, left_on = 'movie_title', right_on = 'movie_title')\n",
    "\n",
    "final_df = final_df.round(3)"
   ]
  },
  {
   "cell_type": "code",
   "execution_count": 86,
   "metadata": {
    "scrolled": true
   },
   "outputs": [],
   "source": [
    "# Found duplicate values. Dropping to ensure data is valid\n",
    "final_df = final_df.drop_duplicates(subset = ['movie_title'])"
   ]
  },
  {
   "cell_type": "code",
   "execution_count": 94,
   "metadata": {},
   "outputs": [],
   "source": [
    "final_df = final_df[final_df['year'] >= 1970]"
   ]
  },
  {
   "cell_type": "markdown",
   "metadata": {},
   "source": [
    "### Sentiment Analysis of Plot and Tagline"
   ]
  },
  {
   "cell_type": "code",
   "execution_count": 96,
   "metadata": {},
   "outputs": [
    {
     "name": "stderr",
     "output_type": "stream",
     "text": [
      "C:\\Users\\nolan_fur2pfn\\.conda\\envs\\tf\\lib\\site-packages\\ipykernel_launcher.py:14: SettingWithCopyWarning: \n",
      "A value is trying to be set on a copy of a slice from a DataFrame.\n",
      "Try using .loc[row_indexer,col_indexer] = value instead\n",
      "\n",
      "See the caveats in the documentation: https://pandas.pydata.org/pandas-docs/stable/user_guide/indexing.html#returning-a-view-versus-a-copy\n",
      "  \n"
     ]
    }
   ],
   "source": [
    "plot_desc = final_df['plot'].tolist()\n",
    "\n",
    "analyzer = SentimentIntensityAnalyzer()\n",
    "\n",
    "def get_polarity_plot(plot_desc):\n",
    "    polarity = []\n",
    "    for post in plot_desc:\n",
    "        vs = analyzer.polarity_scores(post)\n",
    "        polarity.append(vs['compound'])\n",
    "    return polarity\n",
    "\n",
    "polarity = get_polarity_plot(plot_desc)\n",
    "\n",
    "final_df['plot_sentiment'] = polarity"
   ]
  },
  {
   "cell_type": "markdown",
   "metadata": {},
   "source": [
    "### Ordering of Columns in DataFrame"
   ]
  },
  {
   "cell_type": "code",
   "execution_count": 98,
   "metadata": {},
   "outputs": [],
   "source": [
    "final_df = final_df[['movie_title', 'year', 'actors', 'plot', 'duration', 'Action', 'Adventure', 'Animation', 'Biography', \n",
    "          'Comedy', 'Crime', 'Documentary', 'Drama', 'Family', 'Fantasy', 'Film-Noir', 'History', 'Horror', 'Music', \n",
    "          'Musical', 'Mystery', 'News', 'Reality-TV', 'Romance', 'Sci-Fi', 'Sport', 'Thriller', 'War', 'Western',\n",
    "          'avg_vote', 'votes', 'weighted_average_vote', 'total_votes', 'mean_vote', 'median_vote', 'votes_1', 'votes_2', \n",
    "          'votes_3', 'votes_4', 'votes_5', 'votes_6', 'votes_7', 'votes_8', 'votes_9', 'votes_10', 'us_voters_rating', \n",
    "          'us_voters_votes', 'plot_sentiment', 'director_score', 'actor_score', 'actress_score', 'total_score']]"
   ]
  },
  {
   "cell_type": "code",
   "execution_count": 99,
   "metadata": {},
   "outputs": [],
   "source": [
    "final_df = final_df.dropna()\n",
    "final_df = final_df.reset_index()\n",
    "final_df.drop(columns = ['index'], inplace=True)"
   ]
  },
  {
   "cell_type": "code",
   "execution_count": 100,
   "metadata": {
    "scrolled": true
   },
   "outputs": [
    {
     "data": {
      "text/html": [
       "<div>\n",
       "<style scoped>\n",
       "    .dataframe tbody tr th:only-of-type {\n",
       "        vertical-align: middle;\n",
       "    }\n",
       "\n",
       "    .dataframe tbody tr th {\n",
       "        vertical-align: top;\n",
       "    }\n",
       "\n",
       "    .dataframe thead th {\n",
       "        text-align: right;\n",
       "    }\n",
       "</style>\n",
       "<table border=\"1\" class=\"dataframe\">\n",
       "  <thead>\n",
       "    <tr style=\"text-align: right;\">\n",
       "      <th></th>\n",
       "      <th>movie_title</th>\n",
       "      <th>year</th>\n",
       "      <th>actors</th>\n",
       "      <th>plot</th>\n",
       "      <th>duration</th>\n",
       "      <th>Action</th>\n",
       "      <th>Adventure</th>\n",
       "      <th>Animation</th>\n",
       "      <th>Biography</th>\n",
       "      <th>Comedy</th>\n",
       "      <th>...</th>\n",
       "      <th>votes_8</th>\n",
       "      <th>votes_9</th>\n",
       "      <th>votes_10</th>\n",
       "      <th>us_voters_rating</th>\n",
       "      <th>us_voters_votes</th>\n",
       "      <th>plot_sentiment</th>\n",
       "      <th>director_score</th>\n",
       "      <th>actor_score</th>\n",
       "      <th>actress_score</th>\n",
       "      <th>total_score</th>\n",
       "    </tr>\n",
       "  </thead>\n",
       "  <tbody>\n",
       "    <tr>\n",
       "      <th>0</th>\n",
       "      <td>Hambone and Hillie</td>\n",
       "      <td>1983</td>\n",
       "      <td>Lillian Gish, Candy Clark, O.J. Simpson, Rober...</td>\n",
       "      <td>A dog (Hambone) treks from New York City to Lo...</td>\n",
       "      <td>90</td>\n",
       "      <td>0</td>\n",
       "      <td>0</td>\n",
       "      <td>0</td>\n",
       "      <td>0</td>\n",
       "      <td>1</td>\n",
       "      <td>...</td>\n",
       "      <td>10</td>\n",
       "      <td>4</td>\n",
       "      <td>25</td>\n",
       "      <td>4.8</td>\n",
       "      <td>58.0</td>\n",
       "      <td>0.2732</td>\n",
       "      <td>5.200</td>\n",
       "      <td>5.670</td>\n",
       "      <td>6.150</td>\n",
       "      <td>5.425</td>\n",
       "    </tr>\n",
       "    <tr>\n",
       "      <th>1</th>\n",
       "      <td>The Whales of August</td>\n",
       "      <td>1987</td>\n",
       "      <td>Bette Davis, Lillian Gish, Vincent Price, Ann ...</td>\n",
       "      <td>Two aged sisters reflect on life and the past ...</td>\n",
       "      <td>90</td>\n",
       "      <td>0</td>\n",
       "      <td>0</td>\n",
       "      <td>0</td>\n",
       "      <td>0</td>\n",
       "      <td>0</td>\n",
       "      <td>...</td>\n",
       "      <td>894</td>\n",
       "      <td>422</td>\n",
       "      <td>894</td>\n",
       "      <td>7.3</td>\n",
       "      <td>1476.0</td>\n",
       "      <td>0.0000</td>\n",
       "      <td>7.300</td>\n",
       "      <td>6.621</td>\n",
       "      <td>6.675</td>\n",
       "      <td>7.550</td>\n",
       "    </tr>\n",
       "    <tr>\n",
       "      <th>2</th>\n",
       "      <td>Family Plot</td>\n",
       "      <td>1976</td>\n",
       "      <td>Karen Black, Bruce Dern, Barbara Harris, Willi...</td>\n",
       "      <td>A phony psychic/con artist and her taxi driver...</td>\n",
       "      <td>120</td>\n",
       "      <td>0</td>\n",
       "      <td>0</td>\n",
       "      <td>0</td>\n",
       "      <td>0</td>\n",
       "      <td>1</td>\n",
       "      <td>...</td>\n",
       "      <td>3515</td>\n",
       "      <td>1055</td>\n",
       "      <td>1041</td>\n",
       "      <td>6.8</td>\n",
       "      <td>4670.0</td>\n",
       "      <td>-0.2960</td>\n",
       "      <td>7.493</td>\n",
       "      <td>5.860</td>\n",
       "      <td>5.724</td>\n",
       "      <td>6.850</td>\n",
       "    </tr>\n",
       "    <tr>\n",
       "      <th>3</th>\n",
       "      <td>Disconnected</td>\n",
       "      <td>1984</td>\n",
       "      <td>Frances Raines, Mark Walker, Carl Koch, Profes...</td>\n",
       "      <td>Alicia has started getting these very noisy, a...</td>\n",
       "      <td>82</td>\n",
       "      <td>0</td>\n",
       "      <td>0</td>\n",
       "      <td>0</td>\n",
       "      <td>0</td>\n",
       "      <td>0</td>\n",
       "      <td>...</td>\n",
       "      <td>13</td>\n",
       "      <td>9</td>\n",
       "      <td>22</td>\n",
       "      <td>4.5</td>\n",
       "      <td>165.0</td>\n",
       "      <td>-0.6764</td>\n",
       "      <td>4.600</td>\n",
       "      <td>4.200</td>\n",
       "      <td>3.333</td>\n",
       "      <td>4.325</td>\n",
       "    </tr>\n",
       "    <tr>\n",
       "      <th>4</th>\n",
       "      <td>Islands in the Stream</td>\n",
       "      <td>1977</td>\n",
       "      <td>George C. Scott, David Hemmings, Gilbert Rolan...</td>\n",
       "      <td>An isolated sculptor is visited by his three s...</td>\n",
       "      <td>104</td>\n",
       "      <td>0</td>\n",
       "      <td>0</td>\n",
       "      <td>0</td>\n",
       "      <td>0</td>\n",
       "      <td>0</td>\n",
       "      <td>...</td>\n",
       "      <td>184</td>\n",
       "      <td>80</td>\n",
       "      <td>152</td>\n",
       "      <td>6.5</td>\n",
       "      <td>435.0</td>\n",
       "      <td>-0.3182</td>\n",
       "      <td>6.786</td>\n",
       "      <td>6.434</td>\n",
       "      <td>6.250</td>\n",
       "      <td>6.700</td>\n",
       "    </tr>\n",
       "    <tr>\n",
       "      <th>...</th>\n",
       "      <td>...</td>\n",
       "      <td>...</td>\n",
       "      <td>...</td>\n",
       "      <td>...</td>\n",
       "      <td>...</td>\n",
       "      <td>...</td>\n",
       "      <td>...</td>\n",
       "      <td>...</td>\n",
       "      <td>...</td>\n",
       "      <td>...</td>\n",
       "      <td>...</td>\n",
       "      <td>...</td>\n",
       "      <td>...</td>\n",
       "      <td>...</td>\n",
       "      <td>...</td>\n",
       "      <td>...</td>\n",
       "      <td>...</td>\n",
       "      <td>...</td>\n",
       "      <td>...</td>\n",
       "      <td>...</td>\n",
       "      <td>...</td>\n",
       "    </tr>\n",
       "    <tr>\n",
       "      <th>12934</th>\n",
       "      <td>A Room Full of Nothing</td>\n",
       "      <td>2019</td>\n",
       "      <td>Ivy Meehan, Duncan Coe, Kat Albert, Austin Ale...</td>\n",
       "      <td>An artistic couple living in Austin, Texas, wa...</td>\n",
       "      <td>85</td>\n",
       "      <td>0</td>\n",
       "      <td>0</td>\n",
       "      <td>0</td>\n",
       "      <td>0</td>\n",
       "      <td>1</td>\n",
       "      <td>...</td>\n",
       "      <td>5</td>\n",
       "      <td>14</td>\n",
       "      <td>15</td>\n",
       "      <td>4.2</td>\n",
       "      <td>32.0</td>\n",
       "      <td>0.0000</td>\n",
       "      <td>3.300</td>\n",
       "      <td>3.300</td>\n",
       "      <td>3.300</td>\n",
       "      <td>4.375</td>\n",
       "    </tr>\n",
       "    <tr>\n",
       "      <th>12935</th>\n",
       "      <td>The Nomads</td>\n",
       "      <td>2019</td>\n",
       "      <td>Andrea Barnes, Erik Blachford, Jennifer Butler...</td>\n",
       "      <td>Amidst the chaos of massive budget cuts and sc...</td>\n",
       "      <td>97</td>\n",
       "      <td>0</td>\n",
       "      <td>0</td>\n",
       "      <td>0</td>\n",
       "      <td>0</td>\n",
       "      <td>0</td>\n",
       "      <td>...</td>\n",
       "      <td>50</td>\n",
       "      <td>19</td>\n",
       "      <td>860</td>\n",
       "      <td>6.2</td>\n",
       "      <td>72.0</td>\n",
       "      <td>-0.7096</td>\n",
       "      <td>8.200</td>\n",
       "      <td>8.200</td>\n",
       "      <td>8.200</td>\n",
       "      <td>8.325</td>\n",
       "    </tr>\n",
       "    <tr>\n",
       "      <th>12936</th>\n",
       "      <td>Saint Frances</td>\n",
       "      <td>2019</td>\n",
       "      <td>Kelly O'Sullivan, Charin Alvarez, Braden Croth...</td>\n",
       "      <td>After an accidental pregnancy turned abortion,...</td>\n",
       "      <td>106</td>\n",
       "      <td>0</td>\n",
       "      <td>0</td>\n",
       "      <td>0</td>\n",
       "      <td>0</td>\n",
       "      <td>1</td>\n",
       "      <td>...</td>\n",
       "      <td>263</td>\n",
       "      <td>98</td>\n",
       "      <td>88</td>\n",
       "      <td>7.0</td>\n",
       "      <td>220.0</td>\n",
       "      <td>0.2023</td>\n",
       "      <td>6.900</td>\n",
       "      <td>6.900</td>\n",
       "      <td>6.900</td>\n",
       "      <td>6.950</td>\n",
       "    </tr>\n",
       "    <tr>\n",
       "      <th>12937</th>\n",
       "      <td>Xane: The Vampire God</td>\n",
       "      <td>2020</td>\n",
       "      <td>Parker Boles, Jenna Farden, Robere Kazadi, Zoë...</td>\n",
       "      <td>Xane, an immortal vampire, returns to the past...</td>\n",
       "      <td>118</td>\n",
       "      <td>0</td>\n",
       "      <td>1</td>\n",
       "      <td>0</td>\n",
       "      <td>0</td>\n",
       "      <td>0</td>\n",
       "      <td>...</td>\n",
       "      <td>30</td>\n",
       "      <td>48</td>\n",
       "      <td>86</td>\n",
       "      <td>3.6</td>\n",
       "      <td>10.0</td>\n",
       "      <td>0.6652</td>\n",
       "      <td>5.000</td>\n",
       "      <td>5.000</td>\n",
       "      <td>5.000</td>\n",
       "      <td>6.225</td>\n",
       "    </tr>\n",
       "    <tr>\n",
       "      <th>12938</th>\n",
       "      <td>Açela</td>\n",
       "      <td>2020</td>\n",
       "      <td>Mike Carnes, Nic Ferg, Ashley Mellinger, Yunus...</td>\n",
       "      <td>Açela and her friends embark on an enchanting ...</td>\n",
       "      <td>70</td>\n",
       "      <td>0</td>\n",
       "      <td>1</td>\n",
       "      <td>1</td>\n",
       "      <td>0</td>\n",
       "      <td>1</td>\n",
       "      <td>...</td>\n",
       "      <td>203</td>\n",
       "      <td>169</td>\n",
       "      <td>66</td>\n",
       "      <td>2.3</td>\n",
       "      <td>9.0</td>\n",
       "      <td>0.4767</td>\n",
       "      <td>6.500</td>\n",
       "      <td>6.500</td>\n",
       "      <td>6.500</td>\n",
       "      <td>5.425</td>\n",
       "    </tr>\n",
       "  </tbody>\n",
       "</table>\n",
       "<p>12939 rows × 52 columns</p>\n",
       "</div>"
      ],
      "text/plain": [
       "                  movie_title  year  \\\n",
       "0          Hambone and Hillie  1983   \n",
       "1        The Whales of August  1987   \n",
       "2                 Family Plot  1976   \n",
       "3                Disconnected  1984   \n",
       "4       Islands in the Stream  1977   \n",
       "...                       ...   ...   \n",
       "12934  A Room Full of Nothing  2019   \n",
       "12935              The Nomads  2019   \n",
       "12936           Saint Frances  2019   \n",
       "12937   Xane: The Vampire God  2020   \n",
       "12938                   Açela  2020   \n",
       "\n",
       "                                                  actors  \\\n",
       "0      Lillian Gish, Candy Clark, O.J. Simpson, Rober...   \n",
       "1      Bette Davis, Lillian Gish, Vincent Price, Ann ...   \n",
       "2      Karen Black, Bruce Dern, Barbara Harris, Willi...   \n",
       "3      Frances Raines, Mark Walker, Carl Koch, Profes...   \n",
       "4      George C. Scott, David Hemmings, Gilbert Rolan...   \n",
       "...                                                  ...   \n",
       "12934  Ivy Meehan, Duncan Coe, Kat Albert, Austin Ale...   \n",
       "12935  Andrea Barnes, Erik Blachford, Jennifer Butler...   \n",
       "12936  Kelly O'Sullivan, Charin Alvarez, Braden Croth...   \n",
       "12937  Parker Boles, Jenna Farden, Robere Kazadi, Zoë...   \n",
       "12938  Mike Carnes, Nic Ferg, Ashley Mellinger, Yunus...   \n",
       "\n",
       "                                                    plot  duration  Action  \\\n",
       "0      A dog (Hambone) treks from New York City to Lo...        90       0   \n",
       "1      Two aged sisters reflect on life and the past ...        90       0   \n",
       "2      A phony psychic/con artist and her taxi driver...       120       0   \n",
       "3      Alicia has started getting these very noisy, a...        82       0   \n",
       "4      An isolated sculptor is visited by his three s...       104       0   \n",
       "...                                                  ...       ...     ...   \n",
       "12934  An artistic couple living in Austin, Texas, wa...        85       0   \n",
       "12935  Amidst the chaos of massive budget cuts and sc...        97       0   \n",
       "12936  After an accidental pregnancy turned abortion,...       106       0   \n",
       "12937  Xane, an immortal vampire, returns to the past...       118       0   \n",
       "12938  Açela and her friends embark on an enchanting ...        70       0   \n",
       "\n",
       "       Adventure  Animation  Biography  Comedy  ...  votes_8  votes_9  \\\n",
       "0              0          0          0       1  ...       10        4   \n",
       "1              0          0          0       0  ...      894      422   \n",
       "2              0          0          0       1  ...     3515     1055   \n",
       "3              0          0          0       0  ...       13        9   \n",
       "4              0          0          0       0  ...      184       80   \n",
       "...          ...        ...        ...     ...  ...      ...      ...   \n",
       "12934          0          0          0       1  ...        5       14   \n",
       "12935          0          0          0       0  ...       50       19   \n",
       "12936          0          0          0       1  ...      263       98   \n",
       "12937          1          0          0       0  ...       30       48   \n",
       "12938          1          1          0       1  ...      203      169   \n",
       "\n",
       "       votes_10  us_voters_rating  us_voters_votes  plot_sentiment  \\\n",
       "0            25               4.8             58.0          0.2732   \n",
       "1           894               7.3           1476.0          0.0000   \n",
       "2          1041               6.8           4670.0         -0.2960   \n",
       "3            22               4.5            165.0         -0.6764   \n",
       "4           152               6.5            435.0         -0.3182   \n",
       "...         ...               ...              ...             ...   \n",
       "12934        15               4.2             32.0          0.0000   \n",
       "12935       860               6.2             72.0         -0.7096   \n",
       "12936        88               7.0            220.0          0.2023   \n",
       "12937        86               3.6             10.0          0.6652   \n",
       "12938        66               2.3              9.0          0.4767   \n",
       "\n",
       "       director_score  actor_score  actress_score  total_score  \n",
       "0               5.200        5.670          6.150        5.425  \n",
       "1               7.300        6.621          6.675        7.550  \n",
       "2               7.493        5.860          5.724        6.850  \n",
       "3               4.600        4.200          3.333        4.325  \n",
       "4               6.786        6.434          6.250        6.700  \n",
       "...               ...          ...            ...          ...  \n",
       "12934           3.300        3.300          3.300        4.375  \n",
       "12935           8.200        8.200          8.200        8.325  \n",
       "12936           6.900        6.900          6.900        6.950  \n",
       "12937           5.000        5.000          5.000        6.225  \n",
       "12938           6.500        6.500          6.500        5.425  \n",
       "\n",
       "[12939 rows x 52 columns]"
      ]
     },
     "execution_count": 100,
     "metadata": {},
     "output_type": "execute_result"
    }
   ],
   "source": [
    "final_df"
   ]
  },
  {
   "cell_type": "markdown",
   "metadata": {},
   "source": [
    "### Export Final DataFrame"
   ]
  },
  {
   "cell_type": "code",
   "execution_count": 101,
   "metadata": {},
   "outputs": [],
   "source": [
    "final_df.to_csv('../data/totalscore_df.csv', index=False)"
   ]
  }
 ],
 "metadata": {
  "kernelspec": {
   "display_name": "Python 3",
   "language": "python",
   "name": "python3"
  },
  "language_info": {
   "codemirror_mode": {
    "name": "ipython",
    "version": 3
   },
   "file_extension": ".py",
   "mimetype": "text/x-python",
   "name": "python",
   "nbconvert_exporter": "python",
   "pygments_lexer": "ipython3",
   "version": "3.7.9"
  }
 },
 "nbformat": 4,
 "nbformat_minor": 4
}
