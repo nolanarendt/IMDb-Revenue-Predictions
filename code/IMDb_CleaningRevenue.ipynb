{
 "cells": [
  {
   "cell_type": "markdown",
   "metadata": {},
   "source": [
    "# IMDB Movie Cleaning Revenue\n",
    "![ImdbIcon](../images/imdbheader.jpg)"
   ]
  },
  {
   "cell_type": "markdown",
   "metadata": {},
   "source": [
    "### Notebook Overview\n",
    "\n",
    "Creating a revenue dataset used for predicting movie revenue. Similar cleaning process to my total score dataset, but incorporated budgets and revenue as well. Started by merging my datasets by movie title, and cleaning from there. Movies outside the United States had tons of null values, so I decided to only use movies in the United States, as well as movies from 1970 and onward. I only decided to use actors, actresses, and directors because when I was attempting to use writers, producers, etc., I found that I lost even more data and decided to only use the main three. For future research, I would love to use all of the roles as I found they had a significant impact on total score which I believe has a direct correlation to revenue. I also imputed values for budget and revenue at several locations because either the data given was incorrect, or wrong by quite a bit. Also decided to use sentiment analysis on both the plot and tagline to identify if movies that were upbeat or more dark had an impact on predicting revenue. Lastly, ordered columns for a final dataframe and exported to data folder to use in modeling."
   ]
  },
  {
   "cell_type": "markdown",
   "metadata": {},
   "source": [
    "### Imports"
   ]
  },
  {
   "cell_type": "code",
   "execution_count": 1,
   "metadata": {},
   "outputs": [
    {
     "name": "stderr",
     "output_type": "stream",
     "text": [
      "C:\\Users\\nolan_fur2pfn\\.conda\\envs\\dsi\\lib\\site-packages\\numpy\\_distributor_init.py:32: UserWarning: loaded more than 1 DLL from .libs:\n",
      "C:\\Users\\nolan_fur2pfn\\.conda\\envs\\dsi\\lib\\site-packages\\numpy\\.libs\\libopenblas.NOIJJG62EMASZI6NYURL6JBKM4EVBGM7.gfortran-win_amd64.dll\n",
      "C:\\Users\\nolan_fur2pfn\\.conda\\envs\\dsi\\lib\\site-packages\\numpy\\.libs\\libopenblas.PYQHXLVVQ7VESDPUVUADXEVJOBGHJPAY.gfortran-win_amd64.dll\n",
      "  stacklevel=1)\n"
     ]
    }
   ],
   "source": [
    "import numpy as np\n",
    "import pandas as pd\n",
    "import matplotlib.pyplot as plt\n",
    "import seaborn as sns\n",
    "\n",
    "from nltk.sentiment.vader import SentimentIntensityAnalyzer"
   ]
  },
  {
   "cell_type": "markdown",
   "metadata": {},
   "source": [
    "### Import Data"
   ]
  },
  {
   "cell_type": "code",
   "execution_count": 2,
   "metadata": {},
   "outputs": [
    {
     "name": "stderr",
     "output_type": "stream",
     "text": [
      "C:\\Users\\nolan_fur2pfn\\.conda\\envs\\dsi\\lib\\site-packages\\IPython\\core\\interactiveshell.py:3147: DtypeWarning: Columns (3) have mixed types.Specify dtype option on import or set low_memory=False.\n",
      "  interactivity=interactivity, compiler=compiler, result=result)\n",
      "C:\\Users\\nolan_fur2pfn\\.conda\\envs\\dsi\\lib\\site-packages\\IPython\\core\\interactiveshell.py:3147: DtypeWarning: Columns (5,6,7,8,9,10,11,12,13,14,15,16,17,18,19,20,21,22,23,24,25,26,27,28,29,30,31,32,33,34,35,36,37,38,39,40,41,42,43,44,45,46,47,48,49,50,51,52,53,54,55,56,57,58,59,60,61,62,63,64,65,66,67,68,69,70,71,72,73,74,75,76,77,78,79,80,81,82,83,84,85,86,87,88,89,90,91,92,93,94,95,96,97,98,99,100,101,103,104,105,106,107,108,109,110,111,112,113,114,115,116,117,118,119,120,121,122,123) have mixed types.Specify dtype option on import or set low_memory=False.\n",
      "  interactivity=interactivity, compiler=compiler, result=result)\n"
     ]
    }
   ],
   "source": [
    "movies = pd.read_csv('../data/IMDb_movies.csv')\n",
    "names = pd.read_csv('../data/IMDb_names.csv')\n",
    "ratings = pd.read_csv('../data/IMDb_ratings.csv')\n",
    "titles = pd.read_csv('../data/IMDb_title_principals.csv')\n",
    "budgets_df = pd.read_csv('../data/tmdb_movies_data.csv')"
   ]
  },
  {
   "cell_type": "markdown",
   "metadata": {},
   "source": [
    "### Merge Data"
   ]
  },
  {
   "cell_type": "code",
   "execution_count": 3,
   "metadata": {},
   "outputs": [],
   "source": [
    "# Merging movies with ratings\n",
    "movies = movies.merge(ratings, left_on = 'imdb_title_id', right_on = 'imdb_title_id')\n",
    "# Merging movives with tiles\n",
    "movies = movies.merge(titles, left_on = 'imdb_title_id', right_on = 'imdb_title_id')\n",
    "# Merging movies with names (actors/actresses/directors)\n",
    "movies = movies.merge(names, left_on = 'imdb_name_id', right_on = 'imdb_name_id')"
   ]
  },
  {
   "cell_type": "markdown",
   "metadata": {},
   "source": [
    "### Dropping Columns"
   ]
  },
  {
   "cell_type": "code",
   "execution_count": 4,
   "metadata": {},
   "outputs": [],
   "source": [
    "# Dropping columns that serve no values\n",
    "movies.drop(columns = ['imdb_title_id', 'title', 'language', 'production_company', 'budget', 'metascore', 'reviews_from_critics', \n",
    "                       'usa_gross_income', 'worlwide_gross_income', 'allgenders_0age_avg_vote', 'allgenders_0age_votes', \n",
    "                       'allgenders_18age_avg_vote','allgenders_18age_votes', 'males_0age_avg_vote', 'males_0age_votes',\n",
    "                       'males_18age_avg_vote', 'males_18age_votes', 'females_0age_avg_vote', 'females_0age_votes', \n",
    "                       'females_18age_avg_vote', 'females_18age_votes', 'females_30age_avg_vote', 'females_30age_votes', \n",
    "                       'females_45age_avg_vote', 'females_45age_votes', 'job', 'characters', 'imdb_name_id', 'birth_name',\n",
    "                       'reviews_from_users', 'writer', 'allgenders_30age_avg_vote', 'allgenders_30age_votes', \n",
    "                       'allgenders_45age_avg_vote', 'allgenders_45age_votes', 'males_allages_avg_vote', 'males_allages_votes', \n",
    "                       'males_30age_avg_vote',  'males_30age_votes', 'males_45age_avg_vote', 'males_45age_votes', \n",
    "                       'females_allages_avg_vote', 'females_allages_votes', 'top1000_voters_rating', 'top1000_voters_votes', \n",
    "                       'date_published', 'ordering', 'director', 'non_us_voters_rating', 'non_us_voters_votes'], inplace=True)"
   ]
  },
  {
   "cell_type": "code",
   "execution_count": 5,
   "metadata": {},
   "outputs": [],
   "source": [
    "# Keeping only columns I want to use in dataframe in budgets_df\n",
    "budgets_df = budgets_df[['original_title', 'popularity', 'budget', 'revenue', 'tagline', 'budget_adj', 'revenue_adj']]"
   ]
  },
  {
   "cell_type": "code",
   "execution_count": 6,
   "metadata": {},
   "outputs": [],
   "source": [
    "# Merging movies with budgets_df\n",
    "movies = movies.merge(budgets_df, left_on = 'original_title', right_on = 'original_title')"
   ]
  },
  {
   "cell_type": "markdown",
   "metadata": {},
   "source": [
    "### Cleaning"
   ]
  },
  {
   "cell_type": "code",
   "execution_count": 7,
   "metadata": {},
   "outputs": [],
   "source": [
    "# Removing columns that were not movies\n",
    "movies = movies[movies['year'] != 'TV Movie 2019']\n",
    "# Movies outside the United States had a lot of missing data.\n",
    "movies = movies[movies['country'] == 'USA']\n",
    "# Removing both Reality-TV \n",
    "movies = movies[(movies['genre'] != 'Reality-TV') & (movies['genre'] != 'News')]"
   ]
  },
  {
   "cell_type": "code",
   "execution_count": 8,
   "metadata": {},
   "outputs": [],
   "source": [
    "# A small amount of movies had no description, so I could fill those with Unknown to keep valuable data.\n",
    "movies['description'] = movies['description'].fillna(\"Unknown\")"
   ]
  },
  {
   "cell_type": "code",
   "execution_count": 9,
   "metadata": {},
   "outputs": [],
   "source": [
    "# Less than twenty rows were missing voters rating, so I felt comfortable imputing the mean.\n",
    "movies['us_voters_rating'].fillna((movies['us_voters_rating'].mean()), inplace=True)\n",
    "# Less than twenty rows were missing voters votes, so I felt comfortable imputing the mean.\n",
    "movies['us_voters_votes'].fillna((movies['us_voters_votes'].mean()), inplace=True)"
   ]
  },
  {
   "cell_type": "code",
   "execution_count": 10,
   "metadata": {},
   "outputs": [],
   "source": [
    "# Only looking to work with actors, actresses, and directors.\n",
    "jobs_list = ['actor', 'actress', 'director']\n",
    "\n",
    "# Only keeping actors, actresses, and directors\n",
    "movies = movies[movies['category'].isin(jobs_list)]"
   ]
  },
  {
   "cell_type": "code",
   "execution_count": 11,
   "metadata": {},
   "outputs": [],
   "source": [
    "# Reset index so ordered\n",
    "movies.reset_index(drop=True, inplace=True)"
   ]
  },
  {
   "cell_type": "code",
   "execution_count": 12,
   "metadata": {},
   "outputs": [],
   "source": [
    "# Removing date_of_death and date_of_birth, no longer necessary\n",
    "movies.drop(columns = ['date_of_death', 'date_of_birth'], inplace=True)"
   ]
  },
  {
   "cell_type": "code",
   "execution_count": 13,
   "metadata": {},
   "outputs": [],
   "source": [
    "# Converting column year to integer\n",
    "movies['year'] = movies['year'].astype('int64')"
   ]
  },
  {
   "cell_type": "code",
   "execution_count": 14,
   "metadata": {},
   "outputs": [],
   "source": [
    "# Renaming original title, category, and description.\n",
    "movies.rename(columns = {'original_title':'movie_title',\n",
    "                          'category':'role',\n",
    "                         'description':'plot'}, inplace=True)"
   ]
  },
  {
   "cell_type": "markdown",
   "metadata": {},
   "source": [
    "### Dummify Genre"
   ]
  },
  {
   "cell_type": "code",
   "execution_count": 15,
   "metadata": {},
   "outputs": [],
   "source": [
    "# Using str.get_dummes(\",\", I can have multiple values in dummy columns)\n",
    "# For genre, if a movie is Horror AND Action, a 1 is placed in both of those columns\n",
    "genre_dummies = movies['genre'].str.get_dummies(\", \")\n",
    "# Merging the dummified columns back to the movie dataframe\n",
    "movies = pd.merge(movies, genre_dummies, left_index =True, right_index=True)\n",
    "# Dropping genre and country. Only USA movies and genre is now dummified.\n",
    "movies.drop(columns = ['genre', 'country'], inplace=True)"
   ]
  },
  {
   "cell_type": "code",
   "execution_count": 16,
   "metadata": {},
   "outputs": [],
   "source": [
    "# Dummify roles (actors, actresses, directors)\n",
    "movies = pd.get_dummies(movies, columns = ['role'])"
   ]
  },
  {
   "cell_type": "code",
   "execution_count": 17,
   "metadata": {},
   "outputs": [],
   "source": [
    "# Grouping by movie_title and dividing by the amount of times it is its own row (because of actors, actresses, and directors)\n",
    "movies_one = movies.groupby(['movie_title']).sum() / movies.groupby(['movie_title']).count()\n",
    "movies_one = movies_one.reset_index()"
   ]
  },
  {
   "cell_type": "code",
   "execution_count": 18,
   "metadata": {},
   "outputs": [],
   "source": [
    "# Getting the average score for each name in the dataframe, then changing the column to 'average_role_score'\n",
    "movies_one = movies.groupby(['name']).sum() / movies.groupby(['name']).count()\n",
    "movies_one = movies_one.reset_index()\n",
    "movies_one = movies_one.round(3)\n",
    "movies_one = movies_one[['name', 'weighted_average_vote']]\n",
    "\n",
    "movies_one.rename(columns = {'weighted_average_vote':'average_role_score'}, inplace=True)"
   ]
  },
  {
   "cell_type": "markdown",
   "metadata": {},
   "source": [
    "### Scores of Actors, Actresses, and Directors"
   ]
  },
  {
   "cell_type": "code",
   "execution_count": 19,
   "metadata": {},
   "outputs": [],
   "source": [
    "# Dividing actors total score by number of movies they occur in\n",
    "actors_role = movies.groupby(['name']).sum() / movies.groupby(['name']).count()\n",
    "actors_role = actors_role.reset_index()"
   ]
  },
  {
   "cell_type": "code",
   "execution_count": 20,
   "metadata": {},
   "outputs": [],
   "source": [
    "# Setting actors_role columns to only those I wish to use going forward\n",
    "actors_role = actors_role[['name', 'movie_title', 'role_actor', 'role_actress', 'role_director', 'weighted_average_vote']]\n",
    "# Actress_role and directors_role similar to actors role, will filter them differently\n",
    "actress_role = actors_role\n",
    "directors_role = actors_role\n",
    "\n",
    "# Setting dataframes based on the dummified columns\n",
    "actors_role = actors_role[actors_role['role_actor'] >= 1]\n",
    "actress_role = actress_role[actress_role['role_actress'] >= 1]\n",
    "directors_role = directors_role[directors_role['role_director'] >= 1]"
   ]
  },
  {
   "cell_type": "code",
   "execution_count": 21,
   "metadata": {},
   "outputs": [],
   "source": [
    "# Create new dataframe of each individual actor and their average score\n",
    "actors_role = actors_role[['name', 'weighted_average_vote']]\n",
    "actors_role.rename(columns = {'weighted_average_vote':'actor_score'}, inplace=True)\n",
    "\n",
    "# Create new dataframe of each individual actress and their average score\n",
    "actress_role = actress_role[['name', 'weighted_average_vote']]\n",
    "actress_role.rename(columns = {'weighted_average_vote':'actress_score'}, inplace=True)\n",
    "\n",
    "# Create new dataframe of each individual director and their average score\n",
    "directors_role = directors_role[['name', 'weighted_average_vote']]\n",
    "directors_role.rename(columns = {'weighted_average_vote':'director_score'}, inplace=True)"
   ]
  },
  {
   "cell_type": "code",
   "execution_count": 22,
   "metadata": {},
   "outputs": [
    {
     "data": {
      "text/html": [
       "<div>\n",
       "<style scoped>\n",
       "    .dataframe tbody tr th:only-of-type {\n",
       "        vertical-align: middle;\n",
       "    }\n",
       "\n",
       "    .dataframe tbody tr th {\n",
       "        vertical-align: top;\n",
       "    }\n",
       "\n",
       "    .dataframe thead th {\n",
       "        text-align: right;\n",
       "    }\n",
       "</style>\n",
       "<table border=\"1\" class=\"dataframe\">\n",
       "  <thead>\n",
       "    <tr style=\"text-align: right;\">\n",
       "      <th></th>\n",
       "      <th>name</th>\n",
       "      <th>actor_score</th>\n",
       "    </tr>\n",
       "  </thead>\n",
       "  <tbody>\n",
       "    <tr>\n",
       "      <th>0</th>\n",
       "      <td>'Ducky' Louie</td>\n",
       "      <td>6.400000</td>\n",
       "    </tr>\n",
       "    <tr>\n",
       "      <th>1</th>\n",
       "      <td>'Weird Al' Yankovic</td>\n",
       "      <td>7.000000</td>\n",
       "    </tr>\n",
       "    <tr>\n",
       "      <th>2</th>\n",
       "      <td>50 Cent</td>\n",
       "      <td>5.166667</td>\n",
       "    </tr>\n",
       "    <tr>\n",
       "      <th>4</th>\n",
       "      <td>A. Michael Baldwin</td>\n",
       "      <td>6.200000</td>\n",
       "    </tr>\n",
       "    <tr>\n",
       "      <th>5</th>\n",
       "      <td>A.J. Buckley</td>\n",
       "      <td>4.700000</td>\n",
       "    </tr>\n",
       "    <tr>\n",
       "      <th>...</th>\n",
       "      <td>...</td>\n",
       "      <td>...</td>\n",
       "    </tr>\n",
       "    <tr>\n",
       "      <th>12432</th>\n",
       "      <td>Zakes Mokae</td>\n",
       "      <td>6.500000</td>\n",
       "    </tr>\n",
       "    <tr>\n",
       "      <th>12433</th>\n",
       "      <td>Zakk Wylde</td>\n",
       "      <td>6.700000</td>\n",
       "    </tr>\n",
       "    <tr>\n",
       "      <th>12437</th>\n",
       "      <td>Zane Holtz</td>\n",
       "      <td>5.000000</td>\n",
       "    </tr>\n",
       "    <tr>\n",
       "      <th>12438</th>\n",
       "      <td>Zane Pais</td>\n",
       "      <td>6.000000</td>\n",
       "    </tr>\n",
       "    <tr>\n",
       "      <th>12446</th>\n",
       "      <td>Zero Mostel</td>\n",
       "      <td>7.450000</td>\n",
       "    </tr>\n",
       "  </tbody>\n",
       "</table>\n",
       "<p>5758 rows × 2 columns</p>\n",
       "</div>"
      ],
      "text/plain": [
       "                      name  actor_score\n",
       "0            'Ducky' Louie     6.400000\n",
       "1      'Weird Al' Yankovic     7.000000\n",
       "2                  50 Cent     5.166667\n",
       "4       A. Michael Baldwin     6.200000\n",
       "5             A.J. Buckley     4.700000\n",
       "...                    ...          ...\n",
       "12432          Zakes Mokae     6.500000\n",
       "12433           Zakk Wylde     6.700000\n",
       "12437           Zane Holtz     5.000000\n",
       "12438            Zane Pais     6.000000\n",
       "12446          Zero Mostel     7.450000\n",
       "\n",
       "[5758 rows x 2 columns]"
      ]
     },
     "execution_count": 22,
     "metadata": {},
     "output_type": "execute_result"
    }
   ],
   "source": [
    "# Visualizing each actor and their average score\n",
    "actors_role"
   ]
  },
  {
   "cell_type": "code",
   "execution_count": 23,
   "metadata": {},
   "outputs": [
    {
     "data": {
      "text/html": [
       "<div>\n",
       "<style scoped>\n",
       "    .dataframe tbody tr th:only-of-type {\n",
       "        vertical-align: middle;\n",
       "    }\n",
       "\n",
       "    .dataframe tbody tr th {\n",
       "        vertical-align: top;\n",
       "    }\n",
       "\n",
       "    .dataframe thead th {\n",
       "        text-align: right;\n",
       "    }\n",
       "</style>\n",
       "<table border=\"1\" class=\"dataframe\">\n",
       "  <thead>\n",
       "    <tr style=\"text-align: right;\">\n",
       "      <th></th>\n",
       "      <th>name</th>\n",
       "      <th>actress_score</th>\n",
       "    </tr>\n",
       "  </thead>\n",
       "  <tbody>\n",
       "    <tr>\n",
       "      <th>6</th>\n",
       "      <td>A.J. Cook</td>\n",
       "      <td>6.40</td>\n",
       "    </tr>\n",
       "    <tr>\n",
       "      <th>8</th>\n",
       "      <td>A.J. Langer</td>\n",
       "      <td>6.40</td>\n",
       "    </tr>\n",
       "    <tr>\n",
       "      <th>10</th>\n",
       "      <td>AJ Michalka</td>\n",
       "      <td>6.55</td>\n",
       "    </tr>\n",
       "    <tr>\n",
       "      <th>11</th>\n",
       "      <td>Aaliyah</td>\n",
       "      <td>6.10</td>\n",
       "    </tr>\n",
       "    <tr>\n",
       "      <th>34</th>\n",
       "      <td>Aarti Mann</td>\n",
       "      <td>6.60</td>\n",
       "    </tr>\n",
       "    <tr>\n",
       "      <th>...</th>\n",
       "      <td>...</td>\n",
       "      <td>...</td>\n",
       "    </tr>\n",
       "    <tr>\n",
       "      <th>12459</th>\n",
       "      <td>Zoë Bell</td>\n",
       "      <td>5.06</td>\n",
       "    </tr>\n",
       "    <tr>\n",
       "      <th>12460</th>\n",
       "      <td>Zoë Kravitz</td>\n",
       "      <td>6.75</td>\n",
       "    </tr>\n",
       "    <tr>\n",
       "      <th>12461</th>\n",
       "      <td>Zoë Lund</td>\n",
       "      <td>6.80</td>\n",
       "    </tr>\n",
       "    <tr>\n",
       "      <th>12462</th>\n",
       "      <td>Zulay Henao</td>\n",
       "      <td>5.90</td>\n",
       "    </tr>\n",
       "    <tr>\n",
       "      <th>12464</th>\n",
       "      <td>Émilie Leclerc</td>\n",
       "      <td>7.30</td>\n",
       "    </tr>\n",
       "  </tbody>\n",
       "</table>\n",
       "<p>3715 rows × 2 columns</p>\n",
       "</div>"
      ],
      "text/plain": [
       "                 name  actress_score\n",
       "6           A.J. Cook           6.40\n",
       "8         A.J. Langer           6.40\n",
       "10        AJ Michalka           6.55\n",
       "11            Aaliyah           6.10\n",
       "34         Aarti Mann           6.60\n",
       "...               ...            ...\n",
       "12459        Zoë Bell           5.06\n",
       "12460     Zoë Kravitz           6.75\n",
       "12461        Zoë Lund           6.80\n",
       "12462     Zulay Henao           5.90\n",
       "12464  Émilie Leclerc           7.30\n",
       "\n",
       "[3715 rows x 2 columns]"
      ]
     },
     "execution_count": 23,
     "metadata": {},
     "output_type": "execute_result"
    }
   ],
   "source": [
    "# Visualizing each actress and their average score\n",
    "actress_role"
   ]
  },
  {
   "cell_type": "code",
   "execution_count": 24,
   "metadata": {},
   "outputs": [
    {
     "data": {
      "text/html": [
       "<div>\n",
       "<style scoped>\n",
       "    .dataframe tbody tr th:only-of-type {\n",
       "        vertical-align: middle;\n",
       "    }\n",
       "\n",
       "    .dataframe tbody tr th {\n",
       "        vertical-align: top;\n",
       "    }\n",
       "\n",
       "    .dataframe thead th {\n",
       "        text-align: right;\n",
       "    }\n",
       "</style>\n",
       "<table border=\"1\" class=\"dataframe\">\n",
       "  <thead>\n",
       "    <tr style=\"text-align: right;\">\n",
       "      <th></th>\n",
       "      <th>name</th>\n",
       "      <th>director_score</th>\n",
       "    </tr>\n",
       "  </thead>\n",
       "  <tbody>\n",
       "    <tr>\n",
       "      <th>3</th>\n",
       "      <td>A. Edward Sutherland</td>\n",
       "      <td>6.1</td>\n",
       "    </tr>\n",
       "    <tr>\n",
       "      <th>7</th>\n",
       "      <td>A.J. Kparr</td>\n",
       "      <td>4.7</td>\n",
       "    </tr>\n",
       "    <tr>\n",
       "      <th>13</th>\n",
       "      <td>Aaron Blaise</td>\n",
       "      <td>6.8</td>\n",
       "    </tr>\n",
       "    <tr>\n",
       "      <th>17</th>\n",
       "      <td>Aaron Hann</td>\n",
       "      <td>6.0</td>\n",
       "    </tr>\n",
       "    <tr>\n",
       "      <th>18</th>\n",
       "      <td>Aaron Harvey</td>\n",
       "      <td>4.6</td>\n",
       "    </tr>\n",
       "    <tr>\n",
       "      <th>...</th>\n",
       "      <td>...</td>\n",
       "      <td>...</td>\n",
       "    </tr>\n",
       "    <tr>\n",
       "      <th>12430</th>\n",
       "      <td>Zackary Adler</td>\n",
       "      <td>5.7</td>\n",
       "    </tr>\n",
       "    <tr>\n",
       "      <th>12434</th>\n",
       "      <td>Zal Batmanglij</td>\n",
       "      <td>6.6</td>\n",
       "    </tr>\n",
       "    <tr>\n",
       "      <th>12435</th>\n",
       "      <td>Zalman King</td>\n",
       "      <td>4.7</td>\n",
       "    </tr>\n",
       "    <tr>\n",
       "      <th>12455</th>\n",
       "      <td>Zoltan Korda</td>\n",
       "      <td>7.5</td>\n",
       "    </tr>\n",
       "    <tr>\n",
       "      <th>12463</th>\n",
       "      <td>Àlex Pastor</td>\n",
       "      <td>6.0</td>\n",
       "    </tr>\n",
       "  </tbody>\n",
       "</table>\n",
       "<p>2818 rows × 2 columns</p>\n",
       "</div>"
      ],
      "text/plain": [
       "                       name  director_score\n",
       "3      A. Edward Sutherland             6.1\n",
       "7                A.J. Kparr             4.7\n",
       "13             Aaron Blaise             6.8\n",
       "17               Aaron Hann             6.0\n",
       "18             Aaron Harvey             4.6\n",
       "...                     ...             ...\n",
       "12430         Zackary Adler             5.7\n",
       "12434        Zal Batmanglij             6.6\n",
       "12435           Zalman King             4.7\n",
       "12455          Zoltan Korda             7.5\n",
       "12463           Àlex Pastor             6.0\n",
       "\n",
       "[2818 rows x 2 columns]"
      ]
     },
     "execution_count": 24,
     "metadata": {},
     "output_type": "execute_result"
    }
   ],
   "source": [
    "# Visualizing each director and their average score\n",
    "directors_role"
   ]
  },
  {
   "cell_type": "markdown",
   "metadata": {},
   "source": [
    "### Merge Role Scores to DataFrame"
   ]
  },
  {
   "cell_type": "code",
   "execution_count": 25,
   "metadata": {},
   "outputs": [],
   "source": [
    "# Merging movies with the average role scores.\n",
    "final_movies = pd.merge(movies, movies_one, left_on = 'name', right_on = 'name')\n",
    "final_movies = final_movies.groupby(['movie_title']).sum() / final_movies.groupby(['movie_title']).count()\n",
    "final_movies = final_movies.reset_index()\n",
    "final_movies.rename(columns = {'average_role_score':'casting_score'}, inplace=True)"
   ]
  },
  {
   "cell_type": "code",
   "execution_count": 26,
   "metadata": {},
   "outputs": [],
   "source": [
    "# Merging average actors scores for each movie by movie\n",
    "final_movies_actors = pd.merge(movies, actors_role, left_on = 'name', right_on = 'name')\n",
    "final_movies_actors = final_movies_actors.groupby(['movie_title']).sum() / final_movies_actors.groupby(['movie_title']).count()\n",
    "final_movies_actors = final_movies_actors.reset_index()"
   ]
  },
  {
   "cell_type": "code",
   "execution_count": 27,
   "metadata": {},
   "outputs": [],
   "source": [
    "# Merging average actresses scores for each movie by movie\n",
    "final_movies_actresses = pd.merge(movies, actress_role, left_on = 'name', right_on = 'name')\n",
    "final_movies_actresses = final_movies_actresses.groupby(['movie_title']).sum() / final_movies_actresses.groupby(['movie_title']).count()\n",
    "final_movies_actresses = final_movies_actresses.reset_index()"
   ]
  },
  {
   "cell_type": "code",
   "execution_count": 28,
   "metadata": {},
   "outputs": [],
   "source": [
    "# Merging average directors scores for each movie by movie\n",
    "final_movie_directors = pd.merge(movies, directors_role, left_on = 'name', right_on = 'name')\n",
    "final_movie_directors = final_movie_directors.groupby(['movie_title']).sum() / final_movie_directors.groupby(['movie_title']).count()\n",
    "final_movie_directors = final_movie_directors.reset_index()"
   ]
  },
  {
   "cell_type": "code",
   "execution_count": 29,
   "metadata": {},
   "outputs": [],
   "source": [
    "# Used to merge cast, duration, and plot back to the dataframe\n",
    "movies_details = movies[['movie_title', 'actors', 'duration', 'plot', 'tagline', 'popularity', 'budget', 'revenue']]"
   ]
  },
  {
   "cell_type": "code",
   "execution_count": 30,
   "metadata": {},
   "outputs": [],
   "source": [
    "# Merging final_movies (roles) with movie details\n",
    "final_df = pd.merge(final_movies, movies_details, left_on = 'movie_title', right_on = 'movie_title')"
   ]
  },
  {
   "cell_type": "code",
   "execution_count": 31,
   "metadata": {},
   "outputs": [],
   "source": [
    "# Rename columns\n",
    "final_df.rename(columns = {'plot_y':'plot',\n",
    "                           'duration_y':'duration',\n",
    "                           'actors_y':'cast',\n",
    "                           'avg_vote': 'imdb_score'}, inplace=True)\n",
    "\n",
    "\n",
    "# Dropping duplicates\n",
    "final_df = final_df.drop_duplicates()\n",
    "\n",
    "# Rounding casting_score\n",
    "final_df['casting_score'] = final_df['casting_score'].round(3)"
   ]
  },
  {
   "cell_type": "code",
   "execution_count": 32,
   "metadata": {},
   "outputs": [],
   "source": [
    "# Ensuring each directors, actors, and actresses dataframe only contains their score and I can merge on movie_title\n",
    "final_movie_directors = final_movie_directors[['movie_title', 'director_score']]\n",
    "final_movies_actors = final_movies_actors[['movie_title', 'actor_score']]\n",
    "final_movies_actresses = final_movies_actresses[['movie_title', 'actress_score']]\n",
    "\n",
    "# Merging director, actors, and actress scores\n",
    "final_df = pd.merge(final_df, final_movie_directors, how = 'outer', on = 'movie_title')\n",
    "final_df = pd.merge(final_df, final_movies_actors, how = 'outer', on = 'movie_title')\n",
    "final_df = pd.merge(final_df, final_movies_actresses, how = 'outer', on = 'movie_title')"
   ]
  },
  {
   "cell_type": "code",
   "execution_count": 33,
   "metadata": {},
   "outputs": [],
   "source": [
    "final_df['actress_score'] = final_df['actress_score'].fillna(final_df['actor_score'])\n",
    "final_df['actor_score'] = final_df['actor_score'].fillna(final_df['actress_score'])"
   ]
  },
  {
   "cell_type": "code",
   "execution_count": 34,
   "metadata": {},
   "outputs": [],
   "source": [
    "final_df.dropna(subset = ['director_score', 'cast', 'actor_score', 'actress_score'], inplace=True)"
   ]
  },
  {
   "cell_type": "code",
   "execution_count": 35,
   "metadata": {},
   "outputs": [],
   "source": [
    "# Filling tagline where missing with Unknown\n",
    "final_df['tagline_y'] = final_df['tagline_y'].fillna(\"Unknown\")"
   ]
  },
  {
   "cell_type": "code",
   "execution_count": 36,
   "metadata": {
    "scrolled": true
   },
   "outputs": [],
   "source": [
    "# Found duplicate values. Dropping to ensure data is valid\n",
    "final_df = final_df.drop_duplicates(subset = ['movie_title'])"
   ]
  },
  {
   "cell_type": "code",
   "execution_count": 37,
   "metadata": {
    "scrolled": true
   },
   "outputs": [],
   "source": [
    "# Converting year to integer (whole number) from float (decimal)\n",
    "final_df['year'] = final_df['year'].astype('int64')"
   ]
  },
  {
   "cell_type": "code",
   "execution_count": 38,
   "metadata": {},
   "outputs": [],
   "source": [
    "# Renaming duplicate columns that were merged\n",
    "final_df.rename(columns = {'tagline_y':'tagline',\n",
    "                           'popularity_y':'popularity',\n",
    "                           'budget_y': 'budget',\n",
    "                          'revenue_y': 'revenue'}, inplace=True)"
   ]
  },
  {
   "cell_type": "code",
   "execution_count": 39,
   "metadata": {
    "scrolled": true
   },
   "outputs": [],
   "source": [
    "# Removing movies where budget and revenue were both 0\n",
    "final_df = final_df[(final_df['budget'] != 0) & (final_df['revenue'] != 0)]\n",
    "# Only looking at movies in the past 50 years\n",
    "final_df = final_df[final_df['year'] >= 1970]"
   ]
  },
  {
   "cell_type": "code",
   "execution_count": 40,
   "metadata": {
    "scrolled": false
   },
   "outputs": [],
   "source": [
    "# Only keeping movies with revenue of above ten thousand\n",
    "final_df = final_df[final_df['revenue'] > 10000]"
   ]
  },
  {
   "cell_type": "code",
   "execution_count": 41,
   "metadata": {
    "scrolled": true
   },
   "outputs": [
    {
     "data": {
      "text/html": [
       "<div>\n",
       "<style scoped>\n",
       "    .dataframe tbody tr th:only-of-type {\n",
       "        vertical-align: middle;\n",
       "    }\n",
       "\n",
       "    .dataframe tbody tr th {\n",
       "        vertical-align: top;\n",
       "    }\n",
       "\n",
       "    .dataframe thead th {\n",
       "        text-align: right;\n",
       "    }\n",
       "</style>\n",
       "<table border=\"1\" class=\"dataframe\">\n",
       "  <thead>\n",
       "    <tr style=\"text-align: right;\">\n",
       "      <th></th>\n",
       "      <th>movie_title</th>\n",
       "      <th>Action</th>\n",
       "      <th>Adventure</th>\n",
       "      <th>Animation</th>\n",
       "      <th>Biography</th>\n",
       "      <th>Comedy</th>\n",
       "      <th>Crime</th>\n",
       "      <th>Drama</th>\n",
       "      <th>Family</th>\n",
       "      <th>Fantasy</th>\n",
       "      <th>...</th>\n",
       "      <th>cast</th>\n",
       "      <th>duration</th>\n",
       "      <th>plot</th>\n",
       "      <th>tagline</th>\n",
       "      <th>popularity</th>\n",
       "      <th>budget</th>\n",
       "      <th>revenue</th>\n",
       "      <th>director_score</th>\n",
       "      <th>actor_score</th>\n",
       "      <th>actress_score</th>\n",
       "    </tr>\n",
       "  </thead>\n",
       "  <tbody>\n",
       "    <tr>\n",
       "      <th>1</th>\n",
       "      <td>(500) Days of Summer</td>\n",
       "      <td>0.0</td>\n",
       "      <td>0.0</td>\n",
       "      <td>0.0</td>\n",
       "      <td>0.0</td>\n",
       "      <td>1.0</td>\n",
       "      <td>0.0</td>\n",
       "      <td>1.0</td>\n",
       "      <td>0.0</td>\n",
       "      <td>0.0</td>\n",
       "      <td>...</td>\n",
       "      <td>Joseph Gordon-Levitt, Zooey Deschanel, Geoffre...</td>\n",
       "      <td>95</td>\n",
       "      <td>An offbeat romantic comedy about a woman who d...</td>\n",
       "      <td>It was almost like falling in love.</td>\n",
       "      <td>3.244139</td>\n",
       "      <td>7500000</td>\n",
       "      <td>60722734</td>\n",
       "      <td>7.066667</td>\n",
       "      <td>6.745588</td>\n",
       "      <td>6.308081</td>\n",
       "    </tr>\n",
       "    <tr>\n",
       "      <th>5</th>\n",
       "      <td>10 Things I Hate About You</td>\n",
       "      <td>0.0</td>\n",
       "      <td>0.0</td>\n",
       "      <td>0.0</td>\n",
       "      <td>0.0</td>\n",
       "      <td>1.0</td>\n",
       "      <td>0.0</td>\n",
       "      <td>1.0</td>\n",
       "      <td>0.0</td>\n",
       "      <td>0.0</td>\n",
       "      <td>...</td>\n",
       "      <td>Heath Ledger, Julia Stiles, Joseph Gordon-Levi...</td>\n",
       "      <td>97</td>\n",
       "      <td>A pretty, popular teenager can't go out on a d...</td>\n",
       "      <td>How do I loathe thee? Let me count the ways.</td>\n",
       "      <td>1.769152</td>\n",
       "      <td>16000000</td>\n",
       "      <td>53478166</td>\n",
       "      <td>6.100000</td>\n",
       "      <td>6.820588</td>\n",
       "      <td>6.319444</td>\n",
       "    </tr>\n",
       "    <tr>\n",
       "      <th>10</th>\n",
       "      <td>10th &amp; Wolf</td>\n",
       "      <td>0.0</td>\n",
       "      <td>0.0</td>\n",
       "      <td>0.0</td>\n",
       "      <td>0.0</td>\n",
       "      <td>0.0</td>\n",
       "      <td>1.0</td>\n",
       "      <td>1.0</td>\n",
       "      <td>0.0</td>\n",
       "      <td>0.0</td>\n",
       "      <td>...</td>\n",
       "      <td>James Marsden, Giovanni Ribisi, Brad Renfro, P...</td>\n",
       "      <td>107</td>\n",
       "      <td>A former street tough returns to his Philadelp...</td>\n",
       "      <td>The Intersection Where Family, Honor and Betra...</td>\n",
       "      <td>0.384988</td>\n",
       "      <td>8000000</td>\n",
       "      <td>143451</td>\n",
       "      <td>6.300000</td>\n",
       "      <td>6.258333</td>\n",
       "      <td>5.975000</td>\n",
       "    </tr>\n",
       "    <tr>\n",
       "      <th>12</th>\n",
       "      <td>12 Rounds</td>\n",
       "      <td>1.0</td>\n",
       "      <td>0.0</td>\n",
       "      <td>0.0</td>\n",
       "      <td>0.0</td>\n",
       "      <td>0.0</td>\n",
       "      <td>1.0</td>\n",
       "      <td>0.0</td>\n",
       "      <td>0.0</td>\n",
       "      <td>0.0</td>\n",
       "      <td>...</td>\n",
       "      <td>John Cena, Aidan Gillen, Ashley Scott, Steve H...</td>\n",
       "      <td>108</td>\n",
       "      <td>Detective Danny Fisher discovers his girlfrien...</td>\n",
       "      <td>Survive all 12</td>\n",
       "      <td>0.826039</td>\n",
       "      <td>20000000</td>\n",
       "      <td>17280326</td>\n",
       "      <td>6.112500</td>\n",
       "      <td>5.552778</td>\n",
       "      <td>6.025000</td>\n",
       "    </tr>\n",
       "    <tr>\n",
       "      <th>18</th>\n",
       "      <td>1408</td>\n",
       "      <td>0.0</td>\n",
       "      <td>0.0</td>\n",
       "      <td>0.0</td>\n",
       "      <td>0.0</td>\n",
       "      <td>0.0</td>\n",
       "      <td>0.0</td>\n",
       "      <td>0.0</td>\n",
       "      <td>0.0</td>\n",
       "      <td>1.0</td>\n",
       "      <td>...</td>\n",
       "      <td>John Cusack, Tony Shalhoub, Len Cariou, Isiah ...</td>\n",
       "      <td>104</td>\n",
       "      <td>A man who specialises in debunking paranormal ...</td>\n",
       "      <td>The only demons in room 1408 are those within ...</td>\n",
       "      <td>0.917818</td>\n",
       "      <td>25000000</td>\n",
       "      <td>94679598</td>\n",
       "      <td>6.750000</td>\n",
       "      <td>6.615192</td>\n",
       "      <td>6.080000</td>\n",
       "    </tr>\n",
       "    <tr>\n",
       "      <th>...</th>\n",
       "      <td>...</td>\n",
       "      <td>...</td>\n",
       "      <td>...</td>\n",
       "      <td>...</td>\n",
       "      <td>...</td>\n",
       "      <td>...</td>\n",
       "      <td>...</td>\n",
       "      <td>...</td>\n",
       "      <td>...</td>\n",
       "      <td>...</td>\n",
       "      <td>...</td>\n",
       "      <td>...</td>\n",
       "      <td>...</td>\n",
       "      <td>...</td>\n",
       "      <td>...</td>\n",
       "      <td>...</td>\n",
       "      <td>...</td>\n",
       "      <td>...</td>\n",
       "      <td>...</td>\n",
       "      <td>...</td>\n",
       "      <td>...</td>\n",
       "    </tr>\n",
       "    <tr>\n",
       "      <th>5927</th>\n",
       "      <td>Zombieland</td>\n",
       "      <td>0.0</td>\n",
       "      <td>1.0</td>\n",
       "      <td>0.0</td>\n",
       "      <td>0.0</td>\n",
       "      <td>1.0</td>\n",
       "      <td>0.0</td>\n",
       "      <td>0.0</td>\n",
       "      <td>0.0</td>\n",
       "      <td>1.0</td>\n",
       "      <td>...</td>\n",
       "      <td>Jesse Eisenberg, Woody Harrelson, Emma Stone, ...</td>\n",
       "      <td>88</td>\n",
       "      <td>A shy student trying to reach his family in Oh...</td>\n",
       "      <td>This place is so dead</td>\n",
       "      <td>2.041804</td>\n",
       "      <td>23600000</td>\n",
       "      <td>102391382</td>\n",
       "      <td>6.800000</td>\n",
       "      <td>6.550362</td>\n",
       "      <td>6.664848</td>\n",
       "    </tr>\n",
       "    <tr>\n",
       "      <th>5928</th>\n",
       "      <td>Zookeeper</td>\n",
       "      <td>0.0</td>\n",
       "      <td>0.0</td>\n",
       "      <td>0.0</td>\n",
       "      <td>0.0</td>\n",
       "      <td>1.0</td>\n",
       "      <td>0.0</td>\n",
       "      <td>0.0</td>\n",
       "      <td>1.0</td>\n",
       "      <td>1.0</td>\n",
       "      <td>...</td>\n",
       "      <td>Kevin James, Rosario Dawson, Leslie Bibb, Ken ...</td>\n",
       "      <td>102</td>\n",
       "      <td>A group of zoo animals decide to break their c...</td>\n",
       "      <td>Welcome to his jungle.</td>\n",
       "      <td>1.643140</td>\n",
       "      <td>80000000</td>\n",
       "      <td>169852759</td>\n",
       "      <td>6.028571</td>\n",
       "      <td>5.638636</td>\n",
       "      <td>6.114706</td>\n",
       "    </tr>\n",
       "    <tr>\n",
       "      <th>5929</th>\n",
       "      <td>Zoom</td>\n",
       "      <td>1.0</td>\n",
       "      <td>1.0</td>\n",
       "      <td>0.0</td>\n",
       "      <td>0.0</td>\n",
       "      <td>1.0</td>\n",
       "      <td>0.0</td>\n",
       "      <td>0.0</td>\n",
       "      <td>0.0</td>\n",
       "      <td>0.0</td>\n",
       "      <td>...</td>\n",
       "      <td>Tim Allen, Courteney Cox, Chevy Chase, Spencer...</td>\n",
       "      <td>93</td>\n",
       "      <td>Former superhero Jack is called back to work t...</td>\n",
       "      <td>They're going to save the world... as long as ...</td>\n",
       "      <td>0.529881</td>\n",
       "      <td>35000000</td>\n",
       "      <td>12506188</td>\n",
       "      <td>5.250000</td>\n",
       "      <td>5.808333</td>\n",
       "      <td>5.808333</td>\n",
       "    </tr>\n",
       "    <tr>\n",
       "      <th>5932</th>\n",
       "      <td>xXx</td>\n",
       "      <td>1.0</td>\n",
       "      <td>1.0</td>\n",
       "      <td>0.0</td>\n",
       "      <td>0.0</td>\n",
       "      <td>0.0</td>\n",
       "      <td>0.0</td>\n",
       "      <td>0.0</td>\n",
       "      <td>0.0</td>\n",
       "      <td>0.0</td>\n",
       "      <td>...</td>\n",
       "      <td>Vin Diesel, Asia Argento, Marton Csokas, Samue...</td>\n",
       "      <td>124</td>\n",
       "      <td>An extreme sports athlete, Xander Cage, is rec...</td>\n",
       "      <td>A New Breed Of Secret Agent.</td>\n",
       "      <td>1.936728</td>\n",
       "      <td>70000000</td>\n",
       "      <td>277448382</td>\n",
       "      <td>5.850000</td>\n",
       "      <td>6.578363</td>\n",
       "      <td>5.600000</td>\n",
       "    </tr>\n",
       "    <tr>\n",
       "      <th>5933</th>\n",
       "      <td>xXx: State of the Union</td>\n",
       "      <td>1.0</td>\n",
       "      <td>1.0</td>\n",
       "      <td>0.0</td>\n",
       "      <td>0.0</td>\n",
       "      <td>0.0</td>\n",
       "      <td>1.0</td>\n",
       "      <td>0.0</td>\n",
       "      <td>0.0</td>\n",
       "      <td>0.0</td>\n",
       "      <td>...</td>\n",
       "      <td>Willem Dafoe, Samuel L. Jackson, Ice Cube, Sco...</td>\n",
       "      <td>101</td>\n",
       "      <td>Darius Stone, a new agent in the xXx program, ...</td>\n",
       "      <td>Prepare for the next level</td>\n",
       "      <td>1.405588</td>\n",
       "      <td>87000000</td>\n",
       "      <td>71073932</td>\n",
       "      <td>5.950000</td>\n",
       "      <td>6.091064</td>\n",
       "      <td>6.091064</td>\n",
       "    </tr>\n",
       "  </tbody>\n",
       "</table>\n",
       "<p>1843 rows × 189 columns</p>\n",
       "</div>"
      ],
      "text/plain": [
       "                     movie_title  Action  Adventure  Animation  Biography  \\\n",
       "1           (500) Days of Summer     0.0        0.0        0.0        0.0   \n",
       "5     10 Things I Hate About You     0.0        0.0        0.0        0.0   \n",
       "10                   10th & Wolf     0.0        0.0        0.0        0.0   \n",
       "12                     12 Rounds     1.0        0.0        0.0        0.0   \n",
       "18                          1408     0.0        0.0        0.0        0.0   \n",
       "...                          ...     ...        ...        ...        ...   \n",
       "5927                  Zombieland     0.0        1.0        0.0        0.0   \n",
       "5928                   Zookeeper     0.0        0.0        0.0        0.0   \n",
       "5929                        Zoom     1.0        1.0        0.0        0.0   \n",
       "5932                         xXx     1.0        1.0        0.0        0.0   \n",
       "5933     xXx: State of the Union     1.0        1.0        0.0        0.0   \n",
       "\n",
       "      Comedy  Crime  Drama  Family  Fantasy  ...  \\\n",
       "1        1.0    0.0    1.0     0.0      0.0  ...   \n",
       "5        1.0    0.0    1.0     0.0      0.0  ...   \n",
       "10       0.0    1.0    1.0     0.0      0.0  ...   \n",
       "12       0.0    1.0    0.0     0.0      0.0  ...   \n",
       "18       0.0    0.0    0.0     0.0      1.0  ...   \n",
       "...      ...    ...    ...     ...      ...  ...   \n",
       "5927     1.0    0.0    0.0     0.0      1.0  ...   \n",
       "5928     1.0    0.0    0.0     1.0      1.0  ...   \n",
       "5929     1.0    0.0    0.0     0.0      0.0  ...   \n",
       "5932     0.0    0.0    0.0     0.0      0.0  ...   \n",
       "5933     0.0    1.0    0.0     0.0      0.0  ...   \n",
       "\n",
       "                                                   cast  duration  \\\n",
       "1     Joseph Gordon-Levitt, Zooey Deschanel, Geoffre...        95   \n",
       "5     Heath Ledger, Julia Stiles, Joseph Gordon-Levi...        97   \n",
       "10    James Marsden, Giovanni Ribisi, Brad Renfro, P...       107   \n",
       "12    John Cena, Aidan Gillen, Ashley Scott, Steve H...       108   \n",
       "18    John Cusack, Tony Shalhoub, Len Cariou, Isiah ...       104   \n",
       "...                                                 ...       ...   \n",
       "5927  Jesse Eisenberg, Woody Harrelson, Emma Stone, ...        88   \n",
       "5928  Kevin James, Rosario Dawson, Leslie Bibb, Ken ...       102   \n",
       "5929  Tim Allen, Courteney Cox, Chevy Chase, Spencer...        93   \n",
       "5932  Vin Diesel, Asia Argento, Marton Csokas, Samue...       124   \n",
       "5933  Willem Dafoe, Samuel L. Jackson, Ice Cube, Sco...       101   \n",
       "\n",
       "                                                   plot  \\\n",
       "1     An offbeat romantic comedy about a woman who d...   \n",
       "5     A pretty, popular teenager can't go out on a d...   \n",
       "10    A former street tough returns to his Philadelp...   \n",
       "12    Detective Danny Fisher discovers his girlfrien...   \n",
       "18    A man who specialises in debunking paranormal ...   \n",
       "...                                                 ...   \n",
       "5927  A shy student trying to reach his family in Oh...   \n",
       "5928  A group of zoo animals decide to break their c...   \n",
       "5929  Former superhero Jack is called back to work t...   \n",
       "5932  An extreme sports athlete, Xander Cage, is rec...   \n",
       "5933  Darius Stone, a new agent in the xXx program, ...   \n",
       "\n",
       "                                                tagline  popularity    budget  \\\n",
       "1                   It was almost like falling in love.    3.244139   7500000   \n",
       "5          How do I loathe thee? Let me count the ways.    1.769152  16000000   \n",
       "10    The Intersection Where Family, Honor and Betra...    0.384988   8000000   \n",
       "12                                       Survive all 12    0.826039  20000000   \n",
       "18    The only demons in room 1408 are those within ...    0.917818  25000000   \n",
       "...                                                 ...         ...       ...   \n",
       "5927                              This place is so dead    2.041804  23600000   \n",
       "5928                             Welcome to his jungle.    1.643140  80000000   \n",
       "5929  They're going to save the world... as long as ...    0.529881  35000000   \n",
       "5932                       A New Breed Of Secret Agent.    1.936728  70000000   \n",
       "5933                         Prepare for the next level    1.405588  87000000   \n",
       "\n",
       "        revenue  director_score  actor_score  actress_score  \n",
       "1      60722734        7.066667     6.745588       6.308081  \n",
       "5      53478166        6.100000     6.820588       6.319444  \n",
       "10       143451        6.300000     6.258333       5.975000  \n",
       "12     17280326        6.112500     5.552778       6.025000  \n",
       "18     94679598        6.750000     6.615192       6.080000  \n",
       "...         ...             ...          ...            ...  \n",
       "5927  102391382        6.800000     6.550362       6.664848  \n",
       "5928  169852759        6.028571     5.638636       6.114706  \n",
       "5929   12506188        5.250000     5.808333       5.808333  \n",
       "5932  277448382        5.850000     6.578363       5.600000  \n",
       "5933   71073932        5.950000     6.091064       6.091064  \n",
       "\n",
       "[1843 rows x 189 columns]"
      ]
     },
     "execution_count": 41,
     "metadata": {},
     "output_type": "execute_result"
    }
   ],
   "source": [
    "final_df"
   ]
  },
  {
   "cell_type": "code",
   "execution_count": 42,
   "metadata": {},
   "outputs": [],
   "source": [
    "final_df.dropna(axis = 'columns', inplace=True)"
   ]
  },
  {
   "cell_type": "code",
   "execution_count": 43,
   "metadata": {},
   "outputs": [],
   "source": [
    "# Adjusting budget_adj and revenue_adj to integers instead of floats\n",
    "final_df['budget_adj'] = final_df['budget_adj'].astype(int)\n",
    "final_df['revenue_adj'] = final_df['revenue_adj'].astype(int)"
   ]
  },
  {
   "cell_type": "code",
   "execution_count": 44,
   "metadata": {},
   "outputs": [],
   "source": [
    "# Creating net_profit so that I can create a profitable column\n",
    "final_df['net_profit'] = final_df['revenue'] - final_df['budget']\n",
    "final_df['profitable'] = [1 if x >= 0 else 0 for x in final_df['net_profit']]"
   ]
  },
  {
   "cell_type": "code",
   "execution_count": 45,
   "metadata": {},
   "outputs": [],
   "source": [
    "final_df = final_df[final_df['budget'] > 10000]"
   ]
  },
  {
   "cell_type": "markdown",
   "metadata": {},
   "source": [
    "### Sentiment Analysis of Plot and Tagline"
   ]
  },
  {
   "cell_type": "code",
   "execution_count": 46,
   "metadata": {},
   "outputs": [
    {
     "name": "stderr",
     "output_type": "stream",
     "text": [
      "C:\\Users\\nolan_fur2pfn\\.conda\\envs\\dsi\\lib\\site-packages\\ipykernel_launcher.py:16: SettingWithCopyWarning: \n",
      "A value is trying to be set on a copy of a slice from a DataFrame.\n",
      "Try using .loc[row_indexer,col_indexer] = value instead\n",
      "\n",
      "See the caveats in the documentation: https://pandas.pydata.org/pandas-docs/stable/user_guide/indexing.html#returning-a-view-versus-a-copy\n",
      "  app.launch_new_instance()\n"
     ]
    }
   ],
   "source": [
    "# Sentiment analysis of plot\n",
    "plot_desc = final_df['plot'].tolist()\n",
    "\n",
    "analyzer = SentimentIntensityAnalyzer()\n",
    "\n",
    "# Function to return compound score and append column by each movie\n",
    "def get_polarity_plot(plot_desc):\n",
    "    polarity = []\n",
    "    for post in plot_desc:\n",
    "        vs = analyzer.polarity_scores(post)\n",
    "        polarity.append(vs['compound'])\n",
    "    return polarity\n",
    "\n",
    "polarity = get_polarity_plot(plot_desc)\n",
    "\n",
    "final_df['plot_sentiment'] = polarity"
   ]
  },
  {
   "cell_type": "code",
   "execution_count": 47,
   "metadata": {},
   "outputs": [
    {
     "name": "stderr",
     "output_type": "stream",
     "text": [
      "C:\\Users\\nolan_fur2pfn\\.conda\\envs\\dsi\\lib\\site-packages\\ipykernel_launcher.py:16: SettingWithCopyWarning: \n",
      "A value is trying to be set on a copy of a slice from a DataFrame.\n",
      "Try using .loc[row_indexer,col_indexer] = value instead\n",
      "\n",
      "See the caveats in the documentation: https://pandas.pydata.org/pandas-docs/stable/user_guide/indexing.html#returning-a-view-versus-a-copy\n",
      "  app.launch_new_instance()\n"
     ]
    }
   ],
   "source": [
    "# Sentiment analysis of tagline\n",
    "tagline_desc = final_df['tagline'].tolist()\n",
    "\n",
    "analyzer_two = SentimentIntensityAnalyzer()\n",
    "\n",
    "# Function to return compound score and append column by each movie\n",
    "def get_polarity_tag(tagline_desc):\n",
    "    polarity_tag = []\n",
    "    for tag in tagline_desc:\n",
    "        vs = analyzer_two.polarity_scores(tag)\n",
    "        polarity_tag.append(vs['compound'])\n",
    "    return polarity_tag\n",
    "\n",
    "polarity_tag = get_polarity_tag(tagline_desc)\n",
    "\n",
    "final_df['tagline_sentiment'] = polarity_tag"
   ]
  },
  {
   "cell_type": "markdown",
   "metadata": {},
   "source": [
    "### Ordering of Columns in DataFrame"
   ]
  },
  {
   "cell_type": "code",
   "execution_count": 48,
   "metadata": {},
   "outputs": [],
   "source": [
    "# Organizing columns\n",
    "final_df = final_df[['movie_title', 'year', 'tagline', 'plot', 'cast', 'duration', 'Action',\n",
    "                     'Adventure', 'Animation', 'Biography', 'Comedy', 'Crime', 'Drama', 'Family',\n",
    "                     'Fantasy', 'History', 'Horror', 'Music', 'Musical', 'Mystery', 'Romance', \n",
    "                     'Sci-Fi', 'Sport', 'Thriller', 'War', 'Western',  'total_votes', \n",
    "                     'us_voters_votes', 'votes', 'votes_1', 'votes_2', 'votes_3', 'votes_4', \n",
    "                     'votes_5', 'votes_6', 'votes_7', 'votes_8', 'votes_9', 'votes_10', 'popularity', \n",
    "                     'director_score', 'actor_score', 'actress_score','tagline_sentiment', 'plot_sentiment', \n",
    "                     'imdb_score', 'profitable', 'budget', 'revenue', 'budget_adj', 'revenue_adj',]]"
   ]
  },
  {
   "cell_type": "code",
   "execution_count": 49,
   "metadata": {},
   "outputs": [],
   "source": [
    "# Ensure all na columns are dropped\n",
    "final_df.dropna()\n",
    "# Reset index for ordering purposes\n",
    "final_df = final_df.reset_index()\n",
    "# Drop index column, inplace = True to stick\n",
    "final_df.drop(columns = ['index'], inplace=True)"
   ]
  },
  {
   "cell_type": "markdown",
   "metadata": {},
   "source": [
    "### Export Final DataFrame"
   ]
  },
  {
   "cell_type": "code",
   "execution_count": 50,
   "metadata": {},
   "outputs": [],
   "source": [
    "# Export final revenue dataframe to use for modeling\n",
    "final_df.to_csv('../data/revenue_df.csv', index=False)"
   ]
  }
 ],
 "metadata": {
  "kernelspec": {
   "display_name": "Python 3",
   "language": "python",
   "name": "python3"
  },
  "language_info": {
   "codemirror_mode": {
    "name": "ipython",
    "version": 3
   },
   "file_extension": ".py",
   "mimetype": "text/x-python",
   "name": "python",
   "nbconvert_exporter": "python",
   "pygments_lexer": "ipython3",
   "version": "3.7.9"
  }
 },
 "nbformat": 4,
 "nbformat_minor": 4
}
