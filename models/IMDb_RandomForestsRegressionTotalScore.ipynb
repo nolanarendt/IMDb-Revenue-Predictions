{
 "cells": [
  {
   "cell_type": "markdown",
   "metadata": {},
   "source": [
    "# IMDB Random Forests Regression\n",
    "![ImdbIcon](../images/imdbheader.jpg)"
   ]
  },
  {
   "cell_type": "code",
   "execution_count": 1,
   "metadata": {},
   "outputs": [
    {
     "name": "stderr",
     "output_type": "stream",
     "text": [
      "C:\\Users\\nolan_fur2pfn\\.conda\\envs\\dsi\\lib\\site-packages\\numpy\\_distributor_init.py:32: UserWarning: loaded more than 1 DLL from .libs:\n",
      "C:\\Users\\nolan_fur2pfn\\.conda\\envs\\dsi\\lib\\site-packages\\numpy\\.libs\\libopenblas.NOIJJG62EMASZI6NYURL6JBKM4EVBGM7.gfortran-win_amd64.dll\n",
      "C:\\Users\\nolan_fur2pfn\\.conda\\envs\\dsi\\lib\\site-packages\\numpy\\.libs\\libopenblas.PYQHXLVVQ7VESDPUVUADXEVJOBGHJPAY.gfortran-win_amd64.dll\n",
      "  stacklevel=1)\n"
     ]
    }
   ],
   "source": [
    "import pandas as pd\n",
    "import numpy as np\n",
    "import seaborn as sns\n",
    "import matplotlib.pyplot as plt\n",
    "\n",
    "from sklearn.ensemble import RandomForestRegressor, ExtraTreesRegressor, AdaBoostRegressor\n",
    "from sklearn.model_selection import cross_val_score, train_test_split, GridSearchCV\n",
    "from sklearn.metrics import confusion_matrix, plot_confusion_matrix, classification_report"
   ]
  },
  {
   "cell_type": "code",
   "execution_count": 2,
   "metadata": {},
   "outputs": [],
   "source": [
    "totalscore_df = pd.read_csv('../data/totalscore_df.csv')"
   ]
  },
  {
   "cell_type": "code",
   "execution_count": 3,
   "metadata": {},
   "outputs": [
    {
     "data": {
      "text/plain": [
       "Index(['movie_title', 'year', 'actors', 'plot', 'duration', 'Action',\n",
       "       'Adventure', 'Animation', 'Biography', 'Comedy', 'Crime', 'Documentary',\n",
       "       'Drama', 'Family', 'Fantasy', 'History', 'Horror', 'Music', 'Mystery',\n",
       "       'Romance', 'Sci-Fi', 'Sport', 'Thriller', 'War', 'Western', 'votes',\n",
       "       'weighted_average_vote', 'total_votes', 'mean_vote', 'median_vote',\n",
       "       'votes_1', 'votes_2', 'votes_3', 'votes_4', 'votes_5', 'votes_6',\n",
       "       'votes_7', 'votes_8', 'votes_9', 'votes_10', 'us_voters_rating',\n",
       "       'us_voters_votes', 'plot_sentiment', 'director_score', 'actor_score',\n",
       "       'actress_score', 'imdb_score'],\n",
       "      dtype='object')"
      ]
     },
     "execution_count": 3,
     "metadata": {},
     "output_type": "execute_result"
    }
   ],
   "source": [
    "totalscore_df.columns"
   ]
  },
  {
   "cell_type": "markdown",
   "metadata": {},
   "source": [
    "## Random Forests Regression"
   ]
  },
  {
   "cell_type": "code",
   "execution_count": 189,
   "metadata": {},
   "outputs": [],
   "source": [
    "features = ['year', 'duration', 'Action', 'Adventure', 'Animation', 'Biography', 'Comedy', 'Crime', 'Documentary',\n",
    "       'Drama', 'Family', 'Fantasy', 'History', 'Horror', 'Music', 'Mystery',\n",
    "       'Romance', 'Sci-Fi', 'Sport', 'Thriller', 'War', 'Western',\n",
    "        'total_votes', 'plot_sentiment','votes_1', 'votes_2', 'votes_3', 'votes_4', 'votes_5', 'votes_6',\n",
    "       'votes_7', 'director_score']"
   ]
  },
  {
   "cell_type": "code",
   "execution_count": 190,
   "metadata": {},
   "outputs": [],
   "source": [
    "X = totalscore_df[features]\n",
    "y = totalscore_df['imdb_score']"
   ]
  },
  {
   "cell_type": "code",
   "execution_count": 191,
   "metadata": {},
   "outputs": [],
   "source": [
    "X_train, X_test, y_train, y_test = train_test_split(X, y, random_state = 42, test_size = .50)"
   ]
  },
  {
   "cell_type": "code",
   "execution_count": 192,
   "metadata": {},
   "outputs": [],
   "source": [
    "rf = RandomForestRegressor()"
   ]
  },
  {
   "cell_type": "code",
   "execution_count": 193,
   "metadata": {
    "scrolled": true
   },
   "outputs": [
    {
     "data": {
      "text/plain": [
       "RandomForestRegressor()"
      ]
     },
     "execution_count": 193,
     "metadata": {},
     "output_type": "execute_result"
    }
   ],
   "source": [
    "rf.fit(X_train,y_train)"
   ]
  },
  {
   "cell_type": "code",
   "execution_count": 194,
   "metadata": {},
   "outputs": [
    {
     "name": "stdout",
     "output_type": "stream",
     "text": [
      "Training Score: 0.9932937430888794\n",
      " \n",
      "Testing Score: 0.9451351319780443\n"
     ]
    }
   ],
   "source": [
    "print(\"Training Score:\", rf.score(X_train, y_train))\n",
    "print(\" \")\n",
    "print(\"Testing Score:\", rf.score(X_test, y_test))"
   ]
  },
  {
   "cell_type": "code",
   "execution_count": 195,
   "metadata": {},
   "outputs": [
    {
     "name": "stdout",
     "output_type": "stream",
     "text": [
      "Cross Val Score: 0.9439088291331291\n"
     ]
    }
   ],
   "source": [
    "print(\"Cross Val Score:\", cross_val_score(rf, X_train, y_train, cv = 5).mean())"
   ]
  },
  {
   "cell_type": "code",
   "execution_count": 196,
   "metadata": {},
   "outputs": [],
   "source": [
    "model_params = {}\n",
    "count = 0"
   ]
  },
  {
   "cell_type": "code",
   "execution_count": 201,
   "metadata": {
    "scrolled": true
   },
   "outputs": [
    {
     "data": {
      "text/html": [
       "<div>\n",
       "<style scoped>\n",
       "    .dataframe tbody tr th:only-of-type {\n",
       "        vertical-align: middle;\n",
       "    }\n",
       "\n",
       "    .dataframe tbody tr th {\n",
       "        vertical-align: top;\n",
       "    }\n",
       "\n",
       "    .dataframe thead th {\n",
       "        text-align: right;\n",
       "    }\n",
       "</style>\n",
       "<table border=\"1\" class=\"dataframe\">\n",
       "  <thead>\n",
       "    <tr style=\"text-align: right;\">\n",
       "      <th></th>\n",
       "      <th>max_depth</th>\n",
       "      <th>min_samples_leaf</th>\n",
       "      <th>min_samples_split</th>\n",
       "      <th>n_estimators</th>\n",
       "      <th>best_score</th>\n",
       "      <th>training_score</th>\n",
       "      <th>testing_score</th>\n",
       "    </tr>\n",
       "  </thead>\n",
       "  <tbody>\n",
       "    <tr>\n",
       "      <th>model_1</th>\n",
       "      <td>4</td>\n",
       "      <td>2</td>\n",
       "      <td>3</td>\n",
       "      <td>100</td>\n",
       "      <td>0.747900</td>\n",
       "      <td>0.791172</td>\n",
       "      <td>0.740249</td>\n",
       "    </tr>\n",
       "    <tr>\n",
       "      <th>model_2</th>\n",
       "      <td>8</td>\n",
       "      <td>2</td>\n",
       "      <td>2</td>\n",
       "      <td>300</td>\n",
       "      <td>0.926291</td>\n",
       "      <td>0.971183</td>\n",
       "      <td>0.925709</td>\n",
       "    </tr>\n",
       "    <tr>\n",
       "      <th>model_3</th>\n",
       "      <td>8</td>\n",
       "      <td>2</td>\n",
       "      <td>2</td>\n",
       "      <td>200</td>\n",
       "      <td>0.926476</td>\n",
       "      <td>0.971018</td>\n",
       "      <td>0.924301</td>\n",
       "    </tr>\n",
       "    <tr>\n",
       "      <th>model_4</th>\n",
       "      <td>12</td>\n",
       "      <td>2</td>\n",
       "      <td>2</td>\n",
       "      <td>300</td>\n",
       "      <td>0.944202</td>\n",
       "      <td>0.989614</td>\n",
       "      <td>0.945748</td>\n",
       "    </tr>\n",
       "    <tr>\n",
       "      <th>model_5</th>\n",
       "      <td>16</td>\n",
       "      <td>2</td>\n",
       "      <td>2</td>\n",
       "      <td>300</td>\n",
       "      <td>0.944852</td>\n",
       "      <td>0.990722</td>\n",
       "      <td>0.947355</td>\n",
       "    </tr>\n",
       "  </tbody>\n",
       "</table>\n",
       "</div>"
      ],
      "text/plain": [
       "         max_depth  min_samples_leaf  min_samples_split  n_estimators  \\\n",
       "model_1          4                 2                  3           100   \n",
       "model_2          8                 2                  2           300   \n",
       "model_3          8                 2                  2           200   \n",
       "model_4         12                 2                  2           300   \n",
       "model_5         16                 2                  2           300   \n",
       "\n",
       "         best_score  training_score  testing_score  \n",
       "model_1    0.747900        0.791172       0.740249  \n",
       "model_2    0.926291        0.971183       0.925709  \n",
       "model_3    0.926476        0.971018       0.924301  \n",
       "model_4    0.944202        0.989614       0.945748  \n",
       "model_5    0.944852        0.990722       0.947355  "
      ]
     },
     "execution_count": 201,
     "metadata": {},
     "output_type": "execute_result"
    }
   ],
   "source": [
    "rf_params = {\n",
    "    'max_depth': [12, 14, 16],\n",
    "    'min_samples_leaf': [1, 2, 3],\n",
    "    'min_samples_split': [1, 2, 3],\n",
    "    'n_estimators': [200, 300, 400],\n",
    "}\n",
    "\n",
    "gs = GridSearchCV(rf, param_grid=rf_params, cv = 5, n_jobs = 12)\n",
    "\n",
    "gs.fit(X_train, y_train)\n",
    "\n",
    "count += 1\n",
    "\n",
    "gs.best_params_['best_score'] = gs.best_score_\n",
    "\n",
    "gs.best_params_['training_score'] = gs.score(X_train, y_train)\n",
    "\n",
    "gs.best_params_['testing_score'] = gs.score(X_test, y_test)\n",
    "\n",
    "model_params[f'model_{count}'] = gs.best_params_\n",
    "\n",
    "model_df = pd.DataFrame.from_dict(model_params, orient='index')\n",
    "\n",
    "model_df"
   ]
  },
  {
   "cell_type": "markdown",
   "metadata": {},
   "source": [
    "## AdaBoostRegressor"
   ]
  },
  {
   "cell_type": "code",
   "execution_count": 202,
   "metadata": {},
   "outputs": [],
   "source": [
    "model_params_two = {}\n",
    "count_two = 0"
   ]
  },
  {
   "cell_type": "code",
   "execution_count": 205,
   "metadata": {},
   "outputs": [
    {
     "data": {
      "text/html": [
       "<div>\n",
       "<style scoped>\n",
       "    .dataframe tbody tr th:only-of-type {\n",
       "        vertical-align: middle;\n",
       "    }\n",
       "\n",
       "    .dataframe tbody tr th {\n",
       "        vertical-align: top;\n",
       "    }\n",
       "\n",
       "    .dataframe thead th {\n",
       "        text-align: right;\n",
       "    }\n",
       "</style>\n",
       "<table border=\"1\" class=\"dataframe\">\n",
       "  <thead>\n",
       "    <tr style=\"text-align: right;\">\n",
       "      <th></th>\n",
       "      <th>base_estimator__max_depth</th>\n",
       "      <th>learning_rate</th>\n",
       "      <th>n_estimators</th>\n",
       "      <th>best_score</th>\n",
       "      <th>training_score</th>\n",
       "      <th>testing_score</th>\n",
       "    </tr>\n",
       "  </thead>\n",
       "  <tbody>\n",
       "    <tr>\n",
       "      <th>model_1</th>\n",
       "      <td>3</td>\n",
       "      <td>1.00</td>\n",
       "      <td>30</td>\n",
       "      <td>0.806001</td>\n",
       "      <td>0.844506</td>\n",
       "      <td>0.800649</td>\n",
       "    </tr>\n",
       "    <tr>\n",
       "      <th>model_2</th>\n",
       "      <td>5</td>\n",
       "      <td>1.00</td>\n",
       "      <td>50</td>\n",
       "      <td>0.915408</td>\n",
       "      <td>0.955964</td>\n",
       "      <td>0.920011</td>\n",
       "    </tr>\n",
       "    <tr>\n",
       "      <th>model_3</th>\n",
       "      <td>7</td>\n",
       "      <td>0.95</td>\n",
       "      <td>70</td>\n",
       "      <td>0.944595</td>\n",
       "      <td>0.986029</td>\n",
       "      <td>0.955077</td>\n",
       "    </tr>\n",
       "  </tbody>\n",
       "</table>\n",
       "</div>"
      ],
      "text/plain": [
       "         base_estimator__max_depth  learning_rate  n_estimators  best_score  \\\n",
       "model_1                          3           1.00            30    0.806001   \n",
       "model_2                          5           1.00            50    0.915408   \n",
       "model_3                          7           0.95            70    0.944595   \n",
       "\n",
       "         training_score  testing_score  \n",
       "model_1        0.844506       0.800649  \n",
       "model_2        0.955964       0.920011  \n",
       "model_3        0.986029       0.955077  "
      ]
     },
     "execution_count": 205,
     "metadata": {},
     "output_type": "execute_result"
    }
   ],
   "source": [
    "ada = AdaBoostRegressor(base_estimator=RandomForestRegressor())\n",
    "\n",
    "ada_params = {\n",
    "    'base_estimator__max_depth': [5, 6, 7],\n",
    "    'learning_rate': [.90, .95, 1.],\n",
    "    'n_estimators': [50, 60, 70],\n",
    "}\n",
    "\n",
    "gs_two = GridSearchCV(ada, param_grid=ada_params, cv=3, n_jobs = 12)\n",
    "\n",
    "gs_two.fit(X_train, y_train)\n",
    "\n",
    "count_two += 1\n",
    "\n",
    "gs_two.best_params_['best_score'] = gs_two.best_score_\n",
    "\n",
    "gs_two.best_params_['training_score'] = gs_two.score(X_train, y_train)\n",
    "\n",
    "gs_two.best_params_['testing_score'] = gs_two.score(X_test, y_test)\n",
    "\n",
    "model_params_two[f'model_{count_two}'] = gs_two.best_params_\n",
    "\n",
    "model_df_two = pd.DataFrame.from_dict(model_params_two, orient='index')\n",
    "\n",
    "model_df_two"
   ]
  },
  {
   "cell_type": "code",
   "execution_count": null,
   "metadata": {},
   "outputs": [],
   "source": []
  }
 ],
 "metadata": {
  "kernelspec": {
   "display_name": "Python 3",
   "language": "python",
   "name": "python3"
  },
  "language_info": {
   "codemirror_mode": {
    "name": "ipython",
    "version": 3
   },
   "file_extension": ".py",
   "mimetype": "text/x-python",
   "name": "python",
   "nbconvert_exporter": "python",
   "pygments_lexer": "ipython3",
   "version": "3.7.9"
  }
 },
 "nbformat": 4,
 "nbformat_minor": 4
}
