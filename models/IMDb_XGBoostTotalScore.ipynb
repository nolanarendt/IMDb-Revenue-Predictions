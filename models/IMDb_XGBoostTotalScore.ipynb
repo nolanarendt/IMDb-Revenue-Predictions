{
 "cells": [
  {
   "cell_type": "markdown",
   "metadata": {},
   "source": [
    "# IMDB XGBoost Total Score\n",
    "![ImdbIcon](../images/imdbheader.jpg)"
   ]
  },
  {
   "cell_type": "code",
   "execution_count": 1,
   "metadata": {
    "scrolled": true
   },
   "outputs": [],
   "source": [
    "import pandas as pd\n",
    "import numpy as np\n",
    "import matplotlib.pyplot as plt\n",
    "import seaborn as sns\n",
    "\n",
    "from sklearn import linear_model\n",
    "from sklearn.model_selection import cross_val_score, train_test_split, GridSearchCV\n",
    "\n",
    "# Importing so that I can use LinearRegression and OLS Models.\n",
    "from sklearn.linear_model import LinearRegression, LogisticRegression\n",
    "from sklearn import metrics"
   ]
  },
  {
   "cell_type": "code",
   "execution_count": 7,
   "metadata": {},
   "outputs": [],
   "source": [
    "final_df = pd.read_csv('../data/final_df.csv')"
   ]
  },
  {
   "cell_type": "code",
   "execution_count": 8,
   "metadata": {},
   "outputs": [
    {
     "data": {
      "text/plain": [
       "Index(['movie_title', 'year', 'tagline', 'plot', 'cast', 'duration', 'Action',\n",
       "       'Adventure', 'Animation', 'Biography', 'Comedy', 'Crime', 'Drama',\n",
       "       'Family', 'Fantasy', 'History', 'Horror', 'Music', 'Musical', 'Mystery',\n",
       "       'Romance', 'Sci-Fi', 'Sport', 'Thriller', 'War', 'Western', 'avg_vote',\n",
       "       'total_votes', 'us_voters_votes', 'votes', 'votes_1', 'votes_2',\n",
       "       'votes_3', 'votes_4', 'votes_5', 'votes_6', 'votes_7', 'votes_8',\n",
       "       'votes_9', 'votes_10', 'popularity', 'director_score', 'actor_score',\n",
       "       'actress_score', 'tagline_sentiment', 'plot_sentiment', 'total_score',\n",
       "       'profitable', 'budget', 'revenue', 'budget_adj', 'revenue_adj'],\n",
       "      dtype='object')"
      ]
     },
     "execution_count": 8,
     "metadata": {},
     "output_type": "execute_result"
    }
   ],
   "source": [
    "final_df.columns"
   ]
  },
  {
   "cell_type": "markdown",
   "metadata": {},
   "source": [
    "### XGBoost"
   ]
  },
  {
   "cell_type": "code",
   "execution_count": 9,
   "metadata": {},
   "outputs": [],
   "source": [
    "from xgboost import XGBRegressor, XGBClassifier"
   ]
  },
  {
   "cell_type": "code",
   "execution_count": 10,
   "metadata": {},
   "outputs": [],
   "source": [
    "xgb = XGBRegressor()"
   ]
  },
  {
   "cell_type": "code",
   "execution_count": 11,
   "metadata": {},
   "outputs": [],
   "source": [
    "features = ['History', 'Music', 'Musical', 'Mystery', 'Romance', 'Sport', 'Thriller', 'War', 'Western', \n",
    "            'us_voters_votes', 'total_votes', 'votes_4', 'votes_5', 'votes_6', 'votes_7', 'votes_8','votes_9', 'votes_10', \n",
    "            'popularity', 'director_score', 'actor_score', 'actress_score', 'tagline_sentiment', 'profitable', 'budget', \n",
    "            'revenue']"
   ]
  },
  {
   "cell_type": "code",
   "execution_count": 12,
   "metadata": {},
   "outputs": [],
   "source": [
    "X = final_df[features]\n",
    "y = final_df['total_score']"
   ]
  },
  {
   "cell_type": "code",
   "execution_count": 13,
   "metadata": {},
   "outputs": [],
   "source": [
    "X_train, X_test, y_train, y_test = train_test_split(X, y, test_size = 0.20, random_state = 42)"
   ]
  },
  {
   "cell_type": "code",
   "execution_count": 14,
   "metadata": {
    "scrolled": true
   },
   "outputs": [
    {
     "data": {
      "text/plain": [
       "XGBRegressor(base_score=0.5, booster='gbtree', colsample_bylevel=1,\n",
       "             colsample_bynode=1, colsample_bytree=1, gamma=0, gpu_id=-1,\n",
       "             importance_type='gain', interaction_constraints='',\n",
       "             learning_rate=0.300000012, max_delta_step=0, max_depth=6,\n",
       "             min_child_weight=1, missing=nan, monotone_constraints='()',\n",
       "             n_estimators=100, n_jobs=24, num_parallel_tree=1, random_state=0,\n",
       "             reg_alpha=0, reg_lambda=1, scale_pos_weight=1, subsample=1,\n",
       "             tree_method='exact', validate_parameters=1, verbosity=None)"
      ]
     },
     "execution_count": 14,
     "metadata": {},
     "output_type": "execute_result"
    }
   ],
   "source": [
    "xgb.fit(X_train, y_train)"
   ]
  },
  {
   "cell_type": "code",
   "execution_count": 15,
   "metadata": {},
   "outputs": [
    {
     "name": "stdout",
     "output_type": "stream",
     "text": [
      "Training Score: 0.9997778088958538\n",
      " \n",
      "Testing Score: 0.9014472024187578\n"
     ]
    }
   ],
   "source": [
    "print(\"Training Score:\", xgb.score(X_train, y_train))\n",
    "print(\" \")\n",
    "print(\"Testing Score:\", xgb.score(X_test, y_test))"
   ]
  },
  {
   "cell_type": "code",
   "execution_count": 16,
   "metadata": {},
   "outputs": [],
   "source": [
    "predictions = xgb.predict(X_train)\n",
    "\n",
    "residuals = y_train - predictions\n",
    "\n",
    "rss = (residuals ** 2).sum()\n",
    "\n",
    "mse = metrics.mean_squared_error(y_train, predictions)\n",
    "\n",
    "rmse = np.sqrt(metrics.mean_squared_error(y_train, predictions))"
   ]
  },
  {
   "cell_type": "code",
   "execution_count": 17,
   "metadata": {},
   "outputs": [],
   "source": [
    "null_predictions = np.zeros_like(y_test)\n",
    "\n",
    "null_pred = null_predictions + y_test.mean()\n",
    "\n",
    "baseline = metrics.mean_squared_error(y_test, null_pred, squared = False)"
   ]
  },
  {
   "cell_type": "code",
   "execution_count": 18,
   "metadata": {},
   "outputs": [
    {
     "name": "stdout",
     "output_type": "stream",
     "text": [
      "Baseline RMSE: 0.9077799746640476\n",
      " \n",
      "RMSE: 0.014936013954005982\n",
      "________________________________\n",
      " \n",
      "Difference: 0.8928439607100416\n"
     ]
    }
   ],
   "source": [
    "print(\"Baseline RMSE:\", baseline)\n",
    "print(\" \")\n",
    "print(\"RMSE:\", rmse)\n",
    "print(\"________________________________\")\n",
    "print(\" \")\n",
    "print(\"Difference:\", baseline - rmse)"
   ]
  },
  {
   "cell_type": "code",
   "execution_count": 19,
   "metadata": {},
   "outputs": [
    {
     "name": "stdout",
     "output_type": "stream",
     "text": [
      "RMSE: 0.014936013954005982\n",
      " \n",
      "Training Score: 0.9997778088958538\n",
      " \n",
      "Testing Score: 0.9014472024187578\n"
     ]
    }
   ],
   "source": [
    "print(\"RMSE:\", rmse)\n",
    "print(\" \")\n",
    "print(\"Training Score:\", xgb.score(X_train, y_train))\n",
    "print(\" \")\n",
    "print(\"Testing Score:\", xgb.score(X_test, y_test))"
   ]
  },
  {
   "cell_type": "code",
   "execution_count": 20,
   "metadata": {},
   "outputs": [],
   "source": [
    "xgb = XGBRegressor()"
   ]
  },
  {
   "cell_type": "code",
   "execution_count": 22,
   "metadata": {},
   "outputs": [],
   "source": [
    "model_params = {}\n",
    "count = 0"
   ]
  },
  {
   "cell_type": "code",
   "execution_count": 29,
   "metadata": {},
   "outputs": [
    {
     "data": {
      "text/html": [
       "<div>\n",
       "<style scoped>\n",
       "    .dataframe tbody tr th:only-of-type {\n",
       "        vertical-align: middle;\n",
       "    }\n",
       "\n",
       "    .dataframe tbody tr th {\n",
       "        vertical-align: top;\n",
       "    }\n",
       "\n",
       "    .dataframe thead th {\n",
       "        text-align: right;\n",
       "    }\n",
       "</style>\n",
       "<table border=\"1\" class=\"dataframe\">\n",
       "  <thead>\n",
       "    <tr style=\"text-align: right;\">\n",
       "      <th></th>\n",
       "      <th>base_score</th>\n",
       "      <th>booster</th>\n",
       "      <th>learning_rate</th>\n",
       "      <th>max_depth</th>\n",
       "      <th>n_estimators</th>\n",
       "      <th>subsample</th>\n",
       "      <th>best_score</th>\n",
       "      <th>training_score</th>\n",
       "      <th>testing_score</th>\n",
       "    </tr>\n",
       "  </thead>\n",
       "  <tbody>\n",
       "    <tr>\n",
       "      <th>model_1</th>\n",
       "      <td>0.10</td>\n",
       "      <td>dart</td>\n",
       "      <td>0.15</td>\n",
       "      <td>3</td>\n",
       "      <td>300</td>\n",
       "      <td>1</td>\n",
       "      <td>0.916494</td>\n",
       "      <td>0.993688</td>\n",
       "      <td>0.891684</td>\n",
       "    </tr>\n",
       "    <tr>\n",
       "      <th>model_2</th>\n",
       "      <td>0.15</td>\n",
       "      <td>gbtree</td>\n",
       "      <td>0.15</td>\n",
       "      <td>3</td>\n",
       "      <td>500</td>\n",
       "      <td>1</td>\n",
       "      <td>0.919239</td>\n",
       "      <td>0.997559</td>\n",
       "      <td>0.892852</td>\n",
       "    </tr>\n",
       "    <tr>\n",
       "      <th>model_3</th>\n",
       "      <td>0.15</td>\n",
       "      <td>gbtree</td>\n",
       "      <td>0.15</td>\n",
       "      <td>3</td>\n",
       "      <td>700</td>\n",
       "      <td>1</td>\n",
       "      <td>0.919254</td>\n",
       "      <td>0.998937</td>\n",
       "      <td>0.892718</td>\n",
       "    </tr>\n",
       "    <tr>\n",
       "      <th>model_4</th>\n",
       "      <td>0.15</td>\n",
       "      <td>gbtree</td>\n",
       "      <td>0.10</td>\n",
       "      <td>3</td>\n",
       "      <td>900</td>\n",
       "      <td>1</td>\n",
       "      <td>0.919548</td>\n",
       "      <td>0.998360</td>\n",
       "      <td>0.900094</td>\n",
       "    </tr>\n",
       "    <tr>\n",
       "      <th>model_5</th>\n",
       "      <td>0.15</td>\n",
       "      <td>gbtree</td>\n",
       "      <td>0.10</td>\n",
       "      <td>3</td>\n",
       "      <td>1100</td>\n",
       "      <td>1</td>\n",
       "      <td>0.919760</td>\n",
       "      <td>0.999018</td>\n",
       "      <td>0.899305</td>\n",
       "    </tr>\n",
       "    <tr>\n",
       "      <th>model_6</th>\n",
       "      <td>0.15</td>\n",
       "      <td>gbtree</td>\n",
       "      <td>0.10</td>\n",
       "      <td>3</td>\n",
       "      <td>1150</td>\n",
       "      <td>1</td>\n",
       "      <td>0.919797</td>\n",
       "      <td>0.999159</td>\n",
       "      <td>0.899362</td>\n",
       "    </tr>\n",
       "    <tr>\n",
       "      <th>model_7</th>\n",
       "      <td>0.15</td>\n",
       "      <td>gbtree</td>\n",
       "      <td>0.10</td>\n",
       "      <td>3</td>\n",
       "      <td>925</td>\n",
       "      <td>1</td>\n",
       "      <td>0.919606</td>\n",
       "      <td>0.998461</td>\n",
       "      <td>0.899903</td>\n",
       "    </tr>\n",
       "  </tbody>\n",
       "</table>\n",
       "</div>"
      ],
      "text/plain": [
       "         base_score booster  learning_rate  max_depth  n_estimators  \\\n",
       "model_1        0.10    dart           0.15          3           300   \n",
       "model_2        0.15  gbtree           0.15          3           500   \n",
       "model_3        0.15  gbtree           0.15          3           700   \n",
       "model_4        0.15  gbtree           0.10          3           900   \n",
       "model_5        0.15  gbtree           0.10          3          1100   \n",
       "model_6        0.15  gbtree           0.10          3          1150   \n",
       "model_7        0.15  gbtree           0.10          3           925   \n",
       "\n",
       "         subsample  best_score  training_score  testing_score  \n",
       "model_1          1    0.916494        0.993688       0.891684  \n",
       "model_2          1    0.919239        0.997559       0.892852  \n",
       "model_3          1    0.919254        0.998937       0.892718  \n",
       "model_4          1    0.919548        0.998360       0.900094  \n",
       "model_5          1    0.919760        0.999018       0.899305  \n",
       "model_6          1    0.919797        0.999159       0.899362  \n",
       "model_7          1    0.919606        0.998461       0.899903  "
      ]
     },
     "execution_count": 29,
     "metadata": {},
     "output_type": "execute_result"
    }
   ],
   "source": [
    "xgb_params = {\n",
    "    'base_score' : [0.13, 0.15, 0.17],\n",
    "    'booster' : ['gbtree', 'gblinear', 'dart'],\n",
    "    'learning_rate': [.08, .10, .12],\n",
    "    'max_depth' : [2, 3, 4],\n",
    "    'n_estimators': [875, 900, 925],\n",
    "    'subsample' : [1],\n",
    "}\n",
    "\n",
    "gs = GridSearchCV(xgb, param_grid = xgb_params, cv = 5, n_jobs = 12)\n",
    "\n",
    "gs.fit(X_train, y_train)\n",
    "\n",
    "count += 1\n",
    "\n",
    "gs.best_params_['best_score'] = gs.best_score_\n",
    "\n",
    "gs.best_params_['training_score'] = gs.score(X_train, y_train)\n",
    "\n",
    "gs.best_params_['testing_score'] = gs.score(X_test, y_test)\n",
    "\n",
    "model_params[f'model_{count}'] = gs.best_params_\n",
    "\n",
    "model_df = pd.DataFrame.from_dict(model_params, orient = 'index')\n",
    "\n",
    "model_df"
   ]
  },
  {
   "cell_type": "code",
   "execution_count": null,
   "metadata": {},
   "outputs": [],
   "source": []
  }
 ],
 "metadata": {
  "kernelspec": {
   "display_name": "Python 3",
   "language": "python",
   "name": "python3"
  },
  "language_info": {
   "codemirror_mode": {
    "name": "ipython",
    "version": 3
   },
   "file_extension": ".py",
   "mimetype": "text/x-python",
   "name": "python",
   "nbconvert_exporter": "python",
   "pygments_lexer": "ipython3",
   "version": "3.7.9"
  }
 },
 "nbformat": 4,
 "nbformat_minor": 4
}
