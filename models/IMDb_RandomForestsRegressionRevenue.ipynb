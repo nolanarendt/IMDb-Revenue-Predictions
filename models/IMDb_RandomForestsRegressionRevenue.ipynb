{
 "cells": [
  {
   "cell_type": "markdown",
   "metadata": {},
   "source": [
    "# IMDB Random Forests Regression\n",
    "![ImdbIcon](../images/imdbheader.jpg)"
   ]
  },
  {
   "cell_type": "code",
   "execution_count": 1,
   "metadata": {},
   "outputs": [
    {
     "name": "stderr",
     "output_type": "stream",
     "text": [
      "C:\\Users\\nolan_fur2pfn\\.conda\\envs\\dsi\\lib\\site-packages\\numpy\\_distributor_init.py:32: UserWarning: loaded more than 1 DLL from .libs:\n",
      "C:\\Users\\nolan_fur2pfn\\.conda\\envs\\dsi\\lib\\site-packages\\numpy\\.libs\\libopenblas.NOIJJG62EMASZI6NYURL6JBKM4EVBGM7.gfortran-win_amd64.dll\n",
      "C:\\Users\\nolan_fur2pfn\\.conda\\envs\\dsi\\lib\\site-packages\\numpy\\.libs\\libopenblas.PYQHXLVVQ7VESDPUVUADXEVJOBGHJPAY.gfortran-win_amd64.dll\n",
      "  stacklevel=1)\n"
     ]
    }
   ],
   "source": [
    "import pandas as pd\n",
    "import numpy as np\n",
    "import seaborn as sns\n",
    "import matplotlib.pyplot as plt\n",
    "\n",
    "from sklearn.ensemble import RandomForestRegressor, ExtraTreesRegressor, AdaBoostRegressor\n",
    "from sklearn.model_selection import cross_val_score, train_test_split, GridSearchCV\n",
    "from sklearn.metrics import confusion_matrix, plot_confusion_matrix, classification_report"
   ]
  },
  {
   "cell_type": "code",
   "execution_count": 2,
   "metadata": {},
   "outputs": [],
   "source": [
    "revenue_df = pd.read_csv('../data/revenue_df.csv')"
   ]
  },
  {
   "cell_type": "code",
   "execution_count": 3,
   "metadata": {},
   "outputs": [
    {
     "data": {
      "text/plain": [
       "Index(['movie_title', 'year', 'tagline', 'plot', 'cast', 'duration', 'Action',\n",
       "       'Adventure', 'Animation', 'Biography', 'Comedy', 'Crime', 'Drama',\n",
       "       'Family', 'Fantasy', 'History', 'Horror', 'Music', 'Musical', 'Mystery',\n",
       "       'Romance', 'Sci-Fi', 'Sport', 'Thriller', 'War', 'Western', 'avg_vote',\n",
       "       'total_votes', 'us_voters_votes', 'votes', 'votes_1', 'votes_2',\n",
       "       'votes_3', 'votes_4', 'votes_5', 'votes_6', 'votes_7', 'votes_8',\n",
       "       'votes_9', 'votes_10', 'popularity', 'director_score', 'actor_score',\n",
       "       'actress_score', 'tagline_sentiment', 'plot_sentiment', 'total_score',\n",
       "       'profitable', 'budget', 'revenue', 'budget_adj', 'revenue_adj'],\n",
       "      dtype='object')"
      ]
     },
     "execution_count": 3,
     "metadata": {},
     "output_type": "execute_result"
    }
   ],
   "source": [
    "revenue_df.columns"
   ]
  },
  {
   "cell_type": "markdown",
   "metadata": {},
   "source": [
    "## Random Forests Regression"
   ]
  },
  {
   "cell_type": "code",
   "execution_count": 4,
   "metadata": {},
   "outputs": [],
   "source": [
    "features = ['duration', 'Action', 'Adventure', 'Animation', 'Biography', 'Comedy', \n",
    "            'Crime', 'Drama', 'Family', 'Fantasy', 'History', 'Horror', 'Music', 'Musical', \n",
    "            'Mystery', 'Romance', 'Sci-Fi', 'Sport', 'Thriller', 'War', 'Western', 'avg_vote',\n",
    "            'total_votes', 'us_voters_votes', 'votes', 'votes_1', 'votes_2', 'votes_3', 'votes_4', \n",
    "            'votes_5', 'votes_6', 'votes_7', 'votes_8', 'votes_9', 'votes_10', 'popularity', \n",
    "            'director_score', 'actor_score', 'actress_score', 'tagline_sentiment', 'plot_sentiment', \n",
    "            'total_score', 'budget']"
   ]
  },
  {
   "cell_type": "code",
   "execution_count": 5,
   "metadata": {},
   "outputs": [],
   "source": [
    "X = revenue_df[features]\n",
    "y = revenue_df['revenue']"
   ]
  },
  {
   "cell_type": "code",
   "execution_count": 6,
   "metadata": {},
   "outputs": [],
   "source": [
    "X_train, X_test, y_train, y_test = train_test_split(X, y, test_size = .20, random_state = 42)"
   ]
  },
  {
   "cell_type": "code",
   "execution_count": 7,
   "metadata": {},
   "outputs": [],
   "source": [
    "rf = RandomForestRegressor()"
   ]
  },
  {
   "cell_type": "code",
   "execution_count": 8,
   "metadata": {},
   "outputs": [
    {
     "name": "stdout",
     "output_type": "stream",
     "text": [
      "Cross Val Score: 0.6654816047422895\n"
     ]
    }
   ],
   "source": [
    "print(\"Cross Val Score:\", cross_val_score(rf, X_train, y_train, cv = 5).mean())"
   ]
  },
  {
   "cell_type": "code",
   "execution_count": 9,
   "metadata": {},
   "outputs": [],
   "source": [
    "model_params = {}\n",
    "count = 0"
   ]
  },
  {
   "cell_type": "code",
   "execution_count": 14,
   "metadata": {
    "scrolled": true
   },
   "outputs": [
    {
     "data": {
      "text/html": [
       "<div>\n",
       "<style scoped>\n",
       "    .dataframe tbody tr th:only-of-type {\n",
       "        vertical-align: middle;\n",
       "    }\n",
       "\n",
       "    .dataframe tbody tr th {\n",
       "        vertical-align: top;\n",
       "    }\n",
       "\n",
       "    .dataframe thead th {\n",
       "        text-align: right;\n",
       "    }\n",
       "</style>\n",
       "<table border=\"1\" class=\"dataframe\">\n",
       "  <thead>\n",
       "    <tr style=\"text-align: right;\">\n",
       "      <th></th>\n",
       "      <th>max_depth</th>\n",
       "      <th>min_samples_leaf</th>\n",
       "      <th>min_samples_split</th>\n",
       "      <th>n_estimators</th>\n",
       "      <th>best_score</th>\n",
       "      <th>training_score</th>\n",
       "      <th>testing_score</th>\n",
       "    </tr>\n",
       "  </thead>\n",
       "  <tbody>\n",
       "    <tr>\n",
       "      <th>model_1</th>\n",
       "      <td>3</td>\n",
       "      <td>1</td>\n",
       "      <td>2</td>\n",
       "      <td>100</td>\n",
       "      <td>0.631316</td>\n",
       "      <td>0.756501</td>\n",
       "      <td>0.468206</td>\n",
       "    </tr>\n",
       "    <tr>\n",
       "      <th>model_2</th>\n",
       "      <td>5</td>\n",
       "      <td>2</td>\n",
       "      <td>3</td>\n",
       "      <td>100</td>\n",
       "      <td>0.662146</td>\n",
       "      <td>0.835330</td>\n",
       "      <td>0.504975</td>\n",
       "    </tr>\n",
       "    <tr>\n",
       "      <th>model_3</th>\n",
       "      <td>7</td>\n",
       "      <td>1</td>\n",
       "      <td>4</td>\n",
       "      <td>300</td>\n",
       "      <td>0.667750</td>\n",
       "      <td>0.897355</td>\n",
       "      <td>0.535553</td>\n",
       "    </tr>\n",
       "    <tr>\n",
       "      <th>model_4</th>\n",
       "      <td>9</td>\n",
       "      <td>1</td>\n",
       "      <td>3</td>\n",
       "      <td>400</td>\n",
       "      <td>0.671402</td>\n",
       "      <td>0.928145</td>\n",
       "      <td>0.533396</td>\n",
       "    </tr>\n",
       "    <tr>\n",
       "      <th>model_5</th>\n",
       "      <td>11</td>\n",
       "      <td>1</td>\n",
       "      <td>2</td>\n",
       "      <td>350</td>\n",
       "      <td>0.672237</td>\n",
       "      <td>0.947054</td>\n",
       "      <td>0.545173</td>\n",
       "    </tr>\n",
       "  </tbody>\n",
       "</table>\n",
       "</div>"
      ],
      "text/plain": [
       "         max_depth  min_samples_leaf  min_samples_split  n_estimators  \\\n",
       "model_1          3                 1                  2           100   \n",
       "model_2          5                 2                  3           100   \n",
       "model_3          7                 1                  4           300   \n",
       "model_4          9                 1                  3           400   \n",
       "model_5         11                 1                  2           350   \n",
       "\n",
       "         best_score  training_score  testing_score  \n",
       "model_1    0.631316        0.756501       0.468206  \n",
       "model_2    0.662146        0.835330       0.504975  \n",
       "model_3    0.667750        0.897355       0.535553  \n",
       "model_4    0.671402        0.928145       0.533396  \n",
       "model_5    0.672237        0.947054       0.545173  "
      ]
     },
     "execution_count": 14,
     "metadata": {},
     "output_type": "execute_result"
    }
   ],
   "source": [
    "rf_params = {\n",
    "    'max_depth': [9, 10, 11],\n",
    "    'min_samples_leaf': [1, 2, 3],\n",
    "    'min_samples_split': [2, 3, 4],\n",
    "    'n_estimators': [350, 400, 450],\n",
    "}\n",
    "\n",
    "gs = GridSearchCV(rf, param_grid=rf_params, cv = 5, n_jobs = 12)\n",
    "\n",
    "gs.fit(X_train, y_train)\n",
    "\n",
    "count += 1\n",
    "\n",
    "gs.best_params_['best_score'] = gs.best_score_\n",
    "\n",
    "gs.best_params_['training_score'] = gs.score(X_train, y_train)\n",
    "\n",
    "gs.best_params_['testing_score'] = gs.score(X_test, y_test)\n",
    "\n",
    "model_params[f'model_{count}'] = gs.best_params_\n",
    "\n",
    "model_df = pd.DataFrame.from_dict(model_params, orient='index')\n",
    "\n",
    "model_df"
   ]
  },
  {
   "cell_type": "markdown",
   "metadata": {},
   "source": [
    "## AdaBoostRegressor"
   ]
  },
  {
   "cell_type": "code",
   "execution_count": 18,
   "metadata": {},
   "outputs": [],
   "source": [
    "model_params_two = {}\n",
    "count_two = 0"
   ]
  },
  {
   "cell_type": "code",
   "execution_count": 22,
   "metadata": {},
   "outputs": [
    {
     "data": {
      "text/html": [
       "<div>\n",
       "<style scoped>\n",
       "    .dataframe tbody tr th:only-of-type {\n",
       "        vertical-align: middle;\n",
       "    }\n",
       "\n",
       "    .dataframe tbody tr th {\n",
       "        vertical-align: top;\n",
       "    }\n",
       "\n",
       "    .dataframe thead th {\n",
       "        text-align: right;\n",
       "    }\n",
       "</style>\n",
       "<table border=\"1\" class=\"dataframe\">\n",
       "  <thead>\n",
       "    <tr style=\"text-align: right;\">\n",
       "      <th></th>\n",
       "      <th>base_estimator__max_depth</th>\n",
       "      <th>learning_rate</th>\n",
       "      <th>n_estimators</th>\n",
       "      <th>best_score</th>\n",
       "      <th>training_score</th>\n",
       "      <th>testing_score</th>\n",
       "    </tr>\n",
       "  </thead>\n",
       "  <tbody>\n",
       "    <tr>\n",
       "      <th>model_1</th>\n",
       "      <td>3</td>\n",
       "      <td>1.00</td>\n",
       "      <td>300</td>\n",
       "      <td>0.600364</td>\n",
       "      <td>0.768746</td>\n",
       "      <td>0.427752</td>\n",
       "    </tr>\n",
       "    <tr>\n",
       "      <th>model_2</th>\n",
       "      <td>4</td>\n",
       "      <td>0.95</td>\n",
       "      <td>300</td>\n",
       "      <td>0.619965</td>\n",
       "      <td>0.833536</td>\n",
       "      <td>0.490926</td>\n",
       "    </tr>\n",
       "    <tr>\n",
       "      <th>model_3</th>\n",
       "      <td>4</td>\n",
       "      <td>0.90</td>\n",
       "      <td>400</td>\n",
       "      <td>0.640080</td>\n",
       "      <td>0.842121</td>\n",
       "      <td>0.455173</td>\n",
       "    </tr>\n",
       "    <tr>\n",
       "      <th>model_4</th>\n",
       "      <td>4</td>\n",
       "      <td>0.80</td>\n",
       "      <td>500</td>\n",
       "      <td>0.644468</td>\n",
       "      <td>0.851919</td>\n",
       "      <td>0.468607</td>\n",
       "    </tr>\n",
       "  </tbody>\n",
       "</table>\n",
       "</div>"
      ],
      "text/plain": [
       "         base_estimator__max_depth  learning_rate  n_estimators  best_score  \\\n",
       "model_1                          3           1.00           300    0.600364   \n",
       "model_2                          4           0.95           300    0.619965   \n",
       "model_3                          4           0.90           400    0.640080   \n",
       "model_4                          4           0.80           500    0.644468   \n",
       "\n",
       "         training_score  testing_score  \n",
       "model_1        0.768746       0.427752  \n",
       "model_2        0.833536       0.490926  \n",
       "model_3        0.842121       0.455173  \n",
       "model_4        0.851919       0.468607  "
      ]
     },
     "execution_count": 22,
     "metadata": {},
     "output_type": "execute_result"
    }
   ],
   "source": [
    "ada = AdaBoostRegressor(base_estimator=RandomForestRegressor())\n",
    "\n",
    "ada_params = {\n",
    "    'base_estimator__max_depth': [3, 4, 5],\n",
    "    'learning_rate': [.80, .85, .90],\n",
    "    'n_estimators': [300, 400, 500],\n",
    "}\n",
    "\n",
    "gs_two = GridSearchCV(ada, param_grid=ada_params, cv=3, n_jobs = 12)\n",
    "\n",
    "gs_two.fit(X_train, y_train)\n",
    "\n",
    "count_two += 1\n",
    "\n",
    "gs_two.best_params_['best_score'] = gs_two.best_score_\n",
    "\n",
    "gs_two.best_params_['training_score'] = gs_two.score(X_train, y_train)\n",
    "\n",
    "gs_two.best_params_['testing_score'] = gs_two.score(X_test, y_test)\n",
    "\n",
    "model_params_two[f'model_{count_two}'] = gs_two.best_params_\n",
    "\n",
    "model_df_two = pd.DataFrame.from_dict(model_params_two, orient='index')\n",
    "\n",
    "model_df_two"
   ]
  },
  {
   "cell_type": "code",
   "execution_count": null,
   "metadata": {},
   "outputs": [],
   "source": []
  }
 ],
 "metadata": {
  "kernelspec": {
   "display_name": "Python 3",
   "language": "python",
   "name": "python3"
  },
  "language_info": {
   "codemirror_mode": {
    "name": "ipython",
    "version": 3
   },
   "file_extension": ".py",
   "mimetype": "text/x-python",
   "name": "python",
   "nbconvert_exporter": "python",
   "pygments_lexer": "ipython3",
   "version": "3.7.9"
  }
 },
 "nbformat": 4,
 "nbformat_minor": 4
}
