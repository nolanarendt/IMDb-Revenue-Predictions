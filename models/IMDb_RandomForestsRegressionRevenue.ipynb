{
 "cells": [
  {
   "cell_type": "markdown",
   "metadata": {},
   "source": [
    "# IMDB Random Forests Regression\n",
    "![ImdbIcon](../images/imdbheader.jpg)"
   ]
  },
  {
   "cell_type": "code",
   "execution_count": 24,
   "metadata": {},
   "outputs": [],
   "source": [
    "import pandas as pd\n",
    "import numpy as np\n",
    "import seaborn as sns\n",
    "import matplotlib.pyplot as plt\n",
    "\n",
    "from sklearn import metrics\n",
    "from sklearn.ensemble import RandomForestRegressor, ExtraTreesRegressor, AdaBoostRegressor\n",
    "from sklearn.model_selection import cross_val_score, train_test_split, GridSearchCV\n",
    "from sklearn.metrics import confusion_matrix, plot_confusion_matrix, classification_report"
   ]
  },
  {
   "cell_type": "code",
   "execution_count": 2,
   "metadata": {},
   "outputs": [],
   "source": [
    "revenue_df = pd.read_csv('../data/revenue_df.csv')"
   ]
  },
  {
   "cell_type": "code",
   "execution_count": 3,
   "metadata": {},
   "outputs": [
    {
     "data": {
      "text/plain": [
       "Index(['movie_title', 'year', 'tagline', 'plot', 'cast', 'duration', 'Action',\n",
       "       'Adventure', 'Animation', 'Biography', 'Comedy', 'Crime', 'Drama',\n",
       "       'Family', 'Fantasy', 'History', 'Horror', 'Music', 'Musical', 'Mystery',\n",
       "       'Romance', 'Sci-Fi', 'Sport', 'Thriller', 'War', 'Western',\n",
       "       'total_votes', 'us_voters_votes', 'votes', 'votes_1', 'votes_2',\n",
       "       'votes_3', 'votes_4', 'votes_5', 'votes_6', 'votes_7', 'votes_8',\n",
       "       'votes_9', 'votes_10', 'popularity', 'director_score', 'actor_score',\n",
       "       'actress_score', 'tagline_sentiment', 'plot_sentiment', 'imdb_score',\n",
       "       'profitable', 'budget', 'revenue', 'budget_adj', 'revenue_adj'],\n",
       "      dtype='object')"
      ]
     },
     "execution_count": 3,
     "metadata": {},
     "output_type": "execute_result"
    }
   ],
   "source": [
    "revenue_df.columns"
   ]
  },
  {
   "cell_type": "markdown",
   "metadata": {},
   "source": [
    "## Random Forests Regression"
   ]
  },
  {
   "cell_type": "code",
   "execution_count": 4,
   "metadata": {},
   "outputs": [],
   "source": [
    "features = ['year', 'duration', 'Action', 'Adventure', 'Animation','Comedy', 'Crime', 'Drama', 'Family', 'Fantasy', 'History', \n",
    "            'Horror',  'Musical', 'Mystery', 'Sci-Fi', 'Sport', 'Thriller', 'War', 'Western', 'us_voters_votes',  'votes_2',\n",
    "            'votes_3', 'votes_4', 'votes_6', 'votes_7', 'votes_8', 'votes_9', 'votes_10', 'popularity', 'director_score', \n",
    "            'actor_score', 'tagline_sentiment', 'plot_sentiment', 'imdb_score', 'profitable']"
   ]
  },
  {
   "cell_type": "code",
   "execution_count": 5,
   "metadata": {},
   "outputs": [],
   "source": [
    "X = revenue_df[features]\n",
    "y = revenue_df['revenue']"
   ]
  },
  {
   "cell_type": "code",
   "execution_count": 6,
   "metadata": {},
   "outputs": [],
   "source": [
    "X_train, X_test, y_train, y_test = train_test_split(X, y, test_size = .20, random_state = 42)"
   ]
  },
  {
   "cell_type": "code",
   "execution_count": 7,
   "metadata": {},
   "outputs": [],
   "source": [
    "rf = RandomForestRegressor()"
   ]
  },
  {
   "cell_type": "code",
   "execution_count": 8,
   "metadata": {},
   "outputs": [
    {
     "data": {
      "text/plain": [
       "RandomForestRegressor()"
      ]
     },
     "execution_count": 8,
     "metadata": {},
     "output_type": "execute_result"
    }
   ],
   "source": [
    "rf.fit(X_train, y_train)"
   ]
  },
  {
   "cell_type": "code",
   "execution_count": 9,
   "metadata": {},
   "outputs": [
    {
     "name": "stdout",
     "output_type": "stream",
     "text": [
      "Training Score: 0.9482662357948898\n",
      " \n",
      "Testing Score: 0.7593648728511575\n"
     ]
    }
   ],
   "source": [
    "print(\"Training Score:\", rf.score(X_train, y_train))\n",
    "print(\" \")\n",
    "print(\"Testing Score:\", rf.score(X_test, y_test))"
   ]
  },
  {
   "cell_type": "code",
   "execution_count": 10,
   "metadata": {},
   "outputs": [
    {
     "name": "stdout",
     "output_type": "stream",
     "text": [
      "Cross Val Score: 0.6581746888060298\n"
     ]
    }
   ],
   "source": [
    "print(\"Cross Val Score:\", cross_val_score(rf, X_train, y_train, cv = 5).mean())"
   ]
  },
  {
   "cell_type": "code",
   "execution_count": 27,
   "metadata": {},
   "outputs": [
    {
     "name": "stdout",
     "output_type": "stream",
     "text": [
      "Baseline RMSE: 156782435.303662\n",
      " \n",
      "RMSE: 42740220.29443357\n",
      "________________________________\n",
      " \n",
      "Difference: 114042215.00922844\n"
     ]
    }
   ],
   "source": [
    "predictions = rf.predict(X_train)\n",
    "\n",
    "residuals = y_train - predictions\n",
    "\n",
    "rss = (residuals ** 2).sum()\n",
    "\n",
    "mse = metrics.mean_squared_error(y_train, predictions)\n",
    "\n",
    "rmse = np.sqrt(metrics.mean_squared_error(y_train, predictions))\n",
    "\n",
    "null_predictions = np.zeros_like(y_test)\n",
    "\n",
    "null_pred = null_predictions + y_test.mean()\n",
    "\n",
    "baseline = metrics.mean_squared_error(y_test, null_pred, squared = False)\n",
    "\n",
    "print(\"Baseline RMSE:\", baseline)\n",
    "print(\" \")\n",
    "print(\"RMSE:\", rmse)\n",
    "print(\"________________________________\")\n",
    "print(\" \")\n",
    "print(\"Difference:\", baseline - rmse)"
   ]
  },
  {
   "cell_type": "code",
   "execution_count": 12,
   "metadata": {},
   "outputs": [],
   "source": [
    "predictions = rf.predict(X)"
   ]
  },
  {
   "cell_type": "code",
   "execution_count": 20,
   "metadata": {},
   "outputs": [],
   "source": [
    "revenue_df['predictions'] = predictions.astype(int)\n",
    "revenue_df['difference'] = revenue_df['revenue'] - revenue_df['predictions']"
   ]
  },
  {
   "cell_type": "code",
   "execution_count": 21,
   "metadata": {},
   "outputs": [
    {
     "data": {
      "text/html": [
       "<div>\n",
       "<style scoped>\n",
       "    .dataframe tbody tr th:only-of-type {\n",
       "        vertical-align: middle;\n",
       "    }\n",
       "\n",
       "    .dataframe tbody tr th {\n",
       "        vertical-align: top;\n",
       "    }\n",
       "\n",
       "    .dataframe thead th {\n",
       "        text-align: right;\n",
       "    }\n",
       "</style>\n",
       "<table border=\"1\" class=\"dataframe\">\n",
       "  <thead>\n",
       "    <tr style=\"text-align: right;\">\n",
       "      <th></th>\n",
       "      <th>movie_title</th>\n",
       "      <th>year</th>\n",
       "      <th>tagline</th>\n",
       "      <th>plot</th>\n",
       "      <th>cast</th>\n",
       "      <th>duration</th>\n",
       "      <th>Action</th>\n",
       "      <th>Adventure</th>\n",
       "      <th>Animation</th>\n",
       "      <th>Biography</th>\n",
       "      <th>...</th>\n",
       "      <th>tagline_sentiment</th>\n",
       "      <th>plot_sentiment</th>\n",
       "      <th>imdb_score</th>\n",
       "      <th>profitable</th>\n",
       "      <th>budget</th>\n",
       "      <th>revenue</th>\n",
       "      <th>budget_adj</th>\n",
       "      <th>revenue_adj</th>\n",
       "      <th>predictions</th>\n",
       "      <th>difference</th>\n",
       "    </tr>\n",
       "  </thead>\n",
       "  <tbody>\n",
       "    <tr>\n",
       "      <th>131</th>\n",
       "      <td>Avatar</td>\n",
       "      <td>2009</td>\n",
       "      <td>Enter the World of Pandora.</td>\n",
       "      <td>A paraplegic Marine dispatched to the moon Pan...</td>\n",
       "      <td>Sam Worthington, Zoe Saldana, Sigourney Weaver...</td>\n",
       "      <td>162</td>\n",
       "      <td>1.0</td>\n",
       "      <td>1.0</td>\n",
       "      <td>0.0</td>\n",
       "      <td>0.0</td>\n",
       "      <td>...</td>\n",
       "      <td>0.0000</td>\n",
       "      <td>-0.2500</td>\n",
       "      <td>7.8</td>\n",
       "      <td>1</td>\n",
       "      <td>237000000</td>\n",
       "      <td>2781505847</td>\n",
       "      <td>240886902</td>\n",
       "      <td>-2147483648</td>\n",
       "      <td>2127454351</td>\n",
       "      <td>654051496</td>\n",
       "    </tr>\n",
       "    <tr>\n",
       "      <th>1351</th>\n",
       "      <td>The Avengers</td>\n",
       "      <td>2005</td>\n",
       "      <td>Some assembly required.</td>\n",
       "      <td>Two British Agents team up to stop Sir August ...</td>\n",
       "      <td>Ralph Fiennes, Uma Thurman, Sean Connery, Patr...</td>\n",
       "      <td>89</td>\n",
       "      <td>1.0</td>\n",
       "      <td>1.0</td>\n",
       "      <td>0.0</td>\n",
       "      <td>0.0</td>\n",
       "      <td>...</td>\n",
       "      <td>0.0000</td>\n",
       "      <td>-0.7003</td>\n",
       "      <td>5.9</td>\n",
       "      <td>1</td>\n",
       "      <td>220000000</td>\n",
       "      <td>1519557910</td>\n",
       "      <td>144602735</td>\n",
       "      <td>754050103</td>\n",
       "      <td>1084326906</td>\n",
       "      <td>435231004</td>\n",
       "    </tr>\n",
       "    <tr>\n",
       "      <th>722</th>\n",
       "      <td>Jurassic World</td>\n",
       "      <td>2015</td>\n",
       "      <td>The park is open.</td>\n",
       "      <td>A new theme park, built on the original site o...</td>\n",
       "      <td>Chris Pratt, Bryce Dallas Howard, Irrfan Khan,...</td>\n",
       "      <td>124</td>\n",
       "      <td>1.0</td>\n",
       "      <td>1.0</td>\n",
       "      <td>0.0</td>\n",
       "      <td>0.0</td>\n",
       "      <td>...</td>\n",
       "      <td>0.0000</td>\n",
       "      <td>-0.1280</td>\n",
       "      <td>7.0</td>\n",
       "      <td>1</td>\n",
       "      <td>150000000</td>\n",
       "      <td>1513528810</td>\n",
       "      <td>137999939</td>\n",
       "      <td>1392445893</td>\n",
       "      <td>1230437950</td>\n",
       "      <td>283090860</td>\n",
       "    </tr>\n",
       "    <tr>\n",
       "      <th>132</th>\n",
       "      <td>Avengers: Age of Ultron</td>\n",
       "      <td>2015</td>\n",
       "      <td>A New Age Has Come.</td>\n",
       "      <td>When Tony Stark and Bruce Banner try to jump-s...</td>\n",
       "      <td>Robert Downey Jr., Chris Hemsworth, Mark Ruffa...</td>\n",
       "      <td>141</td>\n",
       "      <td>1.0</td>\n",
       "      <td>1.0</td>\n",
       "      <td>0.0</td>\n",
       "      <td>0.0</td>\n",
       "      <td>...</td>\n",
       "      <td>0.0000</td>\n",
       "      <td>-0.8176</td>\n",
       "      <td>7.3</td>\n",
       "      <td>1</td>\n",
       "      <td>280000000</td>\n",
       "      <td>1405035767</td>\n",
       "      <td>257599886</td>\n",
       "      <td>1292632337</td>\n",
       "      <td>1163597611</td>\n",
       "      <td>241438156</td>\n",
       "    </tr>\n",
       "    <tr>\n",
       "      <th>863</th>\n",
       "      <td>Minions</td>\n",
       "      <td>2015</td>\n",
       "      <td>Before Gru, they had a history of bad bosses</td>\n",
       "      <td>Minions Stuart, Kevin, and Bob are recruited b...</td>\n",
       "      <td>Sandra Bullock, Jon Hamm, Michael Keaton, Alli...</td>\n",
       "      <td>91</td>\n",
       "      <td>0.0</td>\n",
       "      <td>1.0</td>\n",
       "      <td>1.0</td>\n",
       "      <td>0.0</td>\n",
       "      <td>...</td>\n",
       "      <td>-0.5423</td>\n",
       "      <td>0.0000</td>\n",
       "      <td>6.4</td>\n",
       "      <td>1</td>\n",
       "      <td>74000000</td>\n",
       "      <td>1156730962</td>\n",
       "      <td>68079970</td>\n",
       "      <td>1064192017</td>\n",
       "      <td>909385604</td>\n",
       "      <td>247345358</td>\n",
       "    </tr>\n",
       "  </tbody>\n",
       "</table>\n",
       "<p>5 rows × 53 columns</p>\n",
       "</div>"
      ],
      "text/plain": [
       "                  movie_title  year  \\\n",
       "131                    Avatar  2009   \n",
       "1351             The Avengers  2005   \n",
       "722            Jurassic World  2015   \n",
       "132   Avengers: Age of Ultron  2015   \n",
       "863                   Minions  2015   \n",
       "\n",
       "                                           tagline  \\\n",
       "131                    Enter the World of Pandora.   \n",
       "1351                       Some assembly required.   \n",
       "722                              The park is open.   \n",
       "132                            A New Age Has Come.   \n",
       "863   Before Gru, they had a history of bad bosses   \n",
       "\n",
       "                                                   plot  \\\n",
       "131   A paraplegic Marine dispatched to the moon Pan...   \n",
       "1351  Two British Agents team up to stop Sir August ...   \n",
       "722   A new theme park, built on the original site o...   \n",
       "132   When Tony Stark and Bruce Banner try to jump-s...   \n",
       "863   Minions Stuart, Kevin, and Bob are recruited b...   \n",
       "\n",
       "                                                   cast  duration  Action  \\\n",
       "131   Sam Worthington, Zoe Saldana, Sigourney Weaver...       162     1.0   \n",
       "1351  Ralph Fiennes, Uma Thurman, Sean Connery, Patr...        89     1.0   \n",
       "722   Chris Pratt, Bryce Dallas Howard, Irrfan Khan,...       124     1.0   \n",
       "132   Robert Downey Jr., Chris Hemsworth, Mark Ruffa...       141     1.0   \n",
       "863   Sandra Bullock, Jon Hamm, Michael Keaton, Alli...        91     0.0   \n",
       "\n",
       "      Adventure  Animation  Biography  ...  tagline_sentiment  plot_sentiment  \\\n",
       "131         1.0        0.0        0.0  ...             0.0000         -0.2500   \n",
       "1351        1.0        0.0        0.0  ...             0.0000         -0.7003   \n",
       "722         1.0        0.0        0.0  ...             0.0000         -0.1280   \n",
       "132         1.0        0.0        0.0  ...             0.0000         -0.8176   \n",
       "863         1.0        1.0        0.0  ...            -0.5423          0.0000   \n",
       "\n",
       "      imdb_score  profitable     budget     revenue  budget_adj  revenue_adj  \\\n",
       "131          7.8           1  237000000  2781505847   240886902  -2147483648   \n",
       "1351         5.9           1  220000000  1519557910   144602735    754050103   \n",
       "722          7.0           1  150000000  1513528810   137999939   1392445893   \n",
       "132          7.3           1  280000000  1405035767   257599886   1292632337   \n",
       "863          6.4           1   74000000  1156730962    68079970   1064192017   \n",
       "\n",
       "      predictions  difference  \n",
       "131    2127454351   654051496  \n",
       "1351   1084326906   435231004  \n",
       "722    1230437950   283090860  \n",
       "132    1163597611   241438156  \n",
       "863     909385604   247345358  \n",
       "\n",
       "[5 rows x 53 columns]"
      ]
     },
     "execution_count": 21,
     "metadata": {},
     "output_type": "execute_result"
    }
   ],
   "source": [
    "revenue_df.sort_values(by = 'revenue', ascending = False).head()"
   ]
  },
  {
   "cell_type": "code",
   "execution_count": 349,
   "metadata": {},
   "outputs": [],
   "source": [
    "model_params = {}\n",
    "count = 0"
   ]
  },
  {
   "cell_type": "code",
   "execution_count": 354,
   "metadata": {
    "scrolled": true
   },
   "outputs": [
    {
     "data": {
      "text/html": [
       "<div>\n",
       "<style scoped>\n",
       "    .dataframe tbody tr th:only-of-type {\n",
       "        vertical-align: middle;\n",
       "    }\n",
       "\n",
       "    .dataframe tbody tr th {\n",
       "        vertical-align: top;\n",
       "    }\n",
       "\n",
       "    .dataframe thead th {\n",
       "        text-align: right;\n",
       "    }\n",
       "</style>\n",
       "<table border=\"1\" class=\"dataframe\">\n",
       "  <thead>\n",
       "    <tr style=\"text-align: right;\">\n",
       "      <th></th>\n",
       "      <th>max_depth</th>\n",
       "      <th>min_samples_leaf</th>\n",
       "      <th>min_samples_split</th>\n",
       "      <th>n_estimators</th>\n",
       "      <th>best_score</th>\n",
       "      <th>training_score</th>\n",
       "      <th>testing_score</th>\n",
       "    </tr>\n",
       "  </thead>\n",
       "  <tbody>\n",
       "    <tr>\n",
       "      <th>model_1</th>\n",
       "      <td>2</td>\n",
       "      <td>1</td>\n",
       "      <td>2</td>\n",
       "      <td>200</td>\n",
       "      <td>0.510903</td>\n",
       "      <td>0.588115</td>\n",
       "      <td>0.578101</td>\n",
       "    </tr>\n",
       "    <tr>\n",
       "      <th>model_2</th>\n",
       "      <td>6</td>\n",
       "      <td>1</td>\n",
       "      <td>2</td>\n",
       "      <td>300</td>\n",
       "      <td>0.651673</td>\n",
       "      <td>0.859662</td>\n",
       "      <td>0.747793</td>\n",
       "    </tr>\n",
       "    <tr>\n",
       "      <th>model_3</th>\n",
       "      <td>10</td>\n",
       "      <td>1</td>\n",
       "      <td>3</td>\n",
       "      <td>300</td>\n",
       "      <td>0.665289</td>\n",
       "      <td>0.926700</td>\n",
       "      <td>0.747227</td>\n",
       "    </tr>\n",
       "    <tr>\n",
       "      <th>model_4</th>\n",
       "      <td>14</td>\n",
       "      <td>1</td>\n",
       "      <td>2</td>\n",
       "      <td>200</td>\n",
       "      <td>0.668167</td>\n",
       "      <td>0.946944</td>\n",
       "      <td>0.757747</td>\n",
       "    </tr>\n",
       "    <tr>\n",
       "      <th>model_5</th>\n",
       "      <td>18</td>\n",
       "      <td>1</td>\n",
       "      <td>2</td>\n",
       "      <td>100</td>\n",
       "      <td>0.671781</td>\n",
       "      <td>0.949832</td>\n",
       "      <td>0.750838</td>\n",
       "    </tr>\n",
       "  </tbody>\n",
       "</table>\n",
       "</div>"
      ],
      "text/plain": [
       "         max_depth  min_samples_leaf  min_samples_split  n_estimators  \\\n",
       "model_1          2                 1                  2           200   \n",
       "model_2          6                 1                  2           300   \n",
       "model_3         10                 1                  3           300   \n",
       "model_4         14                 1                  2           200   \n",
       "model_5         18                 1                  2           100   \n",
       "\n",
       "         best_score  training_score  testing_score  \n",
       "model_1    0.510903        0.588115       0.578101  \n",
       "model_2    0.651673        0.859662       0.747793  \n",
       "model_3    0.665289        0.926700       0.747227  \n",
       "model_4    0.668167        0.946944       0.757747  \n",
       "model_5    0.671781        0.949832       0.750838  "
      ]
     },
     "execution_count": 354,
     "metadata": {},
     "output_type": "execute_result"
    }
   ],
   "source": [
    "rf_params = {\n",
    "    'max_depth': [14, 16, 18],\n",
    "    'min_samples_leaf': [0, 1, 2],\n",
    "    'min_samples_split': [1, 2, 3],\n",
    "    'n_estimators': [100, 200, 300],\n",
    "}\n",
    "\n",
    "gs = GridSearchCV(rf, param_grid=rf_params, cv = 5, n_jobs = 12)\n",
    "\n",
    "gs.fit(X_train, y_train)\n",
    "\n",
    "count += 1\n",
    "\n",
    "gs.best_params_['best_score'] = gs.best_score_\n",
    "\n",
    "gs.best_params_['training_score'] = gs.score(X_train, y_train)\n",
    "\n",
    "gs.best_params_['testing_score'] = gs.score(X_test, y_test)\n",
    "\n",
    "model_params[f'model_{count}'] = gs.best_params_\n",
    "\n",
    "model_df = pd.DataFrame.from_dict(model_params, orient='index')\n",
    "\n",
    "model_df"
   ]
  },
  {
   "cell_type": "markdown",
   "metadata": {},
   "source": [
    "## AdaBoostRegressor"
   ]
  },
  {
   "cell_type": "code",
   "execution_count": 356,
   "metadata": {},
   "outputs": [],
   "source": [
    "model_params_two = {}\n",
    "count_two = 0"
   ]
  },
  {
   "cell_type": "code",
   "execution_count": 359,
   "metadata": {},
   "outputs": [
    {
     "data": {
      "text/html": [
       "<div>\n",
       "<style scoped>\n",
       "    .dataframe tbody tr th:only-of-type {\n",
       "        vertical-align: middle;\n",
       "    }\n",
       "\n",
       "    .dataframe tbody tr th {\n",
       "        vertical-align: top;\n",
       "    }\n",
       "\n",
       "    .dataframe thead th {\n",
       "        text-align: right;\n",
       "    }\n",
       "</style>\n",
       "<table border=\"1\" class=\"dataframe\">\n",
       "  <thead>\n",
       "    <tr style=\"text-align: right;\">\n",
       "      <th></th>\n",
       "      <th>base_estimator__max_depth</th>\n",
       "      <th>learning_rate</th>\n",
       "      <th>n_estimators</th>\n",
       "      <th>best_score</th>\n",
       "      <th>training_score</th>\n",
       "      <th>testing_score</th>\n",
       "    </tr>\n",
       "  </thead>\n",
       "  <tbody>\n",
       "    <tr>\n",
       "      <th>model_1</th>\n",
       "      <td>3</td>\n",
       "      <td>0.9</td>\n",
       "      <td>100</td>\n",
       "      <td>0.546156</td>\n",
       "      <td>0.701877</td>\n",
       "      <td>0.630812</td>\n",
       "    </tr>\n",
       "    <tr>\n",
       "      <th>model_2</th>\n",
       "      <td>4</td>\n",
       "      <td>0.9</td>\n",
       "      <td>200</td>\n",
       "      <td>0.594956</td>\n",
       "      <td>0.794102</td>\n",
       "      <td>0.661616</td>\n",
       "    </tr>\n",
       "    <tr>\n",
       "      <th>model_3</th>\n",
       "      <td>4</td>\n",
       "      <td>0.9</td>\n",
       "      <td>200</td>\n",
       "      <td>0.584980</td>\n",
       "      <td>0.622155</td>\n",
       "      <td>0.361693</td>\n",
       "    </tr>\n",
       "  </tbody>\n",
       "</table>\n",
       "</div>"
      ],
      "text/plain": [
       "         base_estimator__max_depth  learning_rate  n_estimators  best_score  \\\n",
       "model_1                          3            0.9           100    0.546156   \n",
       "model_2                          4            0.9           200    0.594956   \n",
       "model_3                          4            0.9           200    0.584980   \n",
       "\n",
       "         training_score  testing_score  \n",
       "model_1        0.701877       0.630812  \n",
       "model_2        0.794102       0.661616  \n",
       "model_3        0.622155       0.361693  "
      ]
     },
     "execution_count": 359,
     "metadata": {},
     "output_type": "execute_result"
    }
   ],
   "source": [
    "ada = AdaBoostRegressor(base_estimator=RandomForestRegressor())\n",
    "\n",
    "ada_params = {\n",
    "    'base_estimator__max_depth': [3, 4, 5],\n",
    "    'learning_rate': [.85, .90, .95],\n",
    "    'n_estimators': [150, 200, 250],\n",
    "}\n",
    "\n",
    "gs_two = GridSearchCV(ada, param_grid=ada_params, cv=3, n_jobs = 12)\n",
    "\n",
    "gs_two.fit(X_train, y_train)\n",
    "\n",
    "count_two += 1\n",
    "\n",
    "gs_two.best_params_['best_score'] = gs_two.best_score_\n",
    "\n",
    "gs_two.best_params_['training_score'] = gs_two.score(X_train, y_train)\n",
    "\n",
    "gs_two.best_params_['testing_score'] = gs_two.score(X_test, y_test)\n",
    "\n",
    "model_params_two[f'model_{count_two}'] = gs_two.best_params_\n",
    "\n",
    "model_df_two = pd.DataFrame.from_dict(model_params_two, orient='index')\n",
    "\n",
    "model_df_two"
   ]
  },
  {
   "cell_type": "code",
   "execution_count": null,
   "metadata": {},
   "outputs": [],
   "source": []
  }
 ],
 "metadata": {
  "kernelspec": {
   "display_name": "Python 3",
   "language": "python",
   "name": "python3"
  },
  "language_info": {
   "codemirror_mode": {
    "name": "ipython",
    "version": 3
   },
   "file_extension": ".py",
   "mimetype": "text/x-python",
   "name": "python",
   "nbconvert_exporter": "python",
   "pygments_lexer": "ipython3",
   "version": "3.7.9"
  }
 },
 "nbformat": 4,
 "nbformat_minor": 4
}
