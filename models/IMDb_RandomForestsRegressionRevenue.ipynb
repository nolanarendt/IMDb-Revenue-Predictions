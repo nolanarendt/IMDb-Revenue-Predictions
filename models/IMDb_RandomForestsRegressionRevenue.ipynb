{
 "cells": [
  {
   "cell_type": "markdown",
   "metadata": {},
   "source": [
    "# IMDB Random Forests Regression\n",
    "![ImdbIcon](../images/imdbheader.jpg)"
   ]
  },
  {
   "cell_type": "code",
   "execution_count": 2,
   "metadata": {},
   "outputs": [],
   "source": [
    "import pandas as pd\n",
    "import numpy as np\n",
    "import seaborn as sns\n",
    "import matplotlib.pyplot as plt\n",
    "\n",
    "from sklearn.ensemble import RandomForestRegressor, ExtraTreesRegressor, AdaBoostRegressor\n",
    "from sklearn.model_selection import cross_val_score, train_test_split, GridSearchCV\n",
    "from sklearn.metrics import confusion_matrix, plot_confusion_matrix, classification_report"
   ]
  },
  {
   "cell_type": "code",
   "execution_count": 3,
   "metadata": {},
   "outputs": [],
   "source": [
    "final_df = pd.read_csv('../data/final_df.csv')"
   ]
  },
  {
   "cell_type": "code",
   "execution_count": 28,
   "metadata": {},
   "outputs": [
    {
     "data": {
      "text/plain": [
       "Index(['movie_title', 'year', 'tagline', 'plot', 'cast', 'duration', 'Action',\n",
       "       'Adventure', 'Animation', 'Biography', 'Comedy', 'Crime', 'Drama',\n",
       "       'Family', 'Fantasy', 'History', 'Horror', 'Music', 'Musical', 'Mystery',\n",
       "       'Romance', 'Sci-Fi', 'Sport', 'Thriller', 'War', 'Western', 'avg_vote',\n",
       "       'total_votes', 'us_voters_votes', 'votes', 'votes_1', 'votes_2',\n",
       "       'votes_3', 'votes_4', 'votes_5', 'votes_6', 'votes_7', 'votes_8',\n",
       "       'votes_9', 'votes_10', 'popularity', 'director_score', 'actor_score',\n",
       "       'actress_score', 'tagline_sentiment', 'plot_sentiment', 'total_score',\n",
       "       'budget', 'revenue', 'budget_adj', 'revenue_adj'],\n",
       "      dtype='object')"
      ]
     },
     "execution_count": 28,
     "metadata": {},
     "output_type": "execute_result"
    }
   ],
   "source": [
    "final_df.columns"
   ]
  },
  {
   "cell_type": "markdown",
   "metadata": {},
   "source": [
    "## Random Forests Regression"
   ]
  },
  {
   "cell_type": "code",
   "execution_count": 29,
   "metadata": {},
   "outputs": [],
   "source": [
    "features = ['duration', 'Action', 'Adventure', 'Animation', 'Biography', 'Comedy', \n",
    "            'Crime', 'Drama', 'Family', 'Fantasy', 'History', 'Horror', 'Music', 'Musical', \n",
    "            'Mystery', 'Romance', 'Sci-Fi', 'Sport', 'Thriller', 'War', 'Western', 'avg_vote',\n",
    "            'total_votes', 'us_voters_votes', 'votes', 'votes_1', 'votes_2', 'votes_3', 'votes_4', \n",
    "            'votes_5', 'votes_6', 'votes_7', 'votes_8', 'votes_9', 'votes_10', 'popularity', \n",
    "            'director_score', 'actor_score', 'actress_score', 'tagline_sentiment', 'plot_sentiment', \n",
    "            'total_score', 'budget']"
   ]
  },
  {
   "cell_type": "code",
   "execution_count": 30,
   "metadata": {},
   "outputs": [],
   "source": [
    "X = final_df[features]\n",
    "y = final_df['revenue']"
   ]
  },
  {
   "cell_type": "code",
   "execution_count": 31,
   "metadata": {},
   "outputs": [],
   "source": [
    "X_train, X_test, y_train, y_test = train_test_split(X, y, test_size = .20, random_state = 42)"
   ]
  },
  {
   "cell_type": "code",
   "execution_count": 36,
   "metadata": {},
   "outputs": [],
   "source": [
    "rf = RandomForestRegressor()"
   ]
  },
  {
   "cell_type": "code",
   "execution_count": 37,
   "metadata": {},
   "outputs": [
    {
     "name": "stdout",
     "output_type": "stream",
     "text": [
      "Cross Val Score: 0.5734664748455603\n"
     ]
    }
   ],
   "source": [
    "print(\"Cross Val Score:\", cross_val_score(rf, X_train, y_train, cv = 5).mean())"
   ]
  },
  {
   "cell_type": "code",
   "execution_count": 9,
   "metadata": {},
   "outputs": [],
   "source": [
    "model_params = {}\n",
    "count = 0"
   ]
  },
  {
   "cell_type": "code",
   "execution_count": 17,
   "metadata": {
    "scrolled": true
   },
   "outputs": [
    {
     "data": {
      "text/html": [
       "<div>\n",
       "<style scoped>\n",
       "    .dataframe tbody tr th:only-of-type {\n",
       "        vertical-align: middle;\n",
       "    }\n",
       "\n",
       "    .dataframe tbody tr th {\n",
       "        vertical-align: top;\n",
       "    }\n",
       "\n",
       "    .dataframe thead th {\n",
       "        text-align: right;\n",
       "    }\n",
       "</style>\n",
       "<table border=\"1\" class=\"dataframe\">\n",
       "  <thead>\n",
       "    <tr style=\"text-align: right;\">\n",
       "      <th></th>\n",
       "      <th>max_depth</th>\n",
       "      <th>max_features</th>\n",
       "      <th>min_samples_leaf</th>\n",
       "      <th>min_samples_split</th>\n",
       "      <th>n_estimators</th>\n",
       "      <th>best_score</th>\n",
       "      <th>training_score</th>\n",
       "      <th>testing_score</th>\n",
       "    </tr>\n",
       "  </thead>\n",
       "  <tbody>\n",
       "    <tr>\n",
       "      <th>model_1</th>\n",
       "      <td>2</td>\n",
       "      <td>auto</td>\n",
       "      <td>2</td>\n",
       "      <td>2</td>\n",
       "      <td>100</td>\n",
       "      <td>0.467486</td>\n",
       "      <td>0.611122</td>\n",
       "      <td>0.594263</td>\n",
       "    </tr>\n",
       "    <tr>\n",
       "      <th>model_2</th>\n",
       "      <td>3</td>\n",
       "      <td>auto</td>\n",
       "      <td>3</td>\n",
       "      <td>3</td>\n",
       "      <td>100</td>\n",
       "      <td>0.540560</td>\n",
       "      <td>0.705825</td>\n",
       "      <td>0.653183</td>\n",
       "    </tr>\n",
       "    <tr>\n",
       "      <th>model_3</th>\n",
       "      <td>5</td>\n",
       "      <td>auto</td>\n",
       "      <td>4</td>\n",
       "      <td>5</td>\n",
       "      <td>150</td>\n",
       "      <td>0.577564</td>\n",
       "      <td>0.760334</td>\n",
       "      <td>0.665808</td>\n",
       "    </tr>\n",
       "    <tr>\n",
       "      <th>model_4</th>\n",
       "      <td>7</td>\n",
       "      <td>auto</td>\n",
       "      <td>4</td>\n",
       "      <td>6</td>\n",
       "      <td>150</td>\n",
       "      <td>0.580588</td>\n",
       "      <td>0.793257</td>\n",
       "      <td>0.673786</td>\n",
       "    </tr>\n",
       "    <tr>\n",
       "      <th>model_5</th>\n",
       "      <td>9</td>\n",
       "      <td>auto</td>\n",
       "      <td>3</td>\n",
       "      <td>8</td>\n",
       "      <td>175</td>\n",
       "      <td>0.586189</td>\n",
       "      <td>0.822773</td>\n",
       "      <td>0.674695</td>\n",
       "    </tr>\n",
       "    <tr>\n",
       "      <th>model_6</th>\n",
       "      <td>9</td>\n",
       "      <td>auto</td>\n",
       "      <td>3</td>\n",
       "      <td>10</td>\n",
       "      <td>150</td>\n",
       "      <td>0.584735</td>\n",
       "      <td>0.810816</td>\n",
       "      <td>0.676197</td>\n",
       "    </tr>\n",
       "    <tr>\n",
       "      <th>model_7</th>\n",
       "      <td>10</td>\n",
       "      <td>auto</td>\n",
       "      <td>4</td>\n",
       "      <td>11</td>\n",
       "      <td>125</td>\n",
       "      <td>0.586391</td>\n",
       "      <td>0.796233</td>\n",
       "      <td>0.675232</td>\n",
       "    </tr>\n",
       "    <tr>\n",
       "      <th>model_8</th>\n",
       "      <td>10</td>\n",
       "      <td>auto</td>\n",
       "      <td>4</td>\n",
       "      <td>9</td>\n",
       "      <td>100</td>\n",
       "      <td>0.586863</td>\n",
       "      <td>0.804966</td>\n",
       "      <td>0.675185</td>\n",
       "    </tr>\n",
       "  </tbody>\n",
       "</table>\n",
       "</div>"
      ],
      "text/plain": [
       "         max_depth max_features  min_samples_leaf  min_samples_split  \\\n",
       "model_1          2         auto                 2                  2   \n",
       "model_2          3         auto                 3                  3   \n",
       "model_3          5         auto                 4                  5   \n",
       "model_4          7         auto                 4                  6   \n",
       "model_5          9         auto                 3                  8   \n",
       "model_6          9         auto                 3                 10   \n",
       "model_7         10         auto                 4                 11   \n",
       "model_8         10         auto                 4                  9   \n",
       "\n",
       "         n_estimators  best_score  training_score  testing_score  \n",
       "model_1           100    0.467486        0.611122       0.594263  \n",
       "model_2           100    0.540560        0.705825       0.653183  \n",
       "model_3           150    0.577564        0.760334       0.665808  \n",
       "model_4           150    0.580588        0.793257       0.673786  \n",
       "model_5           175    0.586189        0.822773       0.674695  \n",
       "model_6           150    0.584735        0.810816       0.676197  \n",
       "model_7           125    0.586391        0.796233       0.675232  \n",
       "model_8           100    0.586863        0.804966       0.675185  "
      ]
     },
     "execution_count": 17,
     "metadata": {},
     "output_type": "execute_result"
    }
   ],
   "source": [
    "rf_params = {\n",
    "    'max_depth': [10, 11, 12, 13],\n",
    "    'max_features': ['auto', 'sqrt'],\n",
    "    'min_samples_leaf': [2, 3, 4],\n",
    "    'min_samples_split': [8, 9, 10, 11, 12],\n",
    "    'n_estimators': [100, 200, 300, 400],\n",
    "}\n",
    "\n",
    "gs = GridSearchCV(rf, param_grid=rf_params, cv = 5, n_jobs = 12)\n",
    "\n",
    "gs.fit(X_train, y_train)\n",
    "\n",
    "count += 1\n",
    "\n",
    "gs.best_params_['best_score'] = gs.best_score_\n",
    "\n",
    "gs.best_params_['training_score'] = gs.score(X_train, y_train)\n",
    "\n",
    "gs.best_params_['testing_score'] = gs.score(X_test, y_test)\n",
    "\n",
    "model_params[f'model_{count}'] = gs.best_params_\n",
    "\n",
    "model_df = pd.DataFrame.from_dict(model_params, orient='index')\n",
    "\n",
    "model_df"
   ]
  },
  {
   "cell_type": "markdown",
   "metadata": {},
   "source": [
    "## AdaBoostRegressor"
   ]
  },
  {
   "cell_type": "code",
   "execution_count": 19,
   "metadata": {},
   "outputs": [],
   "source": [
    "model_params_two = {}\n",
    "count_two = 0"
   ]
  },
  {
   "cell_type": "code",
   "execution_count": 25,
   "metadata": {},
   "outputs": [
    {
     "data": {
      "text/html": [
       "<div>\n",
       "<style scoped>\n",
       "    .dataframe tbody tr th:only-of-type {\n",
       "        vertical-align: middle;\n",
       "    }\n",
       "\n",
       "    .dataframe tbody tr th {\n",
       "        vertical-align: top;\n",
       "    }\n",
       "\n",
       "    .dataframe thead th {\n",
       "        text-align: right;\n",
       "    }\n",
       "</style>\n",
       "<table border=\"1\" class=\"dataframe\">\n",
       "  <thead>\n",
       "    <tr style=\"text-align: right;\">\n",
       "      <th></th>\n",
       "      <th>base_estimator__max_depth</th>\n",
       "      <th>learning_rate</th>\n",
       "      <th>n_estimators</th>\n",
       "      <th>best_score</th>\n",
       "      <th>training_score</th>\n",
       "      <th>testing_score</th>\n",
       "    </tr>\n",
       "  </thead>\n",
       "  <tbody>\n",
       "    <tr>\n",
       "      <th>model_1</th>\n",
       "      <td>3</td>\n",
       "      <td>0.90</td>\n",
       "      <td>20</td>\n",
       "      <td>0.456183</td>\n",
       "      <td>0.734131</td>\n",
       "      <td>0.562423</td>\n",
       "    </tr>\n",
       "    <tr>\n",
       "      <th>model_2</th>\n",
       "      <td>5</td>\n",
       "      <td>1.00</td>\n",
       "      <td>20</td>\n",
       "      <td>0.491898</td>\n",
       "      <td>0.860568</td>\n",
       "      <td>0.643951</td>\n",
       "    </tr>\n",
       "    <tr>\n",
       "      <th>model_3</th>\n",
       "      <td>6</td>\n",
       "      <td>1.00</td>\n",
       "      <td>15</td>\n",
       "      <td>0.519746</td>\n",
       "      <td>0.893979</td>\n",
       "      <td>0.656251</td>\n",
       "    </tr>\n",
       "    <tr>\n",
       "      <th>model_4</th>\n",
       "      <td>7</td>\n",
       "      <td>0.95</td>\n",
       "      <td>15</td>\n",
       "      <td>0.545434</td>\n",
       "      <td>0.931081</td>\n",
       "      <td>0.686592</td>\n",
       "    </tr>\n",
       "    <tr>\n",
       "      <th>model_5</th>\n",
       "      <td>8</td>\n",
       "      <td>0.85</td>\n",
       "      <td>10</td>\n",
       "      <td>0.551103</td>\n",
       "      <td>0.945679</td>\n",
       "      <td>0.660796</td>\n",
       "    </tr>\n",
       "    <tr>\n",
       "      <th>model_6</th>\n",
       "      <td>8</td>\n",
       "      <td>1.00</td>\n",
       "      <td>16</td>\n",
       "      <td>0.552201</td>\n",
       "      <td>0.948873</td>\n",
       "      <td>0.661880</td>\n",
       "    </tr>\n",
       "  </tbody>\n",
       "</table>\n",
       "</div>"
      ],
      "text/plain": [
       "         base_estimator__max_depth  learning_rate  n_estimators  best_score  \\\n",
       "model_1                          3           0.90            20    0.456183   \n",
       "model_2                          5           1.00            20    0.491898   \n",
       "model_3                          6           1.00            15    0.519746   \n",
       "model_4                          7           0.95            15    0.545434   \n",
       "model_5                          8           0.85            10    0.551103   \n",
       "model_6                          8           1.00            16    0.552201   \n",
       "\n",
       "         training_score  testing_score  \n",
       "model_1        0.734131       0.562423  \n",
       "model_2        0.860568       0.643951  \n",
       "model_3        0.893979       0.656251  \n",
       "model_4        0.931081       0.686592  \n",
       "model_5        0.945679       0.660796  \n",
       "model_6        0.948873       0.661880  "
      ]
     },
     "execution_count": 25,
     "metadata": {},
     "output_type": "execute_result"
    }
   ],
   "source": [
    "ada = AdaBoostRegressor(base_estimator=RandomForestRegressor())\n",
    "\n",
    "ada_params = {\n",
    "    'base_estimator__max_depth': [6, 7, 8],\n",
    "    'learning_rate': [.85, .90, .95, 1.],\n",
    "    'n_estimators': [13, 14, 15, 16, 17],\n",
    "}\n",
    "\n",
    "gs_two = GridSearchCV(ada, param_grid=ada_params, cv=3, n_jobs = 12)\n",
    "\n",
    "gs_two.fit(X_train, y_train)\n",
    "\n",
    "count_two += 1\n",
    "\n",
    "gs_two.best_params_['best_score'] = gs_two.best_score_\n",
    "\n",
    "gs_two.best_params_['training_score'] = gs_two.score(X_train, y_train)\n",
    "\n",
    "gs_two.best_params_['testing_score'] = gs_two.score(X_test, y_test)\n",
    "\n",
    "model_params_two[f'model_{count_two}'] = gs_two.best_params_\n",
    "\n",
    "model_df_two = pd.DataFrame.from_dict(model_params_two, orient='index')\n",
    "\n",
    "model_df_two"
   ]
  },
  {
   "cell_type": "code",
   "execution_count": null,
   "metadata": {},
   "outputs": [],
   "source": []
  }
 ],
 "metadata": {
  "kernelspec": {
   "display_name": "Python 3",
   "language": "python",
   "name": "python3"
  },
  "language_info": {
   "codemirror_mode": {
    "name": "ipython",
    "version": 3
   },
   "file_extension": ".py",
   "mimetype": "text/x-python",
   "name": "python",
   "nbconvert_exporter": "python",
   "pygments_lexer": "ipython3",
   "version": "3.7.9"
  }
 },
 "nbformat": 4,
 "nbformat_minor": 4
}
