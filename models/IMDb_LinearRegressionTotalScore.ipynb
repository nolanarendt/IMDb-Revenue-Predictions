{
 "cells": [
  {
   "cell_type": "markdown",
   "metadata": {},
   "source": [
    "# IMDB Linear Regression Total Score\n",
    "![ImdbIcon](../images/imdbheader.jpg)"
   ]
  },
  {
   "cell_type": "markdown",
   "metadata": {},
   "source": [
    "Notebook Overview"
   ]
  },
  {
   "cell_type": "code",
   "execution_count": 16,
   "metadata": {},
   "outputs": [],
   "source": [
    "import pandas as pd\n",
    "import numpy as np\n",
    "import matplotlib.pyplot as plt\n",
    "import seaborn as sns\n",
    "\n",
    "from sklearn import linear_model\n",
    "from sklearn.model_selection import train_test_split\n",
    "\n",
    "# Importing so that I can use LinearRegression and OLS Models.\n",
    "from sklearn.linear_model import LinearRegression, LogisticRegression\n",
    "from sklearn import metrics\n",
    "from sklearn.model_selection import cross_val_score, train_test_split, GridSearchCV"
   ]
  },
  {
   "cell_type": "code",
   "execution_count": 2,
   "metadata": {},
   "outputs": [],
   "source": [
    "totalscore_df = pd.read_csv('../data/totalscore_df.csv')"
   ]
  },
  {
   "cell_type": "code",
   "execution_count": 3,
   "metadata": {
    "scrolled": true
   },
   "outputs": [
    {
     "data": {
      "text/plain": [
       "Index(['movie_title', 'year', 'actors', 'plot', 'duration', 'Action',\n",
       "       'Adventure', 'Animation', 'Biography', 'Comedy', 'Crime', 'Documentary',\n",
       "       'Drama', 'Family', 'Fantasy', 'History', 'Horror', 'Music', 'Mystery',\n",
       "       'Romance', 'Sci-Fi', 'Sport', 'Thriller', 'War', 'Western', 'votes',\n",
       "       'weighted_average_vote', 'total_votes', 'mean_vote', 'median_vote',\n",
       "       'votes_1', 'votes_2', 'votes_3', 'votes_4', 'votes_5', 'votes_6',\n",
       "       'votes_7', 'votes_8', 'votes_9', 'votes_10', 'us_voters_rating',\n",
       "       'us_voters_votes', 'plot_sentiment', 'director_score', 'actor_score',\n",
       "       'actress_score', 'imdb_score'],\n",
       "      dtype='object')"
      ]
     },
     "execution_count": 3,
     "metadata": {},
     "output_type": "execute_result"
    }
   ],
   "source": [
    "totalscore_df.columns"
   ]
  },
  {
   "cell_type": "markdown",
   "metadata": {},
   "source": [
    "## Linear Regression"
   ]
  },
  {
   "cell_type": "code",
   "execution_count": 4,
   "metadata": {},
   "outputs": [],
   "source": [
    "features = ['year', 'duration', 'Action',\n",
    "       'Adventure', 'Animation', 'Biography', 'Comedy', 'Crime', 'Documentary',\n",
    "       'Drama', 'Family', 'Fantasy', 'History', 'Horror', 'Music', 'Mystery',\n",
    "       'Romance', 'Sci-Fi', 'Sport', 'Thriller', 'War', 'Western', 'votes',\n",
    "       'votes_1', 'votes_2', 'votes_3', 'votes_4', 'votes_5', 'votes_6',\n",
    "       'votes_7', 'votes_8', 'votes_9', 'votes_10',\n",
    "       'us_voters_votes', 'plot_sentiment', 'director_score', 'actor_score',\n",
    "       'actress_score']"
   ]
  },
  {
   "cell_type": "code",
   "execution_count": 5,
   "metadata": {},
   "outputs": [],
   "source": [
    "X = totalscore_df[features]\n",
    "y = totalscore_df['imdb_score']"
   ]
  },
  {
   "cell_type": "code",
   "execution_count": 6,
   "metadata": {},
   "outputs": [],
   "source": [
    "X_train, X_test, y_train, y_test = train_test_split(X, y, test_size = 0.20, random_state = 42)"
   ]
  },
  {
   "cell_type": "code",
   "execution_count": 7,
   "metadata": {},
   "outputs": [
    {
     "data": {
      "text/plain": [
       "LinearRegression()"
      ]
     },
     "execution_count": 7,
     "metadata": {},
     "output_type": "execute_result"
    }
   ],
   "source": [
    "lr = LinearRegression()\n",
    "\n",
    "lr.fit(X_train, y_train)"
   ]
  },
  {
   "cell_type": "code",
   "execution_count": 8,
   "metadata": {},
   "outputs": [],
   "source": [
    "predictions = lr.predict(X_train)\n",
    "\n",
    "residuals = y_train - predictions\n",
    "\n",
    "rss = (residuals ** 2).sum()\n",
    "\n",
    "mse = metrics.mean_squared_error(y_train, predictions)\n",
    "\n",
    "rmse = np.sqrt(metrics.mean_squared_error(y_train, predictions)).astype(float)"
   ]
  },
  {
   "cell_type": "code",
   "execution_count": 9,
   "metadata": {},
   "outputs": [
    {
     "name": "stdout",
     "output_type": "stream",
     "text": [
      "RMSE: 0.4907370373300642\n",
      "Training Score: 0.7609165410344939\n",
      "Testing Score: 0.7679667619602628\n"
     ]
    }
   ],
   "source": [
    "print(\"RMSE:\", rmse)\n",
    "print(\"Training Score:\", lr.score(X_train, y_train))\n",
    "print(\"Testing Score:\", lr.score(X_test, y_test))"
   ]
  },
  {
   "cell_type": "code",
   "execution_count": 10,
   "metadata": {},
   "outputs": [],
   "source": [
    "null_predictions = np.zeros_like(y_test)\n",
    "\n",
    "null_pred = null_predictions + y_test.mean()\n",
    "\n",
    "baseline = metrics.mean_squared_error(y_test, null_pred, squared = False)"
   ]
  },
  {
   "cell_type": "code",
   "execution_count": 11,
   "metadata": {
    "scrolled": false
   },
   "outputs": [
    {
     "name": "stdout",
     "output_type": "stream",
     "text": [
      "Baseline RMSE: 0.9867557370455319\n",
      "RMSE: 0.4907370373300642\n"
     ]
    }
   ],
   "source": [
    "print(\"Baseline RMSE:\", baseline)\n",
    "print(\"RMSE:\", rmse)"
   ]
  },
  {
   "cell_type": "code",
   "execution_count": 26,
   "metadata": {},
   "outputs": [],
   "source": [
    "model_params = {}\n",
    "count = 0"
   ]
  },
  {
   "cell_type": "code",
   "execution_count": 34,
   "metadata": {},
   "outputs": [
    {
     "data": {
      "text/html": [
       "<div>\n",
       "<style scoped>\n",
       "    .dataframe tbody tr th:only-of-type {\n",
       "        vertical-align: middle;\n",
       "    }\n",
       "\n",
       "    .dataframe tbody tr th {\n",
       "        vertical-align: top;\n",
       "    }\n",
       "\n",
       "    .dataframe thead th {\n",
       "        text-align: right;\n",
       "    }\n",
       "</style>\n",
       "<table border=\"1\" class=\"dataframe\">\n",
       "  <thead>\n",
       "    <tr style=\"text-align: right;\">\n",
       "      <th></th>\n",
       "      <th>copy_X</th>\n",
       "      <th>fit_intercept</th>\n",
       "      <th>normalize</th>\n",
       "      <th>best_score</th>\n",
       "      <th>training_score</th>\n",
       "      <th>testing_score</th>\n",
       "    </tr>\n",
       "  </thead>\n",
       "  <tbody>\n",
       "    <tr>\n",
       "      <th>model_1</th>\n",
       "      <td>True</td>\n",
       "      <td>True</td>\n",
       "      <td>True</td>\n",
       "      <td>0.744606</td>\n",
       "      <td>0.760878</td>\n",
       "      <td>0.767755</td>\n",
       "    </tr>\n",
       "    <tr>\n",
       "      <th>model_2</th>\n",
       "      <td>True</td>\n",
       "      <td>False</td>\n",
       "      <td>True</td>\n",
       "      <td>0.737738</td>\n",
       "      <td>0.756241</td>\n",
       "      <td>0.763733</td>\n",
       "    </tr>\n",
       "    <tr>\n",
       "      <th>model_3</th>\n",
       "      <td>False</td>\n",
       "      <td>False</td>\n",
       "      <td>True</td>\n",
       "      <td>0.737738</td>\n",
       "      <td>0.756241</td>\n",
       "      <td>0.763733</td>\n",
       "    </tr>\n",
       "    <tr>\n",
       "      <th>model_4</th>\n",
       "      <td>False</td>\n",
       "      <td>False</td>\n",
       "      <td>False</td>\n",
       "      <td>0.737738</td>\n",
       "      <td>0.756241</td>\n",
       "      <td>0.763733</td>\n",
       "    </tr>\n",
       "    <tr>\n",
       "      <th>model_5</th>\n",
       "      <td>False</td>\n",
       "      <td>True</td>\n",
       "      <td>False</td>\n",
       "      <td>0.744590</td>\n",
       "      <td>0.760917</td>\n",
       "      <td>0.767967</td>\n",
       "    </tr>\n",
       "    <tr>\n",
       "      <th>model_6</th>\n",
       "      <td>True</td>\n",
       "      <td>False</td>\n",
       "      <td>False</td>\n",
       "      <td>0.737738</td>\n",
       "      <td>0.756241</td>\n",
       "      <td>0.763733</td>\n",
       "    </tr>\n",
       "    <tr>\n",
       "      <th>model_7</th>\n",
       "      <td>False</td>\n",
       "      <td>False</td>\n",
       "      <td>False</td>\n",
       "      <td>0.737738</td>\n",
       "      <td>0.756241</td>\n",
       "      <td>0.763733</td>\n",
       "    </tr>\n",
       "    <tr>\n",
       "      <th>model_8</th>\n",
       "      <td>False</td>\n",
       "      <td>False</td>\n",
       "      <td>True</td>\n",
       "      <td>0.737738</td>\n",
       "      <td>0.756241</td>\n",
       "      <td>0.763733</td>\n",
       "    </tr>\n",
       "  </tbody>\n",
       "</table>\n",
       "</div>"
      ],
      "text/plain": [
       "         copy_X  fit_intercept  normalize  best_score  training_score  \\\n",
       "model_1    True           True       True    0.744606        0.760878   \n",
       "model_2    True          False       True    0.737738        0.756241   \n",
       "model_3   False          False       True    0.737738        0.756241   \n",
       "model_4   False          False      False    0.737738        0.756241   \n",
       "model_5   False           True      False    0.744590        0.760917   \n",
       "model_6    True          False      False    0.737738        0.756241   \n",
       "model_7   False          False      False    0.737738        0.756241   \n",
       "model_8   False          False       True    0.737738        0.756241   \n",
       "\n",
       "         testing_score  \n",
       "model_1       0.767755  \n",
       "model_2       0.763733  \n",
       "model_3       0.763733  \n",
       "model_4       0.763733  \n",
       "model_5       0.767967  \n",
       "model_6       0.763733  \n",
       "model_7       0.763733  \n",
       "model_8       0.763733  "
      ]
     },
     "execution_count": 34,
     "metadata": {},
     "output_type": "execute_result"
    }
   ],
   "source": [
    "lr_params = {\n",
    "    'fit_intercept': [False],\n",
    "    'copy_X': [False],\n",
    "    'normalize': [True],\n",
    "}\n",
    "\n",
    "gs = GridSearchCV(lr, param_grid=lr_params, cv = 5, n_jobs = 12)\n",
    "\n",
    "gs.fit(X_train, y_train)\n",
    "\n",
    "count += 1\n",
    "\n",
    "gs.best_params_['best_score'] = gs.best_score_\n",
    "\n",
    "gs.best_params_['training_score'] = gs.score(X_train, y_train)\n",
    "\n",
    "gs.best_params_['testing_score'] = gs.score(X_test, y_test)\n",
    "\n",
    "model_params[f'model_{count}'] = gs.best_params_\n",
    "\n",
    "model_df = pd.DataFrame.from_dict(model_params, orient='index')\n",
    "\n",
    "model_df"
   ]
  },
  {
   "cell_type": "markdown",
   "metadata": {},
   "source": [
    "## Visualizations"
   ]
  },
  {
   "cell_type": "code",
   "execution_count": 12,
   "metadata": {},
   "outputs": [
    {
     "data": {
      "image/png": "[encoded data removed]",
      "text/plain": [
       "<Figure size 720x720 with 2 Axes>"
      ]
     },
     "metadata": {
      "needs_background": "light"
     },
     "output_type": "display_data"
    }
   ],
   "source": [
    "plt.figure(figsize = (10, 10))\n",
    "\n",
    "movie_feature_corr = totalscore_df.corr()[['imdb_score']]\n",
    "\n",
    "sns.heatmap(movie_feature_corr.sort_values(by = 'imdb_score', ascending = False),\n",
    "           vmin = -1, vmax = 1,\n",
    "           cmap = 'Accent_r',\n",
    "           annot = True);\n",
    "\n",
    "plt.title(\"Correlation With Total Score\", size = 20);"
   ]
  },
  {
   "cell_type": "code",
   "execution_count": null,
   "metadata": {},
   "outputs": [],
   "source": []
  }
 ],
 "metadata": {
  "kernelspec": {
   "display_name": "Python 3",
   "language": "python",
   "name": "python3"
  },
  "language_info": {
   "codemirror_mode": {
    "name": "ipython",
    "version": 3
   },
   "file_extension": ".py",
   "mimetype": "text/x-python",
   "name": "python",
   "nbconvert_exporter": "python",
   "pygments_lexer": "ipython3",
   "version": "3.7.9"
  }
 },
 "nbformat": 4,
 "nbformat_minor": 4
}
