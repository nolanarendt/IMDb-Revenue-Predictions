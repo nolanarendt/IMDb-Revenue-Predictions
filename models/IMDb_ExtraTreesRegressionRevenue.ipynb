{
 "cells": [
  {
   "cell_type": "markdown",
   "metadata": {},
   "source": [
    "# IMDB Extra Trees Regression\n",
    "![ImdbIcon](../images/imdbheader.jpg)"
   ]
  },
  {
   "cell_type": "code",
   "execution_count": 31,
   "metadata": {},
   "outputs": [],
   "source": [
    "import pandas as pd\n",
    "import numpy as np\n",
    "import seaborn as sns\n",
    "import matplotlib.pyplot as plt\n",
    "\n",
    "from sklearn.ensemble import RandomForestRegressor, ExtraTreesRegressor, AdaBoostRegressor\n",
    "from sklearn.model_selection import cross_val_score, train_test_split, GridSearchCV\n",
    "from sklearn.metrics import confusion_matrix, plot_confusion_matrix, classification_report\n",
    "from sklearn.preprocessing import StandardScaler"
   ]
  },
  {
   "cell_type": "code",
   "execution_count": 32,
   "metadata": {},
   "outputs": [],
   "source": [
    "revenue_df = pd.read_csv('../data/revenue_df.csv')"
   ]
  },
  {
   "cell_type": "code",
   "execution_count": 33,
   "metadata": {},
   "outputs": [
    {
     "data": {
      "text/plain": [
       "Index(['movie_title', 'year', 'tagline', 'plot', 'cast', 'duration', 'Action',\n",
       "       'Adventure', 'Animation', 'Biography', 'Comedy', 'Crime', 'Drama',\n",
       "       'Family', 'Fantasy', 'History', 'Horror', 'Music', 'Musical', 'Mystery',\n",
       "       'Romance', 'Sci-Fi', 'Sport', 'Thriller', 'War', 'Western', 'avg_vote',\n",
       "       'total_votes', 'us_voters_votes', 'votes', 'votes_1', 'votes_2',\n",
       "       'votes_3', 'votes_4', 'votes_5', 'votes_6', 'votes_7', 'votes_8',\n",
       "       'votes_9', 'votes_10', 'popularity', 'director_score', 'actor_score',\n",
       "       'actress_score', 'tagline_sentiment', 'plot_sentiment', 'total_score',\n",
       "       'profitable', 'budget', 'revenue', 'budget_adj', 'revenue_adj'],\n",
       "      dtype='object')"
      ]
     },
     "execution_count": 33,
     "metadata": {},
     "output_type": "execute_result"
    }
   ],
   "source": [
    "revenue_df.columns"
   ]
  },
  {
   "cell_type": "markdown",
   "metadata": {},
   "source": [
    "## Extra Trees Regression"
   ]
  },
  {
   "cell_type": "code",
   "execution_count": 34,
   "metadata": {},
   "outputs": [],
   "source": [
    "features = ['duration', 'Adventure',  'Biography', 'Crime', 'Drama', 'Fantasy',  'Horror', 'Sci-Fi', 'Thriller', 'avg_vote', \n",
    "            'us_voters_votes', 'votes', 'votes_1', 'votes_3', 'votes_7', 'votes_8', 'votes_9',  'popularity', \n",
    "            'director_score', 'actor_score', 'plot_sentiment', 'total_score', 'profitable', 'budget']"
   ]
  },
  {
   "cell_type": "code",
   "execution_count": 35,
   "metadata": {},
   "outputs": [],
   "source": [
    "X = revenue_df[features]\n",
    "y = revenue_df['revenue']"
   ]
  },
  {
   "cell_type": "code",
   "execution_count": 36,
   "metadata": {},
   "outputs": [],
   "source": [
    "X_train, X_test, y_train, y_test = train_test_split(X, y, random_state = 42, test_size = 0.33)"
   ]
  },
  {
   "cell_type": "code",
   "execution_count": 37,
   "metadata": {},
   "outputs": [],
   "source": [
    "sc = StandardScaler()\n",
    "X_train = sc.fit_transform(X_train)\n",
    "X_test = sc.transform(X_test)"
   ]
  },
  {
   "cell_type": "code",
   "execution_count": 38,
   "metadata": {},
   "outputs": [],
   "source": [
    "et = ExtraTreesRegressor()"
   ]
  },
  {
   "cell_type": "code",
   "execution_count": 39,
   "metadata": {
    "scrolled": true
   },
   "outputs": [
    {
     "data": {
      "text/plain": [
       "ExtraTreesRegressor()"
      ]
     },
     "execution_count": 39,
     "metadata": {},
     "output_type": "execute_result"
    }
   ],
   "source": [
    "et.fit(X_train, y_train)"
   ]
  },
  {
   "cell_type": "code",
   "execution_count": 40,
   "metadata": {},
   "outputs": [
    {
     "name": "stdout",
     "output_type": "stream",
     "text": [
      "Training Score: 1.0\n",
      "Testing Score: 0.686513698132913\n"
     ]
    }
   ],
   "source": [
    "print(\"Training Score:\", et.score(X_train, y_train))\n",
    "print(\"Testing Score:\", et.score(X_test, y_test))"
   ]
  },
  {
   "cell_type": "code",
   "execution_count": 41,
   "metadata": {},
   "outputs": [
    {
     "name": "stdout",
     "output_type": "stream",
     "text": [
      "Cross Val Score: 0.6702587827072964\n"
     ]
    }
   ],
   "source": [
    "print(\"Cross Val Score:\", cross_val_score(et, X_train, y_train, cv = 5).mean())"
   ]
  },
  {
   "cell_type": "code",
   "execution_count": 42,
   "metadata": {},
   "outputs": [],
   "source": [
    "model_params = {}\n",
    "count = 0"
   ]
  },
  {
   "cell_type": "code",
   "execution_count": 59,
   "metadata": {
    "scrolled": true
   },
   "outputs": [
    {
     "data": {
      "text/html": [
       "<div>\n",
       "<style scoped>\n",
       "    .dataframe tbody tr th:only-of-type {\n",
       "        vertical-align: middle;\n",
       "    }\n",
       "\n",
       "    .dataframe tbody tr th {\n",
       "        vertical-align: top;\n",
       "    }\n",
       "\n",
       "    .dataframe thead th {\n",
       "        text-align: right;\n",
       "    }\n",
       "</style>\n",
       "<table border=\"1\" class=\"dataframe\">\n",
       "  <thead>\n",
       "    <tr style=\"text-align: right;\">\n",
       "      <th></th>\n",
       "      <th>max_depth</th>\n",
       "      <th>min_samples_leaf</th>\n",
       "      <th>min_samples_split</th>\n",
       "      <th>n_estimators</th>\n",
       "      <th>best_score</th>\n",
       "      <th>training_score</th>\n",
       "      <th>testing_score</th>\n",
       "    </tr>\n",
       "  </thead>\n",
       "  <tbody>\n",
       "    <tr>\n",
       "      <th>model_1</th>\n",
       "      <td>2</td>\n",
       "      <td>2</td>\n",
       "      <td>2</td>\n",
       "      <td>300</td>\n",
       "      <td>0.566263</td>\n",
       "      <td>0.603033</td>\n",
       "      <td>0.575336</td>\n",
       "    </tr>\n",
       "    <tr>\n",
       "      <th>model_2</th>\n",
       "      <td>4</td>\n",
       "      <td>2</td>\n",
       "      <td>2</td>\n",
       "      <td>200</td>\n",
       "      <td>0.658521</td>\n",
       "      <td>0.775352</td>\n",
       "      <td>0.644449</td>\n",
       "    </tr>\n",
       "    <tr>\n",
       "      <th>model_3</th>\n",
       "      <td>6</td>\n",
       "      <td>2</td>\n",
       "      <td>2</td>\n",
       "      <td>200</td>\n",
       "      <td>0.675295</td>\n",
       "      <td>0.855762</td>\n",
       "      <td>0.679719</td>\n",
       "    </tr>\n",
       "    <tr>\n",
       "      <th>model_4</th>\n",
       "      <td>8</td>\n",
       "      <td>2</td>\n",
       "      <td>2</td>\n",
       "      <td>100</td>\n",
       "      <td>0.676458</td>\n",
       "      <td>0.906458</td>\n",
       "      <td>0.688464</td>\n",
       "    </tr>\n",
       "    <tr>\n",
       "      <th>model_5</th>\n",
       "      <td>9</td>\n",
       "      <td>1</td>\n",
       "      <td>2</td>\n",
       "      <td>300</td>\n",
       "      <td>0.677726</td>\n",
       "      <td>0.959611</td>\n",
       "      <td>0.697252</td>\n",
       "    </tr>\n",
       "    <tr>\n",
       "      <th>model_6</th>\n",
       "      <td>10</td>\n",
       "      <td>1</td>\n",
       "      <td>4</td>\n",
       "      <td>100</td>\n",
       "      <td>0.682092</td>\n",
       "      <td>0.965676</td>\n",
       "      <td>0.683474</td>\n",
       "    </tr>\n",
       "    <tr>\n",
       "      <th>model_7</th>\n",
       "      <td>11</td>\n",
       "      <td>1</td>\n",
       "      <td>2</td>\n",
       "      <td>100</td>\n",
       "      <td>0.683001</td>\n",
       "      <td>0.983536</td>\n",
       "      <td>0.691340</td>\n",
       "    </tr>\n",
       "    <tr>\n",
       "      <th>model_8</th>\n",
       "      <td>12</td>\n",
       "      <td>2</td>\n",
       "      <td>2</td>\n",
       "      <td>200</td>\n",
       "      <td>0.678435</td>\n",
       "      <td>0.946561</td>\n",
       "      <td>0.690018</td>\n",
       "    </tr>\n",
       "    <tr>\n",
       "      <th>model_9</th>\n",
       "      <td>14</td>\n",
       "      <td>1</td>\n",
       "      <td>2</td>\n",
       "      <td>100</td>\n",
       "      <td>0.677513</td>\n",
       "      <td>0.997829</td>\n",
       "      <td>0.689469</td>\n",
       "    </tr>\n",
       "    <tr>\n",
       "      <th>model_10</th>\n",
       "      <td>14</td>\n",
       "      <td>1</td>\n",
       "      <td>2</td>\n",
       "      <td>100</td>\n",
       "      <td>0.676681</td>\n",
       "      <td>0.997715</td>\n",
       "      <td>0.692165</td>\n",
       "    </tr>\n",
       "    <tr>\n",
       "      <th>model_11</th>\n",
       "      <td>13</td>\n",
       "      <td>1</td>\n",
       "      <td>4</td>\n",
       "      <td>300</td>\n",
       "      <td>0.679951</td>\n",
       "      <td>0.986890</td>\n",
       "      <td>0.692121</td>\n",
       "    </tr>\n",
       "    <tr>\n",
       "      <th>model_12</th>\n",
       "      <td>13</td>\n",
       "      <td>1</td>\n",
       "      <td>6</td>\n",
       "      <td>100</td>\n",
       "      <td>0.680669</td>\n",
       "      <td>0.969421</td>\n",
       "      <td>0.682482</td>\n",
       "    </tr>\n",
       "    <tr>\n",
       "      <th>model_13</th>\n",
       "      <td>14</td>\n",
       "      <td>2</td>\n",
       "      <td>6</td>\n",
       "      <td>100</td>\n",
       "      <td>0.681085</td>\n",
       "      <td>0.926861</td>\n",
       "      <td>0.687039</td>\n",
       "    </tr>\n",
       "    <tr>\n",
       "      <th>model_14</th>\n",
       "      <td>15</td>\n",
       "      <td>1</td>\n",
       "      <td>6</td>\n",
       "      <td>100</td>\n",
       "      <td>0.682062</td>\n",
       "      <td>0.974998</td>\n",
       "      <td>0.696216</td>\n",
       "    </tr>\n",
       "    <tr>\n",
       "      <th>model_15</th>\n",
       "      <td>15</td>\n",
       "      <td>1</td>\n",
       "      <td>8</td>\n",
       "      <td>100</td>\n",
       "      <td>0.685420</td>\n",
       "      <td>0.960876</td>\n",
       "      <td>0.692965</td>\n",
       "    </tr>\n",
       "    <tr>\n",
       "      <th>model_16</th>\n",
       "      <td>15</td>\n",
       "      <td>1</td>\n",
       "      <td>10</td>\n",
       "      <td>50</td>\n",
       "      <td>0.692437</td>\n",
       "      <td>0.945221</td>\n",
       "      <td>0.692143</td>\n",
       "    </tr>\n",
       "    <tr>\n",
       "      <th>model_17</th>\n",
       "      <td>14</td>\n",
       "      <td>1</td>\n",
       "      <td>12</td>\n",
       "      <td>50</td>\n",
       "      <td>0.685422</td>\n",
       "      <td>0.927699</td>\n",
       "      <td>0.681998</td>\n",
       "    </tr>\n",
       "  </tbody>\n",
       "</table>\n",
       "</div>"
      ],
      "text/plain": [
       "          max_depth  min_samples_leaf  min_samples_split  n_estimators  \\\n",
       "model_1           2                 2                  2           300   \n",
       "model_2           4                 2                  2           200   \n",
       "model_3           6                 2                  2           200   \n",
       "model_4           8                 2                  2           100   \n",
       "model_5           9                 1                  2           300   \n",
       "model_6          10                 1                  4           100   \n",
       "model_7          11                 1                  2           100   \n",
       "model_8          12                 2                  2           200   \n",
       "model_9          14                 1                  2           100   \n",
       "model_10         14                 1                  2           100   \n",
       "model_11         13                 1                  4           300   \n",
       "model_12         13                 1                  6           100   \n",
       "model_13         14                 2                  6           100   \n",
       "model_14         15                 1                  6           100   \n",
       "model_15         15                 1                  8           100   \n",
       "model_16         15                 1                 10            50   \n",
       "model_17         14                 1                 12            50   \n",
       "\n",
       "          best_score  training_score  testing_score  \n",
       "model_1     0.566263        0.603033       0.575336  \n",
       "model_2     0.658521        0.775352       0.644449  \n",
       "model_3     0.675295        0.855762       0.679719  \n",
       "model_4     0.676458        0.906458       0.688464  \n",
       "model_5     0.677726        0.959611       0.697252  \n",
       "model_6     0.682092        0.965676       0.683474  \n",
       "model_7     0.683001        0.983536       0.691340  \n",
       "model_8     0.678435        0.946561       0.690018  \n",
       "model_9     0.677513        0.997829       0.689469  \n",
       "model_10    0.676681        0.997715       0.692165  \n",
       "model_11    0.679951        0.986890       0.692121  \n",
       "model_12    0.680669        0.969421       0.682482  \n",
       "model_13    0.681085        0.926861       0.687039  \n",
       "model_14    0.682062        0.974998       0.696216  \n",
       "model_15    0.685420        0.960876       0.692965  \n",
       "model_16    0.692437        0.945221       0.692143  \n",
       "model_17    0.685422        0.927699       0.681998  "
      ]
     },
     "execution_count": 59,
     "metadata": {},
     "output_type": "execute_result"
    }
   ],
   "source": [
    "et_params = {\n",
    "    'max_depth': [14, 15, 16, 17],\n",
    "    'min_samples_leaf': [1, 2, 3, 4],\n",
    "    'min_samples_split': [10, 11, 12],\n",
    "    'n_estimators': [25, 50, 75, 100],\n",
    "}\n",
    "\n",
    "gs = GridSearchCV(et, param_grid=et_params, cv = 5, n_jobs = 12)\n",
    "\n",
    "gs.fit(X_train, y_train)\n",
    "\n",
    "count += 1\n",
    "\n",
    "gs.best_params_['best_score'] = gs.best_score_\n",
    "\n",
    "gs.best_params_['training_score'] = gs.score(X_train, y_train)\n",
    "\n",
    "gs.best_params_['testing_score'] = gs.score(X_test, y_test)\n",
    "\n",
    "model_params[f'model_{count}'] = gs.best_params_\n",
    "\n",
    "model_df = pd.DataFrame.from_dict(model_params, orient='index')\n",
    "\n",
    "model_df"
   ]
  },
  {
   "cell_type": "code",
   "execution_count": null,
   "metadata": {},
   "outputs": [],
   "source": []
  }
 ],
 "metadata": {
  "kernelspec": {
   "display_name": "Python 3",
   "language": "python",
   "name": "python3"
  },
  "language_info": {
   "codemirror_mode": {
    "name": "ipython",
    "version": 3
   },
   "file_extension": ".py",
   "mimetype": "text/x-python",
   "name": "python",
   "nbconvert_exporter": "python",
   "pygments_lexer": "ipython3",
   "version": "3.7.9"
  }
 },
 "nbformat": 4,
 "nbformat_minor": 4
}
