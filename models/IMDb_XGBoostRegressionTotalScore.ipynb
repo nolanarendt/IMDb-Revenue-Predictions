{
 "cells": [
  {
   "cell_type": "markdown",
   "metadata": {},
   "source": [
    "# IMDB XGBoost Total Score\n",
    "![ImdbIcon](../images/imdbheader.jpg)"
   ]
  },
  {
   "cell_type": "code",
   "execution_count": 1,
   "metadata": {
    "scrolled": true
   },
   "outputs": [],
   "source": [
    "import pandas as pd\n",
    "import numpy as np\n",
    "import matplotlib.pyplot as plt\n",
    "import seaborn as sns\n",
    "\n",
    "from sklearn import linear_model\n",
    "from sklearn.model_selection import cross_val_score, train_test_split, GridSearchCV\n",
    "\n",
    "# Importing so that I can use LinearRegression and OLS Models.\n",
    "from sklearn.linear_model import LinearRegression, LogisticRegression\n",
    "from sklearn import metrics"
   ]
  },
  {
   "cell_type": "code",
   "execution_count": 2,
   "metadata": {},
   "outputs": [],
   "source": [
    "totalscore_df = pd.read_csv('../data/totalscore_df.csv')"
   ]
  },
  {
   "cell_type": "code",
   "execution_count": 3,
   "metadata": {},
   "outputs": [
    {
     "data": {
      "text/plain": [
       "Index(['movie_title', 'year', 'actors', 'plot', 'duration', 'Action',\n",
       "       'Adventure', 'Animation', 'Biography', 'Comedy', 'Crime', 'Documentary',\n",
       "       'Drama', 'Family', 'Fantasy', 'History', 'Horror', 'Music', 'Mystery',\n",
       "       'Romance', 'Sci-Fi', 'Sport', 'Thriller', 'War', 'Western', 'votes',\n",
       "       'weighted_average_vote', 'total_votes', 'mean_vote', 'median_vote',\n",
       "       'votes_1', 'votes_2', 'votes_3', 'votes_4', 'votes_5', 'votes_6',\n",
       "       'votes_7', 'votes_8', 'votes_9', 'votes_10', 'us_voters_rating',\n",
       "       'us_voters_votes', 'plot_sentiment', 'director_score', 'actor_score',\n",
       "       'actress_score', 'imdb_score'],\n",
       "      dtype='object')"
      ]
     },
     "execution_count": 3,
     "metadata": {},
     "output_type": "execute_result"
    }
   ],
   "source": [
    "totalscore_df.columns"
   ]
  },
  {
   "cell_type": "markdown",
   "metadata": {},
   "source": [
    "### XGBoost"
   ]
  },
  {
   "cell_type": "code",
   "execution_count": 4,
   "metadata": {},
   "outputs": [],
   "source": [
    "from xgboost import XGBRegressor"
   ]
  },
  {
   "cell_type": "code",
   "execution_count": 5,
   "metadata": {},
   "outputs": [],
   "source": [
    "xgb = XGBRegressor()"
   ]
  },
  {
   "cell_type": "code",
   "execution_count": 6,
   "metadata": {},
   "outputs": [],
   "source": [
    "features = ['duration', 'Action', 'Adventure', 'Animation', 'Biography', 'Comedy', 'Crime', 'Documentary',\n",
    "       'Drama', 'Family', 'Fantasy', 'History', 'Horror', 'Music', 'Mystery',\n",
    "       'Romance', 'Sci-Fi', 'Sport', 'Thriller', 'War', 'Western', 'votes',\n",
    "       'votes_2',  'votes_6',\n",
    "       'votes_7', 'plot_sentiment', 'director_score', 'actor_score',\n",
    "       'actress_score']"
   ]
  },
  {
   "cell_type": "code",
   "execution_count": 7,
   "metadata": {},
   "outputs": [],
   "source": [
    "X = totalscore_df[features]\n",
    "y = totalscore_df['imdb_score']"
   ]
  },
  {
   "cell_type": "code",
   "execution_count": 8,
   "metadata": {},
   "outputs": [],
   "source": [
    "X_train, X_test, y_train, y_test = train_test_split(X, y, test_size = 0.33, random_state = 42)"
   ]
  },
  {
   "cell_type": "code",
   "execution_count": 9,
   "metadata": {
    "scrolled": false
   },
   "outputs": [],
   "source": [
    "xgb.fit(X_train, y_train);"
   ]
  },
  {
   "cell_type": "code",
   "execution_count": 10,
   "metadata": {},
   "outputs": [
    {
     "name": "stdout",
     "output_type": "stream",
     "text": [
      "Training Score: 0.998554503519591\n",
      " \n",
      "Testing Score: 0.9429373281640024\n"
     ]
    }
   ],
   "source": [
    "print(\"Training Score:\", xgb.score(X_train, y_train))\n",
    "print(\" \")\n",
    "print(\"Testing Score:\", xgb.score(X_test, y_test))"
   ]
  },
  {
   "cell_type": "code",
   "execution_count": 11,
   "metadata": {},
   "outputs": [],
   "source": [
    "predictions = xgb.predict(X_train)\n",
    "\n",
    "residuals = y_train - predictions\n",
    "\n",
    "rss = (residuals ** 2).sum()\n",
    "\n",
    "mse = metrics.mean_squared_error(y_train, predictions)\n",
    "\n",
    "rmse = np.sqrt(metrics.mean_squared_error(y_train, predictions))"
   ]
  },
  {
   "cell_type": "code",
   "execution_count": 12,
   "metadata": {},
   "outputs": [],
   "source": [
    "null_predictions = np.zeros_like(y_test)\n",
    "\n",
    "null_pred = null_predictions + y_test.mean()\n",
    "\n",
    "baseline = metrics.mean_squared_error(y_test, null_pred, squared = False)"
   ]
  },
  {
   "cell_type": "code",
   "execution_count": 13,
   "metadata": {},
   "outputs": [
    {
     "name": "stdout",
     "output_type": "stream",
     "text": [
      "Baseline RMSE: 0.9847035992726725\n",
      " \n",
      "RMSE: 0.03831867954578737\n",
      "________________________________\n",
      " \n",
      "Difference: 0.9463849197268851\n"
     ]
    }
   ],
   "source": [
    "print(\"Baseline RMSE:\", baseline)\n",
    "print(\" \")\n",
    "print(\"RMSE:\", rmse)\n",
    "print(\"________________________________\")\n",
    "print(\" \")\n",
    "print(\"Difference:\", baseline - rmse)"
   ]
  },
  {
   "cell_type": "code",
   "execution_count": 14,
   "metadata": {},
   "outputs": [
    {
     "name": "stdout",
     "output_type": "stream",
     "text": [
      "RMSE: 0.03831867954578737\n",
      " \n",
      "Training Score: 0.998554503519591\n",
      " \n",
      "Testing Score: 0.9429373281640024\n"
     ]
    }
   ],
   "source": [
    "print(\"RMSE:\", rmse)\n",
    "print(\" \")\n",
    "print(\"Training Score:\", xgb.score(X_train, y_train))\n",
    "print(\" \")\n",
    "print(\"Testing Score:\", xgb.score(X_test, y_test))"
   ]
  },
  {
   "cell_type": "markdown",
   "metadata": {},
   "source": [
    "## GridSearch"
   ]
  },
  {
   "cell_type": "code",
   "execution_count": 15,
   "metadata": {},
   "outputs": [],
   "source": [
    "xgb = XGBRegressor()"
   ]
  },
  {
   "cell_type": "code",
   "execution_count": 16,
   "metadata": {},
   "outputs": [],
   "source": [
    "model_params = {}\n",
    "count = 0"
   ]
  },
  {
   "cell_type": "code",
   "execution_count": 19,
   "metadata": {},
   "outputs": [
    {
     "data": {
      "text/html": [
       "<div>\n",
       "<style scoped>\n",
       "    .dataframe tbody tr th:only-of-type {\n",
       "        vertical-align: middle;\n",
       "    }\n",
       "\n",
       "    .dataframe tbody tr th {\n",
       "        vertical-align: top;\n",
       "    }\n",
       "\n",
       "    .dataframe thead th {\n",
       "        text-align: right;\n",
       "    }\n",
       "</style>\n",
       "<table border=\"1\" class=\"dataframe\">\n",
       "  <thead>\n",
       "    <tr style=\"text-align: right;\">\n",
       "      <th></th>\n",
       "      <th>base_score</th>\n",
       "      <th>booster</th>\n",
       "      <th>learning_rate</th>\n",
       "      <th>max_depth</th>\n",
       "      <th>n_estimators</th>\n",
       "      <th>best_score</th>\n",
       "      <th>training_score</th>\n",
       "      <th>testing_score</th>\n",
       "    </tr>\n",
       "  </thead>\n",
       "  <tbody>\n",
       "    <tr>\n",
       "      <th>model_1</th>\n",
       "      <td>0.15</td>\n",
       "      <td>dart</td>\n",
       "      <td>0.15</td>\n",
       "      <td>3</td>\n",
       "      <td>300</td>\n",
       "      <td>0.959702</td>\n",
       "      <td>0.991233</td>\n",
       "      <td>0.958974</td>\n",
       "    </tr>\n",
       "    <tr>\n",
       "      <th>model_2</th>\n",
       "      <td>0.25</td>\n",
       "      <td>gbtree</td>\n",
       "      <td>0.20</td>\n",
       "      <td>3</td>\n",
       "      <td>500</td>\n",
       "      <td>0.960058</td>\n",
       "      <td>0.996267</td>\n",
       "      <td>0.960529</td>\n",
       "    </tr>\n",
       "    <tr>\n",
       "      <th>model_3</th>\n",
       "      <td>0.25</td>\n",
       "      <td>dart</td>\n",
       "      <td>0.15</td>\n",
       "      <td>3</td>\n",
       "      <td>600</td>\n",
       "      <td>0.961807</td>\n",
       "      <td>0.996040</td>\n",
       "      <td>0.963466</td>\n",
       "    </tr>\n",
       "  </tbody>\n",
       "</table>\n",
       "</div>"
      ],
      "text/plain": [
       "         base_score booster  learning_rate  max_depth  n_estimators  \\\n",
       "model_1        0.15    dart           0.15          3           300   \n",
       "model_2        0.25  gbtree           0.20          3           500   \n",
       "model_3        0.25    dart           0.15          3           600   \n",
       "\n",
       "         best_score  training_score  testing_score  \n",
       "model_1    0.959702        0.991233       0.958974  \n",
       "model_2    0.960058        0.996267       0.960529  \n",
       "model_3    0.961807        0.996040       0.963466  "
      ]
     },
     "execution_count": 19,
     "metadata": {},
     "output_type": "execute_result"
    }
   ],
   "source": [
    "xgb_params = {\n",
    "    'base_score' : [.25, .30, .35],\n",
    "    'booster' : ['gbtree', 'gblinear', 'dart'],\n",
    "    'learning_rate': [.15, .20, .25],\n",
    "    'max_depth' : [2, 3, 4],\n",
    "    'n_estimators': [400, 500, 600],\n",
    "}\n",
    "\n",
    "gs = GridSearchCV(xgb, param_grid = xgb_params, cv = 5, n_jobs = 12)\n",
    "\n",
    "gs.fit(X_train, y_train)\n",
    "\n",
    "count += 1\n",
    "\n",
    "gs.best_params_['best_score'] = gs.best_score_\n",
    "\n",
    "gs.best_params_['training_score'] = gs.score(X_train, y_train)\n",
    "\n",
    "gs.best_params_['testing_score'] = gs.score(X_test, y_test)\n",
    "\n",
    "model_params[f'model_{count}'] = gs.best_params_\n",
    "\n",
    "model_df = pd.DataFrame.from_dict(model_params, orient = 'index')\n",
    "\n",
    "model_df"
   ]
  },
  {
   "cell_type": "code",
   "execution_count": null,
   "metadata": {},
   "outputs": [],
   "source": []
  }
 ],
 "metadata": {
  "kernelspec": {
   "display_name": "Python 3",
   "language": "python",
   "name": "python3"
  },
  "language_info": {
   "codemirror_mode": {
    "name": "ipython",
    "version": 3
   },
   "file_extension": ".py",
   "mimetype": "text/x-python",
   "name": "python",
   "nbconvert_exporter": "python",
   "pygments_lexer": "ipython3",
   "version": "3.7.9"
  }
 },
 "nbformat": 4,
 "nbformat_minor": 4
}
