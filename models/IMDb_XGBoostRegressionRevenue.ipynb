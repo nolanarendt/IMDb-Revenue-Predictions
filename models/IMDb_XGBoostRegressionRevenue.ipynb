{
 "cells": [
  {
   "cell_type": "markdown",
   "metadata": {},
   "source": [
    "# IMDB XGBoost Revenue\n",
    "![ImdbIcon](../images/imdbheader.jpg)"
   ]
  },
  {
   "cell_type": "code",
   "execution_count": 20,
   "metadata": {
    "scrolled": true
   },
   "outputs": [],
   "source": [
    "import pandas as pd\n",
    "import numpy as np\n",
    "import matplotlib.pyplot as plt\n",
    "import seaborn as sns\n",
    "\n",
    "from sklearn import linear_model\n",
    "from sklearn.model_selection import cross_val_score, train_test_split, GridSearchCV\n",
    "\n",
    "# Importing so that I can use LinearRegression and OLS Models.\n",
    "from sklearn.linear_model import LinearRegression, LogisticRegression\n",
    "from sklearn import metrics"
   ]
  },
  {
   "cell_type": "code",
   "execution_count": 21,
   "metadata": {},
   "outputs": [],
   "source": [
    "revenue_df = pd.read_csv('../data/revenue_df.csv')"
   ]
  },
  {
   "cell_type": "code",
   "execution_count": 22,
   "metadata": {},
   "outputs": [
    {
     "data": {
      "text/plain": [
       "Index(['movie_title', 'year', 'tagline', 'plot', 'cast', 'duration', 'Action',\n",
       "       'Adventure', 'Animation', 'Biography', 'Comedy', 'Crime', 'Drama',\n",
       "       'Family', 'Fantasy', 'History', 'Horror', 'Music', 'Musical', 'Mystery',\n",
       "       'Romance', 'Sci-Fi', 'Sport', 'Thriller', 'War', 'Western', 'avg_vote',\n",
       "       'total_votes', 'us_voters_votes', 'votes', 'votes_1', 'votes_2',\n",
       "       'votes_3', 'votes_4', 'votes_5', 'votes_6', 'votes_7', 'votes_8',\n",
       "       'votes_9', 'votes_10', 'popularity', 'director_score', 'actor_score',\n",
       "       'actress_score', 'tagline_sentiment', 'plot_sentiment', 'total_score',\n",
       "       'profitable', 'budget', 'revenue', 'budget_adj', 'revenue_adj'],\n",
       "      dtype='object')"
      ]
     },
     "execution_count": 22,
     "metadata": {},
     "output_type": "execute_result"
    }
   ],
   "source": [
    "revenue_df.columns"
   ]
  },
  {
   "cell_type": "markdown",
   "metadata": {},
   "source": [
    "### XGBoost"
   ]
  },
  {
   "cell_type": "code",
   "execution_count": 23,
   "metadata": {},
   "outputs": [],
   "source": [
    "from xgboost import XGBRegressor"
   ]
  },
  {
   "cell_type": "code",
   "execution_count": 24,
   "metadata": {},
   "outputs": [],
   "source": [
    "xgb = XGBRegressor()"
   ]
  },
  {
   "cell_type": "code",
   "execution_count": 351,
   "metadata": {},
   "outputs": [],
   "source": [
    "features = ['year', 'duration', 'Action', 'Adventure', 'Animation', 'Comedy', 'Drama', 'Family', 'Music', 'Mystery', \n",
    "            'Romance', 'Sci-Fi',  'Thriller', 'total_votes', 'us_voters_votes','votes_1', 'votes_2', 'votes_3', \n",
    "            'votes_4', 'votes_5', 'votes_6', 'votes_7', 'votes_8', 'votes_9', 'votes_10', 'popularity', 'director_score', \n",
    "            'actor_score', 'actress_score', 'tagline_sentiment', 'plot_sentiment', 'total_score', 'profitable']"
   ]
  },
  {
   "cell_type": "code",
   "execution_count": 352,
   "metadata": {},
   "outputs": [],
   "source": [
    "X = revenue_df[features]\n",
    "y = revenue_df['revenue']"
   ]
  },
  {
   "cell_type": "code",
   "execution_count": 353,
   "metadata": {},
   "outputs": [],
   "source": [
    "X_train, X_test, y_train, y_test = train_test_split(X, y, test_size = 0.20, random_state = 42)"
   ]
  },
  {
   "cell_type": "code",
   "execution_count": 354,
   "metadata": {},
   "outputs": [
    {
     "data": {
      "text/plain": [
       "XGBRegressor(base_score=0.5, booster='gbtree', colsample_bylevel=1,\n",
       "             colsample_bynode=1, colsample_bytree=1, gamma=0, gpu_id=-1,\n",
       "             importance_type='gain', interaction_constraints='',\n",
       "             learning_rate=0.300000012, max_delta_step=0, max_depth=6,\n",
       "             min_child_weight=1, missing=nan, monotone_constraints='()',\n",
       "             n_estimators=100, n_jobs=24, num_parallel_tree=1, random_state=0,\n",
       "             reg_alpha=0, reg_lambda=1, scale_pos_weight=1, subsample=1,\n",
       "             tree_method='exact', validate_parameters=1, verbosity=None)"
      ]
     },
     "execution_count": 354,
     "metadata": {},
     "output_type": "execute_result"
    }
   ],
   "source": [
    "xgb.fit(X_train, y_train)"
   ]
  },
  {
   "cell_type": "code",
   "execution_count": 355,
   "metadata": {},
   "outputs": [],
   "source": [
    "predictions = xgb.predict(X_train)\n",
    "\n",
    "residuals = y_train - predictions\n",
    "\n",
    "rss = (residuals ** 2).sum()\n",
    "\n",
    "mse = metrics.mean_squared_error(y_train, predictions)\n",
    "\n",
    "rmse = np.sqrt(metrics.mean_squared_error(y_train, predictions))"
   ]
  },
  {
   "cell_type": "code",
   "execution_count": 356,
   "metadata": {
    "scrolled": true
   },
   "outputs": [
    {
     "name": "stdout",
     "output_type": "stream",
     "text": [
      "RMSE: 3261356.524632305\n",
      " \n",
      "Training Score: 0.9997115123728739\n",
      " \n",
      "Testing Score: 0.6019469423166042\n"
     ]
    }
   ],
   "source": [
    "print(\"RMSE:\", rmse)\n",
    "print(\" \")\n",
    "print(\"Training Score:\", xgb.score(X_train, y_train))\n",
    "print(\" \")\n",
    "print(\"Testing Score:\", xgb.score(X_test, y_test))"
   ]
  },
  {
   "cell_type": "code",
   "execution_count": 357,
   "metadata": {},
   "outputs": [],
   "source": [
    "null_predictions = np.zeros_like(y_test)\n",
    "\n",
    "null_pred = null_predictions + y_test.mean()\n",
    "\n",
    "baseline = metrics.mean_squared_error(y_test, null_pred, squared = False)"
   ]
  },
  {
   "cell_type": "code",
   "execution_count": 358,
   "metadata": {},
   "outputs": [
    {
     "name": "stdout",
     "output_type": "stream",
     "text": [
      "Baseline RMSE: 155540661.6705855\n",
      " \n",
      "RMSE: 3261356.524632305\n",
      "________________________________\n",
      " \n",
      "Difference: 152279305.1459532\n"
     ]
    }
   ],
   "source": [
    "print(\"Baseline RMSE:\", baseline)\n",
    "print(\" \")\n",
    "print(\"RMSE:\", rmse)\n",
    "print(\"________________________________\")\n",
    "print(\" \")\n",
    "print(\"Difference:\", baseline - rmse)"
   ]
  },
  {
   "cell_type": "markdown",
   "metadata": {},
   "source": [
    "## GridSearch"
   ]
  },
  {
   "cell_type": "code",
   "execution_count": 359,
   "metadata": {},
   "outputs": [],
   "source": [
    "xgb = XGBRegressor()"
   ]
  },
  {
   "cell_type": "code",
   "execution_count": 360,
   "metadata": {},
   "outputs": [],
   "source": [
    "model_params = {}\n",
    "count = 0"
   ]
  },
  {
   "cell_type": "code",
   "execution_count": 365,
   "metadata": {},
   "outputs": [
    {
     "data": {
      "text/html": [
       "<div>\n",
       "<style scoped>\n",
       "    .dataframe tbody tr th:only-of-type {\n",
       "        vertical-align: middle;\n",
       "    }\n",
       "\n",
       "    .dataframe tbody tr th {\n",
       "        vertical-align: top;\n",
       "    }\n",
       "\n",
       "    .dataframe thead th {\n",
       "        text-align: right;\n",
       "    }\n",
       "</style>\n",
       "<table border=\"1\" class=\"dataframe\">\n",
       "  <thead>\n",
       "    <tr style=\"text-align: right;\">\n",
       "      <th></th>\n",
       "      <th>base_score</th>\n",
       "      <th>booster</th>\n",
       "      <th>learning_rate</th>\n",
       "      <th>max_depth</th>\n",
       "      <th>n_estimators</th>\n",
       "      <th>best_score</th>\n",
       "      <th>training_score</th>\n",
       "      <th>testing_score</th>\n",
       "    </tr>\n",
       "  </thead>\n",
       "  <tbody>\n",
       "    <tr>\n",
       "      <th>model_1</th>\n",
       "      <td>0.05</td>\n",
       "      <td>gbtree</td>\n",
       "      <td>0.10</td>\n",
       "      <td>2</td>\n",
       "      <td>200</td>\n",
       "      <td>0.651482</td>\n",
       "      <td>0.904779</td>\n",
       "      <td>0.548136</td>\n",
       "    </tr>\n",
       "    <tr>\n",
       "      <th>model_2</th>\n",
       "      <td>0.01</td>\n",
       "      <td>dart</td>\n",
       "      <td>0.15</td>\n",
       "      <td>2</td>\n",
       "      <td>200</td>\n",
       "      <td>0.654042</td>\n",
       "      <td>0.926342</td>\n",
       "      <td>0.553760</td>\n",
       "    </tr>\n",
       "    <tr>\n",
       "      <th>model_3</th>\n",
       "      <td>0.01</td>\n",
       "      <td>dart</td>\n",
       "      <td>0.15</td>\n",
       "      <td>2</td>\n",
       "      <td>200</td>\n",
       "      <td>0.654042</td>\n",
       "      <td>0.926342</td>\n",
       "      <td>0.553760</td>\n",
       "    </tr>\n",
       "    <tr>\n",
       "      <th>model_4</th>\n",
       "      <td>0.01</td>\n",
       "      <td>dart</td>\n",
       "      <td>0.15</td>\n",
       "      <td>2</td>\n",
       "      <td>175</td>\n",
       "      <td>0.655008</td>\n",
       "      <td>0.920677</td>\n",
       "      <td>0.552459</td>\n",
       "    </tr>\n",
       "    <tr>\n",
       "      <th>model_5</th>\n",
       "      <td>0.01</td>\n",
       "      <td>dart</td>\n",
       "      <td>0.15</td>\n",
       "      <td>2</td>\n",
       "      <td>175</td>\n",
       "      <td>0.655008</td>\n",
       "      <td>0.920677</td>\n",
       "      <td>0.552459</td>\n",
       "    </tr>\n",
       "  </tbody>\n",
       "</table>\n",
       "</div>"
      ],
      "text/plain": [
       "         base_score booster  learning_rate  max_depth  n_estimators  \\\n",
       "model_1        0.05  gbtree           0.10          2           200   \n",
       "model_2        0.01    dart           0.15          2           200   \n",
       "model_3        0.01    dart           0.15          2           200   \n",
       "model_4        0.01    dart           0.15          2           175   \n",
       "model_5        0.01    dart           0.15          2           175   \n",
       "\n",
       "         best_score  training_score  testing_score  \n",
       "model_1    0.651482        0.904779       0.548136  \n",
       "model_2    0.654042        0.926342       0.553760  \n",
       "model_3    0.654042        0.926342       0.553760  \n",
       "model_4    0.655008        0.920677       0.552459  \n",
       "model_5    0.655008        0.920677       0.552459  "
      ]
     },
     "execution_count": 365,
     "metadata": {},
     "output_type": "execute_result"
    }
   ],
   "source": [
    "xgb_params = {\n",
    "    'base_score' : [.01, .05],\n",
    "    'booster' : ['gbtree', 'gblinear', 'dart'],\n",
    "    'learning_rate': [.10, .15, .20],\n",
    "    'max_depth' : [1, 2, 3],\n",
    "    'n_estimators': [150, 175, 200],\n",
    "}\n",
    "\n",
    "gs = GridSearchCV(xgb, param_grid = xgb_params, cv = 5, n_jobs = 12)\n",
    "\n",
    "gs.fit(X_train, y_train)\n",
    "\n",
    "count += 1\n",
    "\n",
    "gs.best_params_['best_score'] = gs.best_score_\n",
    "\n",
    "gs.best_params_['training_score'] = gs.score(X_train, y_train)\n",
    "\n",
    "gs.best_params_['testing_score'] = gs.score(X_test, y_test)\n",
    "\n",
    "model_params[f'model_{count}'] = gs.best_params_\n",
    "\n",
    "model_df = pd.DataFrame.from_dict(model_params, orient = 'index')\n",
    "\n",
    "model_df"
   ]
  },
  {
   "cell_type": "code",
   "execution_count": null,
   "metadata": {},
   "outputs": [],
   "source": []
  }
 ],
 "metadata": {
  "kernelspec": {
   "display_name": "Python 3",
   "language": "python",
   "name": "python3"
  },
  "language_info": {
   "codemirror_mode": {
    "name": "ipython",
    "version": 3
   },
   "file_extension": ".py",
   "mimetype": "text/x-python",
   "name": "python",
   "nbconvert_exporter": "python",
   "pygments_lexer": "ipython3",
   "version": "3.7.9"
  }
 },
 "nbformat": 4,
 "nbformat_minor": 4
}
